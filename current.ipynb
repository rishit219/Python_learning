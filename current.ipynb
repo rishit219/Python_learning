{
 "cells": [
  {
   "cell_type": "markdown",
   "id": "77254fa1",
   "metadata": {},
   "source": [
    "# Python basic data types --\n",
    "1. Python variables\n",
    "2. Integers and float\n",
    "3. String\n",
    "4. Booleans\n",
    "5. Printing"
   ]
  },
  {
   "cell_type": "markdown",
   "id": "d6737c82",
   "metadata": {},
   "source": [
    "# Python Basic data types --\n",
    "1. Data types are the categorisation of data items. Data types represent a kind of value which determines what operations can be performed on that data.\n",
    "2. **Numeric** -- Any representatin of data which has a numeric value.\n",
    "    (i) **Integer** -- Positive or negative whole numbers\n",
    "    (ii) **Float** -- Any real number with a floating-point representation in whicha fractional component is denoted by a decimal symbol.\n",
    "    (iii) **Complex no.** -- A number with real and imaginary components represented as ***x + yj*** where *x*, *y* are floats and *j* is the square root of -1.\n",
    "3. **Boolean** -- Data with one of the built-in values *true* or *False*.\n",
    "4. **Sequence type** -- An ordered collection of similar or different dat types. Python has the following built-in sequence data types --\n",
    "    (i) **String('')(\"\")(\"\"\"\"\"\")('''''')** -- It is a collection of on ore more characters put in single, double or triple quotes.\n",
    "    (ii) **List[]** -- A list object is an ordered collection of one or more data items, not necessarily of the same data type, put in square brackets. \n",
    "    (iii) **Tuple()** -- An ordered collection of one or more data items, not necessarily of the same data type, put in parantheses.\n",
    "    (iv) **Dictionary{key:value}** -- An onordered collection of data in *key:value* pairs in enclosed curly brackets.\n",
    "3. **type()** function -- Python has a built-in function to asscert in the data type of a certain value. The **type()** function tells us about the data type of a particular data.\n",
    "4. **Mutable** -- Mutable objects are the objects whose values can be changed later on. *List*, *dictionary* are mutable and hence value inside them can be added, deleted, inserted and rearranged.\n",
    "5. **Immutable** -- Thiose objects whose values cannot be altered after creation, Numbers, strings, tuples are immutable objects."
   ]
  },
  {
   "cell_type": "markdown",
   "id": "a06b062f",
   "metadata": {},
   "source": [
    "# Variables --\n",
    "## Why do we need variables --\n",
    "Anything we write in code is processed and stored in a random memory address and we do not know the particular memory address. So, in order to reuse a value, we need to give the variable a *reference* which we call a variable.\n",
    "## Naming variables --\n",
    "1. We cannot use Python's reserved keywords for naming variables. Ex - **if**, **for**, **while**, etc.\n",
    "2. Python is case-sensitive. So, x != X.\n",
    "3. According to pyrthon guide, variable names should be lower-case with words separated by underscores (_) as to improve readability.\n",
    "4. We cannot have spaces in variabe names. \n",
    "5. Special characters can also not be used in naming variables."
   ]
  },
  {
   "cell_type": "markdown",
   "id": "0333eedb",
   "metadata": {},
   "source": [
    "## Integers --\n",
    "The most yet most used data type. We don't need to declare the type of any variable.\n",
    "If we write x=3, Python will create a variable called **x** which will have **int** as its datatype.\n",
    "We can see this by writing **type(x)**."
   ]
  },
  {
   "cell_type": "code",
   "execution_count": 3,
   "id": "5856440e",
   "metadata": {},
   "outputs": [
    {
     "data": {
      "text/plain": [
       "int"
      ]
     },
     "execution_count": 3,
     "metadata": {},
     "output_type": "execute_result"
    }
   ],
   "source": [
    "x = 3\n",
    "type(x)"
   ]
  },
  {
   "cell_type": "markdown",
   "id": "14e7b56c",
   "metadata": {},
   "source": [
    "## Float --\n",
    "If we write x=3.0, Python will create a variable called **x** which will have **float** as its datatype. We can see it by writing **type(x)**."
   ]
  },
  {
   "cell_type": "code",
   "execution_count": 4,
   "id": "d15bdbd7",
   "metadata": {},
   "outputs": [
    {
     "data": {
      "text/plain": [
       "float"
      ]
     },
     "execution_count": 4,
     "metadata": {},
     "output_type": "execute_result"
    }
   ],
   "source": [
    "x = 3.0\n",
    "type(x)"
   ]
  },
  {
   "cell_type": "markdown",
   "id": "a6a6ae5a",
   "metadata": {},
   "source": [
    "### Performing an arithmetic operation between a float and an integer results in a float automatically."
   ]
  },
  {
   "cell_type": "markdown",
   "id": "114dff26",
   "metadata": {},
   "source": [
    "**Float Continued** --\n",
    "1. We can use scientific notation (10^x) as follows -- **x = .4e7**\n",
    "2. Any number bigger than **1.8 x 10^(308)** will be treated as **infinity**.\n",
    "3. Any number less than **5.0 x 10^(-324)** will be treated as **zero**.\n",
    "\n",
    "\n",
    "## Floating-point representation --\n"
   ]
  },
  {
   "cell_type": "markdown",
   "id": "76b11d10",
   "metadata": {},
   "source": [
    "# String --\n",
    "1. A string is basically a **sequence of characters**.\n",
    "2. Even **one character** is called a string.\n",
    "3. Even an **empty** string is a string.\n",
    "4. String is identified by a single quotation **('')** or double quotation **(\"\")**. \n",
    "\n",
    "\n",
    "5. The statement below will throw a syntax error --\n",
    "    'I'm a progrmmer'\n",
    "    because the compiler will assume that the string ended after I as there is a single quotation mark.\n",
    "    So, the correct way to write the above statement will be --\n",
    "    \"I'm a programmer\""
   ]
  },
  {
   "cell_type": "raw",
   "id": "54846d55",
   "metadata": {},
   "source": [
    "String special characters --\n",
    "If we want to avoid the hassle of quotation marks, we use the special character '\\'\n",
    "Example -- \n",
    "\"I\\'m a programmer\n",
    "\n",
    "The above statement will not throw an error.\n",
    "If we also want to include backslash in the code, we will use double backslash to show the one backslash/\n",
    "Ex -- \"I\\\\'m a programmer\"\n",
    "\n",
    "If we want to add a tab-space between two words or sentences int the string, we use the special character - \"\\t\"\n",
    "Ex -- \"First Sentence. \\t Second sentence\""
   ]
  },
  {
   "cell_type": "markdown",
   "id": "656c1613",
   "metadata": {},
   "source": [
    "# String Special characters --\n",
    "1. \\b - backspace\n",
    "2. \\f - new page\n",
    "3. \\n - new line\n",
    "4. \\t - new tab\n",
    "\n",
    "5. If we want to suppress the special characters, simply insert **r or R** at the start of the string."
   ]
  },
  {
   "cell_type": "code",
   "execution_count": 5,
   "id": "46a93472",
   "metadata": {},
   "outputs": [
    {
     "name": "stdout",
     "output_type": "stream",
     "text": [
      "This will not give \\t tab space\n",
      "This will give tab \t space\n"
     ]
    }
   ],
   "source": [
    "strr = r\"This will not give \\t tab space\"\n",
    "print(strr)\n",
    "strr2 = \"This will give tab \\t space\"\n",
    "print(strr2)\n",
    "\n",
    "empt_str = \" \" # even this is also a string/."
   ]
  },
  {
   "cell_type": "code",
   "execution_count": 6,
   "id": "68b19f8e",
   "metadata": {},
   "outputs": [
    {
     "name": "stdout",
     "output_type": "stream",
     "text": [
      "I'm learning \"programming\" \n",
      "I'm learning \"programming\"\n"
     ]
    }
   ],
   "source": [
    "\"\"\"\n",
    "Q. Create a variable that contains the following string --\n",
    "I'm learning \"programming\"\n",
    "\"\"\"\n",
    "# Ans - \n",
    "str_ = \"\"\"I'm learning \"programming\" \"\"\"\n",
    "print(str_)\n",
    "\n",
    "# OR\n",
    "\n",
    "str__ = \"I\\'m learning \\\"programming\\\"\"\n",
    "print(str__)"
   ]
  },
  {
   "cell_type": "markdown",
   "id": "580625eb",
   "metadata": {},
   "source": [
    "# String operations --\n",
    "1. We can add two strings.\n",
    "2. We cannot multiply two strings.\n",
    "3. We can multiply a string by an integer. The output is the string repeated the number of times the integer.\n",
    "4. We can check if a string is in another string using an opertor called **in** operator.\n",
    "5. Python has a lot of **built-in** functions for every data type.\n",
    "6. Example --\n",
    "    (i) **chr()** - converts int to character.\n",
    "    (ii) **len()** - calculates the length of string.\n",
    "    (iii) **srt()** - converts to string.\n",
    "    (iv) **ord()** - converts to integer."
   ]
  },
  {
   "cell_type": "code",
   "execution_count": 7,
   "id": "18240a11",
   "metadata": {},
   "outputs": [
    {
     "name": "stdout",
     "output_type": "stream",
     "text": [
      "Rishi Thakur\n"
     ]
    }
   ],
   "source": [
    "# String addition --\n",
    "first_str = \"Rishi\"\n",
    "second_str = \"Thakur\"\n",
    "result_str = first_str + \" \" + second_str\n",
    "print(result_str)"
   ]
  },
  {
   "cell_type": "code",
   "execution_count": 8,
   "id": "886ee6f8",
   "metadata": {},
   "outputs": [
    {
     "name": "stdout",
     "output_type": "stream",
     "text": [
      "Rishi ThakurRishi ThakurRishi Thakur\n"
     ]
    }
   ],
   "source": [
    "# String*int --\n",
    "print(result_str*3)"
   ]
  },
  {
   "cell_type": "code",
   "execution_count": 9,
   "id": "0cb563b6",
   "metadata": {},
   "outputs": [
    {
     "data": {
      "text/plain": [
       "True"
      ]
     },
     "execution_count": 9,
     "metadata": {},
     "output_type": "execute_result"
    }
   ],
   "source": [
    "check = \"Rishi Thakur\"\n",
    "first_str in check"
   ]
  },
  {
   "cell_type": "code",
   "execution_count": 10,
   "id": "f858f520",
   "metadata": {},
   "outputs": [
    {
     "data": {
      "text/plain": [
       "True"
      ]
     },
     "execution_count": 10,
     "metadata": {},
     "output_type": "execute_result"
    }
   ],
   "source": [
    "second_str in check"
   ]
  },
  {
   "cell_type": "code",
   "execution_count": 11,
   "id": "0b06010d",
   "metadata": {},
   "outputs": [
    {
     "data": {
      "text/plain": [
       "True"
      ]
     },
     "execution_count": 11,
     "metadata": {},
     "output_type": "execute_result"
    }
   ],
   "source": [
    "result_str in check"
   ]
  },
  {
   "cell_type": "code",
   "execution_count": 12,
   "id": "c71504a2",
   "metadata": {},
   "outputs": [
    {
     "data": {
      "text/plain": [
       "True"
      ]
     },
     "execution_count": 12,
     "metadata": {},
     "output_type": "execute_result"
    }
   ],
   "source": [
    "space = \" \"\n",
    "space in check"
   ]
  },
  {
   "cell_type": "code",
   "execution_count": 13,
   "id": "d9412f61",
   "metadata": {},
   "outputs": [
    {
     "name": "stdout",
     "output_type": "stream",
     "text": [
      "Rishi thakur\n"
     ]
    }
   ],
   "source": [
    "# write string_name then . at the end and then press tab to see all \n",
    "# the functions\n",
    "print(check.capitalize())"
   ]
  },
  {
   "cell_type": "code",
   "execution_count": 14,
   "id": "d86aee2f",
   "metadata": {},
   "outputs": [
    {
     "name": "stdout",
     "output_type": "stream",
     "text": [
      "rishi thakur\n"
     ]
    }
   ],
   "source": [
    "print(check.lower())"
   ]
  },
  {
   "cell_type": "code",
   "execution_count": 15,
   "id": "6b6387b7",
   "metadata": {},
   "outputs": [
    {
     "name": "stdout",
     "output_type": "stream",
     "text": [
      "RISHI THAKUR\n"
     ]
    }
   ],
   "source": [
    "print(check.upper())"
   ]
  },
  {
   "cell_type": "code",
   "execution_count": 16,
   "id": "c617aa9d",
   "metadata": {},
   "outputs": [
    {
     "data": {
      "text/plain": [
       "12"
      ]
     },
     "execution_count": 16,
     "metadata": {},
     "output_type": "execute_result"
    }
   ],
   "source": [
    "len(check)"
   ]
  },
  {
   "cell_type": "code",
   "execution_count": 17,
   "id": "3a73bc2a",
   "metadata": {},
   "outputs": [
    {
     "name": "stdout",
     "output_type": "stream",
     "text": [
      "CONVERT TO ALL CAPITAL LETTERS\n",
      "30\n"
     ]
    }
   ],
   "source": [
    "\"\"\"\n",
    "Q. Convert the given string to all capital letters\n",
    "and calculate it's length.\n",
    "\"\"\"\n",
    "str_quiz = \"convert to all capital letters\"\n",
    "str_capital = str_quiz.upper()\n",
    "str_len = len(str_quiz)\n",
    "print(str_capital)\n",
    "print(str_len)"
   ]
  },
  {
   "cell_type": "markdown",
   "id": "160dbaba",
   "metadata": {},
   "source": [
    "# String indexing -- \n",
    "1. Indexing is done using **[]**.\n",
    "2. Indexing is **zero-based** -- counting starts from **0** and not **1**.\n",
    "3. We can also index strings using the reverse order, where **-1** corresponds to the last character in the string.\n",
    "4. If we use an index bigger than the length of the string, an error will be thrown."
   ]
  },
  {
   "cell_type": "code",
   "execution_count": 18,
   "id": "05865172",
   "metadata": {},
   "outputs": [
    {
     "data": {
      "text/plain": [
       "'Rishi Thakur'"
      ]
     },
     "execution_count": 18,
     "metadata": {},
     "output_type": "execute_result"
    }
   ],
   "source": [
    "check"
   ]
  },
  {
   "cell_type": "code",
   "execution_count": 19,
   "id": "4d03828d",
   "metadata": {},
   "outputs": [
    {
     "data": {
      "text/plain": [
       "'r'"
      ]
     },
     "execution_count": 19,
     "metadata": {},
     "output_type": "execute_result"
    }
   ],
   "source": [
    "# printing the last letter.\n",
    "check[-1]"
   ]
  },
  {
   "cell_type": "code",
   "execution_count": 20,
   "id": "4789f2d7",
   "metadata": {},
   "outputs": [
    {
     "data": {
      "text/plain": [
       "12"
      ]
     },
     "execution_count": 20,
     "metadata": {},
     "output_type": "execute_result"
    }
   ],
   "source": [
    "# lets try to print an index greater than the length of string --\n",
    "len(check)"
   ]
  },
  {
   "cell_type": "code",
   "execution_count": 21,
   "id": "fbba6107",
   "metadata": {},
   "outputs": [
    {
     "ename": "IndexError",
     "evalue": "string index out of range",
     "output_type": "error",
     "traceback": [
      "\u001b[1;31m---------------------------------------------------------------------------\u001b[0m",
      "\u001b[1;31mIndexError\u001b[0m                                Traceback (most recent call last)",
      "\u001b[1;32m~\\AppData\\Local\\Temp/ipykernel_14644/769595003.py\u001b[0m in \u001b[0;36m<module>\u001b[1;34m\u001b[0m\n\u001b[0;32m      2\u001b[0m \u001b[1;31m# we will get an error because strings are zero-indexed,\u001b[0m\u001b[1;33m\u001b[0m\u001b[1;33m\u001b[0m\u001b[0m\n\u001b[0;32m      3\u001b[0m \u001b[1;31m# so if the length is 12, the index of last character is 11\u001b[0m\u001b[1;33m\u001b[0m\u001b[1;33m\u001b[0m\u001b[0m\n\u001b[1;32m----> 4\u001b[1;33m \u001b[0mcheck\u001b[0m\u001b[1;33m[\u001b[0m\u001b[1;36m12\u001b[0m\u001b[1;33m]\u001b[0m\u001b[1;33m\u001b[0m\u001b[1;33m\u001b[0m\u001b[0m\n\u001b[0m",
      "\u001b[1;31mIndexError\u001b[0m: string index out of range"
     ]
    }
   ],
   "source": [
    "# even if we call the index number equal to length of string,\n",
    "# we will get an error because strings are zero-indexed,\n",
    "# so if the length is 12, the index of last character is 11\n",
    "check[12]"
   ]
  },
  {
   "cell_type": "code",
   "execution_count": null,
   "id": "84bddc06",
   "metadata": {},
   "outputs": [],
   "source": [
    "check[11]"
   ]
  },
  {
   "cell_type": "markdown",
   "id": "19034bbc",
   "metadata": {},
   "source": [
    "# String slicing --\n",
    "1. We use **:** to specify the slice start and end.\n",
    "2. The end index is not included.\n",
    "\n",
    "## String stride --\n",
    "1. By default, stride is one.\n",
    "2. If we want to change stride, we use another **:**.\n",
    "3. It is like this -- **[start : end : stride]**.\n",
    "\n",
    "## String useful functions --\n",
    "1. **string_name.count(\"ch\")** -- counts the occurences of a character in a string.\n",
    "2. **string_name.find(\"ch\")** -- returns the index of the first occurence of a particular character."
   ]
  },
  {
   "cell_type": "code",
   "execution_count": null,
   "id": "25638f25",
   "metadata": {},
   "outputs": [],
   "source": [
    "\"\"\"\n",
    "Q. Snowball is one of the most famous poems in literature.\n",
    "It says --\n",
    "\"I made myself a snowball\n",
    "As perfect as could be.\n",
    "I thought I'd keep it as a pet\n",
    "And let it sleep with me.\n",
    "I made it some pajamas\n",
    "And a pillow for its head.\n",
    "Then last night it ran away,\n",
    "But first it wet the bed.\n",
    "\n",
    "1. How many times does the poem have 'it' word.\n",
    "2. How many total characters are in the poem, including spaces and punctuations.\n",
    "3. Tell the first ocurrence of the word 'it'.\n",
    "4. Where is the last occurence of the word 'I'.\n",
    "\"\"\"\n",
    "# Ans --\n",
    "snowball = \"I made myself a snowball\\nAs perfect as could be.\\nI thought I'd keep it as a pet\\nAnd let it sleep with me.\\nI made it some pajamas\\nAnd a pillow for its head.\\nThen last night it ran away,\\nBut first it wet the bed.\"\n",
    "it_count = snowball.count(\"it\")\n",
    "print(it_count)\n",
    "poem_len = len(snowball)\n",
    "print(poem_len)\n",
    "it_location = snowball.find(\"it\")\n",
    "print(it_location)\n",
    "I_last = snowball.rindex(\"I\")\n",
    "print(I_last)"
   ]
  },
  {
   "cell_type": "markdown",
   "id": "6901420d",
   "metadata": {},
   "source": [
    "# Boolean --\n",
    "1. Boolean can have one of two values -- **True** or **False**.\n",
    "2. Any python expression can either be *True* or *False*. So, any Python expression is a Boolean."
   ]
  },
  {
   "cell_type": "markdown",
   "id": "8c5e502b",
   "metadata": {},
   "source": [
    "# Printing --\n",
    "1. Syntax of the print function --\n",
    "        print(object,sep,end,file,flush)\n",
    "2. By default, the print function prints in the current Python kernel.\n",
    "3. Can print variables by writing **f** before the quotation marks and writing the variables betweeen curly brackets.\n",
    "\n",
    "## Format function --\n",
    "1. Makes printng variables much easier and readable.\n",
    "2. One of the most-used string functions.\n",
    "3. Syntax --\n",
    "        string_name.formaat(value1, value2)"
   ]
  },
  {
   "cell_type": "code",
   "execution_count": null,
   "id": "91ef9f8c",
   "metadata": {},
   "outputs": [],
   "source": [
    "x=21\n",
    "print(x)"
   ]
  },
  {
   "cell_type": "code",
   "execution_count": null,
   "id": "3658e177",
   "metadata": {},
   "outputs": [],
   "source": [
    "# Printing variables --\n",
    "print(f\"The value of x is {x}\")"
   ]
  },
  {
   "cell_type": "markdown",
   "id": "c33136ac",
   "metadata": {},
   "source": [
    "# Python operators --\n",
    "1. Arithmetic -- Used with numeric values to perform common mathematical problems. [+, -, *, /, %, //, ***]\n",
    "2. Assignment -- Used to assign values to variables. [=, +=,=+, *=, %=,//=]\n",
    "3. Comparison -- Used to compare two values. [==, !=, <, <=, >, >=]\n",
    "4. Logical -- Used to combine conditional statements. [**not**, **or**, **and**]\n",
    "5. Identity -- Used to compare the objects, not if they are equal,but if they are actually the same object. [**is**, **not is**]\n",
    "6. Membership -- Used to  test if a sequence is present in an object. [**in**, **not in**]\n",
    "7. Bitwise -- Used to compare binary numbers. [**&**, **|**, **~**, **^**, **>>**, **<<**]"
   ]
  },
  {
   "cell_type": "code",
   "execution_count": null,
   "id": "f5089a59",
   "metadata": {},
   "outputs": [],
   "source": [
    "2+3"
   ]
  },
  {
   "cell_type": "code",
   "execution_count": null,
   "id": "993f0c50",
   "metadata": {},
   "outputs": [],
   "source": [
    "4-5"
   ]
  },
  {
   "cell_type": "code",
   "execution_count": null,
   "id": "fe9acd69",
   "metadata": {},
   "outputs": [],
   "source": [
    "4**2"
   ]
  },
  {
   "cell_type": "code",
   "execution_count": null,
   "id": "99d5ddc2",
   "metadata": {},
   "outputs": [],
   "source": [
    "10//4"
   ]
  },
  {
   "cell_type": "markdown",
   "id": "7abaf29e",
   "metadata": {},
   "source": [
    "# Floating point problem --\n",
    "What should be the result of this --\n",
    "1.1 + 2.2 == 3.3\n",
    "It should be **True** right?\n",
    "But, when you run the code, the answer will be **False**.\n",
    "This is not an error or a problem in Python, but is a limitation of the *hardware*."
   ]
  },
  {
   "cell_type": "code",
   "execution_count": null,
   "id": "4b643beb",
   "metadata": {},
   "outputs": [],
   "source": [
    "1.1+2.2==3.3"
   ]
  },
  {
   "cell_type": "code",
   "execution_count": null,
   "id": "50b920aa",
   "metadata": {},
   "outputs": [],
   "source": [
    "print(1.1+2.2)"
   ]
  },
  {
   "cell_type": "markdown",
   "id": "31fa6dba",
   "metadata": {},
   "source": [
    "### Logical operators --\n",
    "What is **True** and **False** for logical operatoes --\n",
    "1. **False** --\n",
    "        (i) Zero numerical values - 0.0, 0, 0.0+0\n",
    "        (ii) Empty Strings\n",
    "        (iii) Empty objects\n",
    "        (iv) **None** keyword\n",
    "2. **True** --\n",
    "        Anything else rather than the above values is *True* in Python.\n",
    "        \n",
    "#### Truthness vs Equality --\n",
    "If we check the **truthness** of an empty string using the built-in function **bool('')**, we will find it false.\n",
    "However, if we check the equality with the equality operator, we will also get False, and hence we will be confused."
   ]
  },
  {
   "cell_type": "code",
   "execution_count": null,
   "id": "d5471a55",
   "metadata": {},
   "outputs": [],
   "source": [
    "print(\"\"==False)\n",
    "print(\"\"==True)"
   ]
  },
  {
   "cell_type": "markdown",
   "id": "eb354bff",
   "metadata": {},
   "source": [
    "The main reason why we get both the statements above to be False because we are using comparison operator. And, as a matter of fact, two objects of different data types never compare equal except numerical, and hence **\"\"** is a *string* and **False/True** is a *bool*. So, we will always get False as **String != bool**."
   ]
  },
  {
   "cell_type": "code",
   "execution_count": null,
   "id": "b505fe83",
   "metadata": {},
   "outputs": [],
   "source": [
    "\"\"\"\n",
    "Q. Use any one of the logical and get the output as True\n",
    "\"\"\"\n",
    "num1 = 10\n",
    "num2 = 50\n",
    "num3 = 14\n",
    "# Ans --\n",
    "bool_exp = (num1<num3 and num3<num2)\n",
    "bool_exp2 = (num1==num2 or num2>(num1+num3))\n",
    "print(bool_exp)\n",
    "print(bool_exp2)"
   ]
  },
  {
   "cell_type": "markdown",
   "id": "382c3398",
   "metadata": {},
   "source": [
    "### Identity operators --\n",
    "##### Identity vs equality --\n",
    "The **equality** operator checks if the **values** are the same.\n",
    "Whereas, the **is** operator checks if the **variables (objects)** are the same."
   ]
  },
  {
   "cell_type": "code",
   "execution_count": null,
   "id": "70a3c491",
   "metadata": {},
   "outputs": [],
   "source": [
    "x=100;y=100\n",
    "print(x==y) ## Equality operator -- comparing values"
   ]
  },
  {
   "cell_type": "code",
   "execution_count": null,
   "id": "ed5f9ad5",
   "metadata": {},
   "outputs": [],
   "source": [
    "print(x is  y) ##Identity operator, comparing variables (MEMORY ADDRESS)"
   ]
  },
  {
   "cell_type": "code",
   "execution_count": null,
   "id": "50696755",
   "metadata": {},
   "outputs": [],
   "source": [
    "id(x)"
   ]
  },
  {
   "cell_type": "code",
   "execution_count": null,
   "id": "81ce989c",
   "metadata": {},
   "outputs": [],
   "source": [
    "id(y)"
   ]
  },
  {
   "cell_type": "markdown",
   "id": "c7e79fcf",
   "metadata": {},
   "source": [
    "We can see that both the variables are at the same memory address.\n",
    "This is because in python, any value between **-5** and **256** are stored in the same memory address and the varibables with same value are referenced to the value if they are in the same code block for memory optimisation. "
   ]
  },
  {
   "cell_type": "code",
   "execution_count": null,
   "id": "36c99d77",
   "metadata": {},
   "outputs": [],
   "source": [
    "# Membership --\n",
    "str_in = \"Rishi Thakur\"\n",
    "\"i T\" in str_in"
   ]
  },
  {
   "cell_type": "code",
   "execution_count": null,
   "id": "28661630",
   "metadata": {},
   "outputs": [],
   "source": [
    "# function to convert int to binary --\n",
    "p = 30\n",
    "bin(p)"
   ]
  },
  {
   "cell_type": "code",
   "execution_count": null,
   "id": "53e4b21f",
   "metadata": {},
   "outputs": [],
   "source": [
    "q = 10\n",
    "r = p|q\n",
    "r"
   ]
  },
  {
   "cell_type": "markdown",
   "id": "941c0037",
   "metadata": {},
   "source": [
    "# Python advanced datatypes ---\n",
    "\n",
    "## 1. Lists[] --\n",
    "1. List is a collection of items of different data types. It is an ordered sequence of  items.\n",
    "2. A list object contains one or more data items, not necessarily of the same type, which are separated by commas and enclosed in square brackets[].\n",
    "3. Syntax -- \n",
    "        list_name = [value1, value2, value3, .....]\n",
    "4. The list is zero-indexed.\n",
    "\n",
    "## 2. Tuples() --\n",
    "1. Tuple is a collection of any Python data type, same as the list.\n",
    "2. Unlike list, tuple is immutable.A tuple object contains one or more data items, not necessarily of the same type, which are separated by commas and enclosed in parantheses().\n",
    "3. Syntax -- \n",
    "        tuple_name = (value1, value2, value3, .....)\n",
    "4. It is not necessary to enclose the tuple elements in parantheses. The tuple object can include elements separated by a comma without parantheses.\n",
    "\n",
    "## 3. Sets{} --\n",
    "1. A set is a collection of data types in Python, same as list and tuple. However, it is not an ordered collection of objects.\n",
    "2. A set object performs mathematical set operations like union, intersection, difference, etc.\n",
    "3. A set object contains one or more items, not necessarily of the same data type, which are sepaated by comma and enclosed in curly brackets{}.\n",
    "4. Syntax --\n",
    "        set_name = {value1, value2, value3, ....}\n",
    "5. A set dosen't store duplicate values. Even if an object is added more than once inside the  set, only one copy is held in the set object. Hence, indexing and slicing cannot be done on sets.\n",
    "5. **set()** function -- Python has a built-in function in which a set object can be constructed out of any sequence such as a string, list or a tuple.\n",
    "6. A set is mutable.\n",
    "7. Set dosen't have order.\n",
    "## 4. Dictionary{k:v} --\n",
    "1. Dictionary is also a collection of data type. However, it's not an ordered sequence, and it contains **key:value** pairs.\n",
    "2. One or more **key:value** pairs separated by commas are put inside curly brackets to form a dictionary object.\n",
    "3. Syntax --\n",
    "        dict_name = {key1:value1, key2:value2, .....}\n",
    "4. A number, string, or tuple can be used as a key.\n",
    "5. A dictinary with a list as a key is not valid, as list is mutable. A list can be used as value though.\n",
    "6. The same key cannot appear more than once in a dictionary. If the key appears more than once, only the last value of the key will be retained.\n",
    "7. Key needs to be unique, but two keys can have the same value.\n",
    "8. Dictionary is not anordered collection, so a value cannot be accessed using an index in square brackets. To fetch a value from the dictionary, we need the assosciated key of that value using the **get()** method. \n",
    "\n",
    "## 5. Compound data structure --\n",
    "1. Python is very flexible in the value of any advanced data type, **other than the set**.\n",
    "2. We can do the following --\n",
    "\n",
    "    (i) my_list = [1, (3,4,\"a\"),6.6,\"Str\"]\n",
    "    (ii) my_tuple = (2,34, }{1:56},90, [98,21,43])\n",
    "    (iii) my_dict = {1:[\"lost\",6], 2:{45:\"goat\"}}"
   ]
  },
  {
   "cell_type": "code",
   "execution_count": null,
   "id": "e212f1ae",
   "metadata": {
    "scrolled": true
   },
   "outputs": [],
   "source": [
    "\"\"\"\n",
    "Q. Given below is a list with 9 elements.\n",
    "1. Get the last 4 elements of a list and store them in a diferent list.\n",
    "2. Get the maximum value of the list and store it in a separate variable.\n",
    "3. Sort the values of the original list in ascending order.\n",
    "4. Add the selements from task 3 to the original list.\n",
    "\"\"\"\n",
    "my_list = [100 , 30 , 2 , 15 , -4 , 3 , 40 , -9 , 10]\n",
    "last4 = my_list[-4:]\n",
    "max_val = max(my_list)\n",
    "sorted_list = sorted(my_list)\n",
    "added_list = my_list + sorted_list\n",
    "print(last4)\n",
    "print(sorted_list)\n",
    "print(added_list)"
   ]
  },
  {
   "cell_type": "markdown",
   "id": "f93022be",
   "metadata": {},
   "source": [
    "## List Slicing and indexing --\n",
    "A string is actually a **list** of characters.\n",
    "So, all the rules of strings do aply here.\n",
    "\n",
    "### **List Slicing** --\n",
    "1. Zero-based\n",
    "2. Square brackets todefine it.\n",
    "3. Comma to separate elements.\n",
    "4. Colon to slice.\n",
    "\n",
    "**But this does not make lists and string to be equal**"
   ]
  },
  {
   "cell_type": "code",
   "execution_count": null,
   "id": "186fe18b",
   "metadata": {
    "scrolled": true
   },
   "outputs": [],
   "source": [
    "# **But this does not make lists and string to be equal**\n",
    "list_ex = [1,2,3]\n",
    "list_ex[1]=\"Rishi\"\n",
    "string_ex = \"Python\"\n",
    "string_ex[1] = \"R\"\n",
    "\n",
    "# This code will not work because strings are immutable,\n",
    "# whereas lists are mutable."
   ]
  },
  {
   "cell_type": "code",
   "execution_count": null,
   "id": "dcf1fc5f",
   "metadata": {},
   "outputs": [],
   "source": [
    "\"\"\"\n",
    "Q. Count how many '4' we have in the provided tuple\n",
    "and store it in a separate variable.\n",
    "\"\"\"\n",
    "tuple_4 = (1,6,4,10,2,10,4,\"hi\",104.2,4)\n",
    "# Ans --\n",
    "count_4 = tuple_4.count(4)\n",
    "print(count_4)"
   ]
  },
  {
   "cell_type": "code",
   "execution_count": null,
   "id": "5236a2e8",
   "metadata": {},
   "outputs": [],
   "source": [
    "# Sets do not have an index --\n",
    "# so this code will surely throw an error\n",
    "set1 = {1,2,3}\n",
    "print(set1[1])"
   ]
  },
  {
   "cell_type": "code",
   "execution_count": null,
   "id": "93f8581e",
   "metadata": {},
   "outputs": [],
   "source": [
    "# sets only hold unique values --\n",
    "set2 = {4,2,1,6,1}\n",
    "print(set2)"
   ]
  },
  {
   "cell_type": "markdown",
   "id": "a25cc927",
   "metadata": {},
   "source": [
    "We can add elements in a set using the **add** function.\n",
    "We can remove elements from a set using the **pop** function.\n",
    "The **pop** function removes the first element in the set."
   ]
  },
  {
   "cell_type": "code",
   "execution_count": null,
   "id": "a88e85ae",
   "metadata": {},
   "outputs": [],
   "source": [
    "set2\n",
    "set2.add(8)\n",
    "print(set2)"
   ]
  },
  {
   "cell_type": "code",
   "execution_count": null,
   "id": "6241a88d",
   "metadata": {
    "scrolled": true
   },
   "outputs": [],
   "source": [
    "# popping 1 --\n",
    "set2.pop()\n",
    "print(set2)"
   ]
  },
  {
   "cell_type": "code",
   "execution_count": null,
   "id": "3d3ff360",
   "metadata": {},
   "outputs": [],
   "source": [
    "## checking if a key exists in a dictionary or nor --\n",
    "dict2 = {1:\"one\", 2:\"two\", 3:\"three\"}\n",
    "print(1 in dict2)"
   ]
  },
  {
   "cell_type": "code",
   "execution_count": null,
   "id": "1df183bb",
   "metadata": {},
   "outputs": [],
   "source": [
    "## if we want the values of a key of a dictionary, we use the\n",
    "## get() function.\n",
    "dict2.get(2)"
   ]
  },
  {
   "cell_type": "markdown",
   "id": "21355a8f",
   "metadata": {},
   "source": [
    "1. Adding elements in a dictionary - \n",
    "dict_name[key] = value"
   ]
  },
  {
   "cell_type": "code",
   "execution_count": null,
   "id": "89a95576",
   "metadata": {},
   "outputs": [],
   "source": [
    "\"\"\"\n",
    "Q. Create an empty dictionary for the grocery items.\n",
    "Then add the items as follows --\n",
    "Apple --> 4\n",
    "Banana --> 6\n",
    "Cucumber --> 2\n",
    "Pizza --> 2\n",
    "Chocolate --> 3\n",
    "\"\"\"\n",
    "dict3 = {}\n",
    "dict3[\"Apple\"] = 4\n",
    "dict3[\"Banana\"] = 6\n",
    "dict3[\"Cucumber\"] = 2\n",
    "dict3[\"Pizza\"] = 2\n",
    "dict3[\"Chocolate\"] = 3\n",
    "print(dict3)"
   ]
  },
  {
   "cell_type": "code",
   "execution_count": null,
   "id": "b5c59c40",
   "metadata": {},
   "outputs": [],
   "source": [
    "\"\"\"\n",
    "Q. How to access '10000' in the following example --\n",
    "compound_dict = { 10 : [ 3 , [ 10 , { 3 : 10000 , 2 : 50 } , 3 ] ] , 2: \"hi\"}\n",
    "\n",
    "1. compound_dict[3]\n",
    "2. compound_dict[10,1,3]\n",
    "3. compound_dict[10][1][1][3]\n",
    "\"\"\"\n",
    "# Ans --\n",
    "compound_dict = { 10 : [ 3 , [ 10 , { 3 : 10000 , 2 : 50 } , 3 ] ] , 2: \"hi\"}\n",
    "compound_dict[10][1][1][3]"
   ]
  },
  {
   "cell_type": "markdown",
   "id": "2d5e5e2c",
   "metadata": {},
   "source": [
    "## When to use each datatype ?\n",
    "\n",
    "#### Lists --\n",
    "Use **lists** when we do not have any special cases that we want to take care of, and we want our list to be ordered for indexing.\n",
    "### Tuples --\n",
    "Use **tuples** only when we are sure that the values inside them should *not* be changed no matter what. So, tuples is the best way to assure that.\n",
    "### Dictionaries --\n",
    "Use **dictionaries** when we want to have some sort of relation between some unique variables and other non-unique variables, as we are only concerned with the key.\n",
    "### Sets --\n",
    "Use **sets** when we know that any repeated data will be redundant. So, sets can be very efficient in *ignoring* redundant data and **increase** the *performance* of any algorithm."
   ]
  },
  {
   "cell_type": "markdown",
   "id": "98684ce1",
   "metadata": {},
   "source": [
    "## Control flow -- \n",
    "1. Control flow\n",
    "2. Conditional Statements -- **if**, **else**, **elif**\n",
    "3. for loops\n",
    "4. while loops"
   ]
  },
  {
   "cell_type": "markdown",
   "id": "e495663d",
   "metadata": {},
   "source": [
    "## Conditional Statements --\n",
    "1. By default, statements iin the script are executed sequentially from the first to the last.\n",
    "2. If the processing logic requires so, the sequential flow can be altered in two ways --\n",
    "    (i) **Conditional Execution** -- A block of one or more statements will be executed if a certain expression is true.\n",
    "    (ii) **Repetitive execution** -- A block of one or more statements will be repetitively executed as long as a certain expression is true.\n",
    "### If --\n",
    "1. Pytho uses the **if** keyword to implement decision control.\n",
    "2. **If** Syntax --\n",
    "        if boolean expression : \n",
    "            statement1\n",
    "            statement2\n",
    "3. Any boolean expression evaluating True or False appears after the **if** keyword. One or more statements written with the same level of indent will be executed **if** the boolean expression evaluates to be true.\n",
    "### Else --\n",
    "1. Along with the *if*, the **else** can be used to define an alternate block of statements to be executed if the boolean expression inside the *if* condidiotn is not true.\n",
    "2. The indentation and syntax of the **else** is sameas the **if**.\n",
    "\n",
    "### Iteration, loop --\n",
    "1. **Iteration** means executing the same block of code over and over again. A programming structure that implements iteration is called a **loop**.\n",
    "2. There are two types of *iteration* --\n",
    "    (i) **Indefinite** -- The designated block is executed repeatedly as long as some condition is met.\n",
    "    (ii) **Definite** -- Th number of times the designated block will be executed is specified explicitly at the time of the loop starts.\n",
    "    \n",
    "### For loop --\n",
    "1. The **for** loop is used with sequence types such as a *list*, *tuple* and a *set*. The body of the **for** loop is executed for each member element in the sequence.\n",
    "2. Syntax --\n",
    "    for x in sequence :\n",
    "        statement 1\n",
    "        statement 2\n",
    "        ....\n",
    "3. The variable *x* in the above syntax refers to the item at 0 index in the given sequence. The statements after the **:** block will be executed. Variable *x* now refers to the next item and repeats the body of the loop until the sequence is exhausted.\n",
    "\n",
    "### While loop --\n",
    "1. A program by default, follows a sequential execution of statements. A while loop in Python repeatedly executes a target statement as long as the given condition is true.\n",
    "2. Syntax --\n",
    "    while <expression> :\n",
    "        <statements>\n",
    "            \n",
    "3. The controlling expression, **<expression>** typically involves one or more variables that are initialised prior to the loop and then modified somewhere in the loop body."
   ]
  },
  {
   "cell_type": "code",
   "execution_count": null,
   "id": "cd83dcc6",
   "metadata": {
    "scrolled": true
   },
   "outputs": [],
   "source": [
    "# printing a pattern using nested loop --\n",
    "for i in range(1,10) :\n",
    "    for j in range(i,10):\n",
    "        print(\"*\", end=\" \")\n",
    "    print(\" \")"
   ]
  },
  {
   "cell_type": "code",
   "execution_count": null,
   "id": "21097cda",
   "metadata": {
    "scrolled": true
   },
   "outputs": [],
   "source": [
    "for i in range(1,10,) :\n",
    "    for j in range(1,i):\n",
    "        print(\"*\", end=\" \")\n",
    "    print(\" \")"
   ]
  },
  {
   "cell_type": "code",
   "execution_count": null,
   "id": "f956dc56",
   "metadata": {},
   "outputs": [],
   "source": [
    "# Conditional Statements with advanced data types --\n",
    "# We can combine them with if conditions --\n",
    "if_list = [1,2,4,5.6]\n",
    "if 2 in if_list :\n",
    "    print(if_list)"
   ]
  },
  {
   "cell_type": "code",
   "execution_count": null,
   "id": "a6568d4f",
   "metadata": {},
   "outputs": [],
   "source": [
    "# We can also check more than one conditions at the same time too --\n",
    "x=10;y=54;k=90\n",
    "if x>y and k>y :\n",
    "    print(z)\n",
    "elif y>x and k>y:\n",
    "    print(y)\n",
    "else :\n",
    "    print(x)"
   ]
  },
  {
   "cell_type": "code",
   "execution_count": null,
   "id": "db763a38",
   "metadata": {},
   "outputs": [],
   "source": [
    "\"\"\"\n",
    "Q. Imagine that we are creating a simple guessing game where\n",
    "the user guesses a number and we either tell him that his guess\n",
    "is too low, too high or correct.\n",
    "Implement this game in python using if, else, elif.\n",
    "create all the three cases as an output.\n",
    "\"\"\"\n",
    "num1 = 20\n",
    "guess1 = 10\n",
    "if guess1>num1 :\n",
    "    print(\"Too high\")\n",
    "elif guess1<num1 :\n",
    "    print(\"Too low\")\n",
    "else :\n",
    "    print(\"Correct\")\n",
    "\n",
    "guess2 = 91\n",
    "num2 = 89\n",
    "if  guess2>num2 :\n",
    "    print(\"Too high\")\n",
    "elif guess2<num2 :\n",
    "    print(\"Too low\")\n",
    "else :\n",
    "    print(\"Correct\")\n",
    "\n",
    "guess3 = 420\n",
    "num3 = 420\n",
    "if guess3>num3 :\n",
    "    print(\"Too high\")\n",
    "elif guess3<num3 :\n",
    "    print(\"Too low\")\n",
    "else :\n",
    "    print(\"Correct\")"
   ]
  },
  {
   "cell_type": "code",
   "execution_count": null,
   "id": "d90248bb",
   "metadata": {},
   "outputs": [],
   "source": [
    "## Conditional Statements with advanced data type --\n",
    "# if with list --\n",
    "listt = [1,2,3,4]\n",
    "if 2 in listt :\n",
    "    print(listt)"
   ]
  },
  {
   "cell_type": "code",
   "execution_count": null,
   "id": "f78fce58",
   "metadata": {},
   "outputs": [],
   "source": [
    "\"\"\"\n",
    "Q. Imagie that you are scraping data from the web and\n",
    "storing it in a list. Now, every two minute to stop to check if\n",
    "the collected data contains three tokens or not.\n",
    "The three tokens are 'start', 'mid', 'end'\n",
    "If you found them, print - \n",
    "Found them! Stop the code!.\n",
    "If not, print -\n",
    "Not yet. Still searching...\n",
    "\"\"\"\n",
    "web_list = [\"start\", 10313, 1415, \"afvav\", \"vbagaga\", \"mid\", 3.415, {\"A\":12121}, {\"xava\":11} , 1.21, \"end\"]\n",
    "# Ans - \n",
    "web_list\n",
    "if \"start\" in web_list and \"mid\" in web_list and \"end\" in web_list :\n",
    "    print(\"Found them! Stop the code!\")\n",
    "else :\n",
    "    print(\"Not yet. Still Searching..\")"
   ]
  },
  {
   "cell_type": "markdown",
   "id": "b4a760af",
   "metadata": {},
   "source": [
    "## Iterables --\n",
    "1. If we want to run an operation iteratively, we use loops.\n",
    "2. **for** loop runs for a specific **pre-defined** number of iterations.\n",
    "3. We *iterate* over **iterables**.\n",
    "4. **Iterables** are python objects that return one or more of its elements per iteration.\n",
    "5. **Iterables** can be --\n",
    "    (i) Files\n",
    "    (ii) Dictionaries\n",
    "    (iii) Lists\n",
    "    (iv) Sets\n",
    "    (v) Tuples\n",
    "    (vi) Strings\n",
    "\n",
    "### Range function --\n",
    "We can use **range** function to loop over a range of values.\n",
    "Ex -- \n",
    "    for element in range(10)  :\n",
    "        print(element)\n",
    "        \n",
    "The above code will run 10 times or the loop will iterate over 10 values.\n",
    "We can also set the start, end and step for the range function --\n",
    "    "
   ]
  },
  {
   "cell_type": "code",
   "execution_count": null,
   "id": "afb499b1",
   "metadata": {},
   "outputs": [],
   "source": [
    "#range function\n",
    "for element in range(1,10,2) :\n",
    "        print(element)\n",
    "        \n",
    "#|The above code will run - 1, 3, 5, 7, 9"
   ]
  },
  {
   "cell_type": "code",
   "execution_count": null,
   "id": "547a757c",
   "metadata": {},
   "outputs": [],
   "source": [
    "# printing elements of a list using for loop --\n",
    "my_list = [1,2,3,\"Rishi\", \"Payday\", \"Remnant\"]\n",
    "for element in my_list :\n",
    "    print(element)\n",
    "print(\"Done\")"
   ]
  },
  {
   "cell_type": "code",
   "execution_count": null,
   "id": "4f021669",
   "metadata": {},
   "outputs": [],
   "source": [
    "## using range function --\n",
    "for element in range(20):\n",
    "    print(2*element)"
   ]
  },
  {
   "cell_type": "code",
   "execution_count": null,
   "id": "ba2fa5bb",
   "metadata": {
    "scrolled": true
   },
   "outputs": [],
   "source": [
    "\"\"\"\n",
    "Q. What will be the output of the following code below --\n",
    "Option 1 --\n",
    "1:10\n",
    "20:5\n",
    "3:2\n",
    "\n",
    "Option 2 --\n",
    "0\n",
    "1\n",
    "2\n",
    "\n",
    "Option 3 --\n",
    "1\n",
    "20\n",
    "3\n",
    "\n",
    "Option 4 --\n",
    "10\n",
    "5\n",
    "2\n",
    "    \n",
    "\"\"\"\n",
    "dict_quiz = {1:10, 20:5, 3:2}\n",
    "for i in dict_quiz :\n",
    "    print(i)\n",
    "    \n",
    "# because by default, the loop will iterate over keys and not values."
   ]
  },
  {
   "cell_type": "markdown",
   "id": "9fc847e9",
   "metadata": {},
   "source": [
    "### \"end\" parameter in \"print()\"\n",
    "1. By default, the **print()** function ends with a new line. \n",
    "2. Python's print() function comes with a parameter **end**. By default, the value of this parameter is '\\n' i.e. new line. But we can end a print statement with any *character* or *string* using the **end** parameter."
   ]
  },
  {
   "cell_type": "code",
   "execution_count": null,
   "id": "83c6ea9c",
   "metadata": {},
   "outputs": [],
   "source": [
    "# Example of end --\n",
    "print(\"Welcome to \" , end = 'end') \n",
    "print(\" Python course\")"
   ]
  },
  {
   "cell_type": "code",
   "execution_count": null,
   "id": "f071133b",
   "metadata": {
    "scrolled": true
   },
   "outputs": [],
   "source": [
    "\"\"\"\n",
    "Q. Print the following pattern using loops --\n",
    "1\n",
    "1 3\n",
    "1 3 5\n",
    "1 3 5 7 \n",
    "1 3 5 7 9\n",
    "\"\"\"\n",
    "# Ans 1 --\n",
    "for i in range(1,11,2):\n",
    "    for j in range(1,i+2,2):\n",
    "        print(j, end=\" \")\n",
    "    print(\" \")\n",
    "    \n",
    "    \n",
    "# Ans 2 --\n",
    "for i in range(1,10,2):\n",
    "    for j in range(1,i+1,2):\n",
    "        print(j, end=\" \")\n",
    "    print(\" \")"
   ]
  },
  {
   "cell_type": "markdown",
   "id": "27f4f301",
   "metadata": {},
   "source": [
    "#### While loops --\n",
    "1. While loops run until a **condition** is no longer satisfied.\n",
    "2. We need to make sure that the stop conditon in a while loop must be met, otherwise we will have an **infinite loop**.\n"
   ]
  },
  {
   "cell_type": "markdown",
   "id": "3d7cfa2f",
   "metadata": {},
   "source": [
    "## While vs For ---\n",
    "1. We prefer **while** ***over*** **for** when we don't know how many iterations we have."
   ]
  },
  {
   "cell_type": "code",
   "execution_count": null,
   "id": "f8411d32",
   "metadata": {},
   "outputs": [],
   "source": [
    "# Using while over for example --\n",
    "## if we want to multiply numbers in a list cumilitatively --\n",
    "## until the result is bigger than 100\n",
    "## we can only achieve this using while and not for --\n",
    "my_list = [10,2,30,5,12]\n",
    "\n",
    "i = 1 # we need to initialise a variable before using while loop\n",
    "current_element = 0\n",
    "while i<100:\n",
    "    i*=my_list[current_element]\n",
    "    current_element+=1 # we need to also declare the increment/decrement\n",
    "print(i)"
   ]
  },
  {
   "cell_type": "markdown",
   "id": "f1abb2fa",
   "metadata": {},
   "source": [
    "# Control flow paer 2 --\n",
    "1. Break statements\n",
    "2. Continue statements\n",
    "3. Zip keyword\n",
    "4. Enumerate keyword\n",
    "5. List comprehensions\n",
    "6. How to build a dictionary using loops"
   ]
  },
  {
   "cell_type": "markdown",
   "id": "fad59c43",
   "metadata": {},
   "source": [
    "### Break statement ---\n",
    "If we want to **break** from a for/while loop if some condition happens, we use the break statement."
   ]
  },
  {
   "cell_type": "code",
   "execution_count": null,
   "id": "59653787",
   "metadata": {},
   "outputs": [],
   "source": [
    "## break statement with for loop example --\n",
    "break_list = [1, 2, 54, \"pi\", \"stop\", 4.21, \"#,$\"]\n",
    "for element in break_list:\n",
    "    print(element)\n",
    "    if element == \"stop\":\n",
    "        print(\"The loop will not continue\")\n",
    "        break\n",
    "        \n",
    "# running this code, we will see that the loop didn't print --\n",
    "# the remaining elements after stop"
   ]
  },
  {
   "cell_type": "code",
   "execution_count": null,
   "id": "f65f970a",
   "metadata": {},
   "outputs": [],
   "source": [
    "## break statement with while loop example --\n",
    "buck = [1, 2, 54, \"pi\", \"stop\", 4.21, \"#,$\"]\n",
    "index = 0\n",
    "while index<len(buck):\n",
    "    element = buck[index]\n",
    "    print(element)\n",
    "    if element == \"stop\":\n",
    "        print(\"The loop will stop\")\n",
    "        break\n",
    "    index+=1"
   ]
  },
  {
   "cell_type": "code",
   "execution_count": null,
   "id": "b38539e6",
   "metadata": {},
   "outputs": [],
   "source": [
    "\"\"\"\n",
    "Q. Remember web_list from previous excercise.\n",
    "Now, instead of checking if the 3 tokens are in the list or not,\n",
    "we can stop the list once we have those 3 tokens.\n",
    "Your task here is to loop over the elements and use the *break*\n",
    "statement to stop the loop once we found the end.\n",
    "if you found it, print --\n",
    "Found them!, Stop the code!\n",
    "If not, print --\n",
    "Not yet. Still searching..\n",
    "\"\"\"\n",
    "web_list = [ \"start\" , 10313 , 1415 , \"afvav\", \"vbagaga\", \"mid\", 3.415, {\"A\":12121}, {\"xava\":11} , 1.21, \"end\"]\n",
    "for element in web_list :\n",
    "    if element == \"end\":\n",
    "        print(\"Found them! Stop the code!\")\n",
    "        break\n",
    "    else :\n",
    "        print(\"Not yet. Still searching..\")"
   ]
  },
  {
   "cell_type": "markdown",
   "id": "493d1750",
   "metadata": {},
   "source": [
    "### Continue statement ---\n",
    "If we want to **skip some iterations** from a *for/while* loop if some condition happens, we use **continue** statement."
   ]
  },
  {
   "cell_type": "code",
   "execution_count": null,
   "id": "065a7332",
   "metadata": {
    "scrolled": true
   },
   "outputs": [],
   "source": [
    "### Continue statement with for loop example --\n",
    "my_list4 = [1, 2, \"stop\", 3.42, 6.9]\n",
    "for element in my_list4:\n",
    "    if element == \"stop\":\n",
    "        print(\"The loop will skip stop\")\n",
    "        continue\n",
    "    print(element)"
   ]
  },
  {
   "cell_type": "code",
   "execution_count": null,
   "id": "ed81d899",
   "metadata": {},
   "outputs": [],
   "source": [
    "# continue with for loop --\n",
    "loop_list = [1, 2, 3, 54, \"stop\", 5, \"end\", \"stop\", 3.14]\n",
    "for element in loop_list :\n",
    "    if element == \"stop\" :\n",
    "        print(\"Stop skipped\")\n",
    "        continue\n",
    "    print(element)"
   ]
  },
  {
   "cell_type": "code",
   "execution_count": null,
   "id": "e7d4fb96",
   "metadata": {},
   "outputs": [],
   "source": [
    "\"\"\"\n",
    "Q. What is the output of the following code ---\n",
    "1.  3\n",
    "    2\n",
    "    1\n",
    "\n",
    "2. Infinite loop from 3 and decreasing\n",
    "3. Infinite loop from 3 and increasing\n",
    "4.  3\n",
    "    4\n",
    "    5\n",
    "    6\n",
    "\n",
    "4.  3\n",
    "    2\n",
    "    1\n",
    "    1\n",
    "    1\n",
    "    infinite ones\n",
    "\"\"\"\n",
    "\"\"\"\n",
    "counnt = 3\n",
    "while counnt <= 6 :\n",
    "    print(counnt)\n",
    "    if counnt == 1 :\n",
    "        continue\n",
    "    counnt -=1\n",
    "\"\"\"\n",
    "#  Ans - option 4"
   ]
  },
  {
   "cell_type": "code",
   "execution_count": null,
   "id": "c725e0da",
   "metadata": {},
   "outputs": [],
   "source": [
    "\"\"\"\n",
    "Q. Imagine that we have a list of ages that we scraped from a website.\n",
    "Now, we want to store only the even ages so we can perform some\n",
    "analysis on them. \n",
    "Use for, if and continue statements to create a new list with even ages.\n",
    "\"\"\"\n",
    "list_ages = [10 , 11 , 19 , 7 , 8 , 24 , 91 , 74 , 25 , 53 , 41 , 50 , 63 , 86]\n",
    "ages_even = []\n",
    "for element in list_ages :\n",
    "    if element%2!=0 :\n",
    "        continue\n",
    "    ages_even.append(element)\n",
    "print(ages_even)        "
   ]
  },
  {
   "cell_type": "markdown",
   "id": "cb918190",
   "metadata": {},
   "source": [
    "## Zip function --\n",
    "1. Zip function maps iterables to iterators.\n",
    "2. What if we have a couple of **iterables** and we want to create **iterables** from them? -- We use the **zip** function to achieve that task.\n",
    "3. What if we want to iterate over *multiple* iterables at the same time, we also use the zip function."
   ]
  },
  {
   "cell_type": "code",
   "execution_count": null,
   "id": "b1521002",
   "metadata": {},
   "outputs": [],
   "source": [
    "# Zip function example --\n",
    "first_list = [1, 2, \"stop\", 3.41, 3.14]\n",
    "second_list = [4, \"two\", \"skip\", \"four\", \"pi\"]\n",
    "zipped_list = zip(first_list, second_list)\n",
    "print(zipped_list)"
   ]
  },
  {
   "cell_type": "code",
   "execution_count": null,
   "id": "81817e4c",
   "metadata": {},
   "outputs": [],
   "source": [
    "# above -- we can see that an iterator was created by the zip function.\n",
    "# In order to print the iterator, we need to convert the iterator to \n",
    "#an iterable again.\n",
    "# printing the iterator --\n",
    "print(list(zipped_list))"
   ]
  },
  {
   "cell_type": "code",
   "execution_count": null,
   "id": "291805a4",
   "metadata": {},
   "outputs": [],
   "source": [
    "# iterating over multiple iterables --\n",
    "first_list\n",
    "second_list\n",
    "for e1,e2 in zip(first_list,second_list) :\n",
    "    print(e1,e2)"
   ]
  },
  {
   "cell_type": "code",
   "execution_count": null,
   "id": "7592fc32",
   "metadata": {},
   "outputs": [],
   "source": [
    "# another example --\n",
    "\n",
    "list_01 = [1, 3, 65, 90] ## iterable\n",
    "list_02 = [5, 1, 54, 98] ## iterable\n",
    "zip_list = zip(list_01,list_02) ## iterator\n",
    "print(zip_list) ## will still print the location of the object\n",
    " ## converting back to iterable to print the values"
   ]
  },
  {
   "cell_type": "code",
   "execution_count": null,
   "id": "50b2465a",
   "metadata": {},
   "outputs": [],
   "source": [
    "# So, using the zip function, we merged two lists into a single list."
   ]
  },
  {
   "cell_type": "code",
   "execution_count": null,
   "id": "b2d6886a",
   "metadata": {},
   "outputs": [],
   "source": [
    "for i1, i2 in zip_list :\n",
    "    print(i1,i2)"
   ]
  },
  {
   "cell_type": "code",
   "execution_count": null,
   "id": "8dc34129",
   "metadata": {},
   "outputs": [],
   "source": [
    "\"\"\"\n",
    "Q. What will be the output of the following code --\n",
    "\n",
    "Option 1 --\n",
    "1 \"quiz\" 6\n",
    "2   4    8\n",
    "10  12   5\n",
    "\n",
    "Option 2 --\n",
    "1 \"quiz\" 6\n",
    "2   4    8\n",
    "\n",
    "Option 3 --\n",
    "Error\n",
    "\"\"\"\n",
    "quiz_list = [1, 2, 10, 5]\n",
    "quiz_dict = {\"quiz\":3, 4:9}\n",
    "quiz_tuple = (6, 8, 12)\n",
    "for x,y,z in zip(quiz_list,quiz_dict,quiz_tuple) :\n",
    "    print(x,y,z)"
   ]
  },
  {
   "cell_type": "code",
   "execution_count": null,
   "id": "8cf66f8e",
   "metadata": {},
   "outputs": [],
   "source": [
    "\"\"\"\n",
    "Q. Imagine that you have two lists, \n",
    "the first one contains student's names and\n",
    "the second one contains their grade.\n",
    "Now, we want to link each student with their grade in a separate dict.\n",
    "Use 'for', 'dictionaries' and 'zip'\n",
    "\"\"\"\n",
    "# Ans 1 --\n",
    "student_names = [\"Michael\", \"John\", \"Isra\", \"Munro\"]\n",
    "student_grades = [80, 53, 90, 100]\n",
    "zipp_name_grade = zip(student_names,student_grades)\n",
    "name_grade = dict(zipp_name_grade)\n",
    "print(name_grade)"
   ]
  },
  {
   "cell_type": "code",
   "execution_count": null,
   "id": "81b09cd5",
   "metadata": {},
   "outputs": [],
   "source": [
    "# Answer 2 --\n",
    "student_names2 = [\"Michael\", \"John\", \"Isra\", \"Munro\"]\n",
    "student_grades2 = [80, 53, 90, 100]\n",
    "name_grade2 = {}\n",
    "for x,y in zip(student_names2,student_grades2) :\n",
    "    name_grade2[x]=y\n",
    "print(name_grade2)    "
   ]
  },
  {
   "cell_type": "markdown",
   "id": "6011bcff",
   "metadata": {},
   "source": [
    "## Enumerate function --\n",
    "1. Enumerate function is a zip function but with a counter.\n",
    "2. What if we want to iterate over one iterable and one **counter** at the *same time*? -- we use the **enumerate** function."
   ]
  },
  {
   "cell_type": "code",
   "execution_count": null,
   "id": "3f79b535",
   "metadata": {},
   "outputs": [],
   "source": [
    "# Enumerate function --\n",
    "enu_list = [\"GCC\", \"minGW\", \"conda\", \"jdk\"]\n",
    "for i, element in enumerate(enu_list) :\n",
    "    print(i,element)"
   ]
  },
  {
   "cell_type": "code",
   "execution_count": null,
   "id": "a48b33e3",
   "metadata": {},
   "outputs": [],
   "source": [
    "enut_list = enumerate(enu_list)\n",
    "# we need to convert the iterator same way we did for the zip function.\n",
    "print(list(enut_list))"
   ]
  },
  {
   "cell_type": "code",
   "execution_count": null,
   "id": "a977fda9",
   "metadata": {},
   "outputs": [],
   "source": [
    "\"\"\"\n",
    "Q. What will be the output of the following code ---\n",
    "Option 1 -\n",
    "           10\n",
    "            5\n",
    "           13\n",
    " \n",
    "Option 2 - \n",
    "           0\n",
    "           1\n",
    "           2\n",
    "\n",
    "Option 3 -\n",
    "           10 0\n",
    "           5  1\n",
    "           13 2\n",
    "\n",
    "Option 4 -\n",
    "           0 10\n",
    "           1 5\n",
    "           2 13\n",
    "\"\"\"\n",
    "list_quixx = [10, 5, 13]\n",
    "for index, value in enumerate(list_quixx):\n",
    "    print(value, index)"
   ]
  },
  {
   "cell_type": "code",
   "execution_count": null,
   "id": "1480aa18",
   "metadata": {},
   "outputs": [],
   "source": [
    "\"\"\"\n",
    "Q. Imagine we have a list of people's names and another list of their \n",
    "salary. \n",
    "Now, we want to link each person with his salary in a new list as follows --\n",
    "\"Person Name $2000\"\n",
    "So, we want each element in the new list to be a string that contains\n",
    "both the persons name along his/her salary.\n",
    "Use 'string manipulation', 'enumerate' and 'for loop'\n",
    "\"\"\"\n",
    "# Ans --\n",
    "names = [ \"Rachael Green\", \"Goodfellow Ian\", \"Tedd Crock\", \"Mina Joseph\"]\n",
    "salaries = [10260 , 41571 , 71211 , 52141 , 35781]\n",
    "names_salaries = []\n",
    "for i,j in enumerate(names):\n",
    "    x = j + \"$\" + str(salaries[i])\n",
    "    names_salaries.append(x)\n",
    "print(names_salaries)"
   ]
  },
  {
   "cell_type": "markdown",
   "id": "495314e0",
   "metadata": {},
   "source": [
    "## List comprehension --\n",
    "1. It is a way of writing and creating lists in a more compact and efficient way.\n",
    "2. If we want to build a list faster, we use **list comprehension**"
   ]
  },
  {
   "cell_type": "code",
   "execution_count": null,
   "id": "9e2599f7",
   "metadata": {},
   "outputs": [],
   "source": [
    "# creating a list normally --\n",
    "my_list_normal = []\n",
    "for element in range(10):\n",
    "    my_list_normal.append(element)\n",
    "\n",
    "# creating using list comprehension --\n",
    "my_list_comp = [element for element in range(10)]\n",
    "\n",
    "print(my_list_normal)\n",
    "print(my_list_comp)"
   ]
  },
  {
   "cell_type": "code",
   "execution_count": null,
   "id": "09ca6bb2",
   "metadata": {},
   "outputs": [],
   "source": [
    "\"\"\" \n",
    "What is the output of the following code --\n",
    "1. Error\n",
    "2. [(0,5),(1,6),(2,7),(3,8),(4,9)]\n",
    "3. [0,1,2,3,4]\n",
    "4. (5,6,7,8,9)\n",
    "5. [0,5,1,6,2,7,3,8,4,9]\n",
    "6. [[0,5],[1,6],[2,7],[3,8],[4,9]]\n",
    "\"\"\"\n",
    "list_comp = [(index,value) for index,value in enumerate(range(5,10))]\n",
    "print(list_comp)"
   ]
  },
  {
   "cell_type": "code",
   "execution_count": null,
   "id": "46e97b7e",
   "metadata": {},
   "outputs": [],
   "source": [
    "\"\"\"\n",
    "Imagine that we have a dictionary that contains the students's names and grades.\n",
    "Now, we want to filter out students who passed - above 50 - \n",
    "and get their names in a new list.\n",
    "Use list comprehension to create the list in a single line\n",
    "of code using list comprehension.\n",
    "\"\"\"\n",
    "students_dict = {\"Joel Corry\" : 70,\"James Bond\" : 90,\"Fatma Ahmed\": 20,\"Lily Saqr\"  : 94, \"Ahmed Yan\"  : 40,}\n",
    "passed_students = [name.split()[0] for name,x in students_dict.items() if x > 50]\n",
    "print(passed_students)"
   ]
  },
  {
   "cell_type": "markdown",
   "id": "10879c58",
   "metadata": {},
   "source": [
    "## Python functions --\n",
    "1. In Python, a function is a group of related statements that perform a specific task.\n",
    "2. Functions in python --\n",
    "    (i) Help function\n",
    "    (ii) Deleting functions\n",
    "    (iii) Variable scope (Local vs Global)\n",
    "    (iv) Doc strings\n",
    "3. A **function** takes some *inputs*, do some *logic* on them, and return an *output*.\n",
    "4. The function can take multiple inputs and also return an output.\n",
    "5. Giving an input to a function is also optional. Or the function can take some input and provide no output.\n",
    "6. Suppose we want to calculate the sum of two variables, but we want to repeat the process multiple times, then we need to convert our code to a **function**."
   ]
  },
  {
   "cell_type": "markdown",
   "id": "c8bba281",
   "metadata": {},
   "source": [
    "## Python help function --\n",
    "Python has hundreds of built-in functions.\n",
    "Each function can have one or more inputs and outputs. But we do not need to remember any of them."
   ]
  },
  {
   "cell_type": "code",
   "execution_count": null,
   "id": "8031092c",
   "metadata": {},
   "outputs": [],
   "source": [
    "## Example of help ---\n",
    "## If we write help(function_name), python will tell us\n",
    "## about the specific function.\n",
    "## Ex --\n",
    "help(print)"
   ]
  },
  {
   "cell_type": "code",
   "execution_count": null,
   "id": "6191164d",
   "metadata": {},
   "outputs": [],
   "source": [
    "help(zip)"
   ]
  },
  {
   "cell_type": "code",
   "execution_count": null,
   "id": "159fdf18",
   "metadata": {
    "scrolled": true
   },
   "outputs": [],
   "source": [
    "help(int)"
   ]
  },
  {
   "cell_type": "markdown",
   "id": "2ecad3a6",
   "metadata": {},
   "source": [
    "## Defining functions --\n",
    "\n",
    "### Function header --\n",
    "1. Python uses **def** to define the function.\n",
    "2. Functions can have multiple inputs and/or outputs.\n",
    "3. Function header example --\n",
    "    def function_name(input1, input2) :\n",
    "4. We can have **optional input** by assigning the value of the variable in the function header.\n",
    "    Example for point 4 -\n",
    "    This code *will* throw an error if we don't provide **x** or **y** in the function body, but *will not* throw an error if we don't provide **z** in the function body --\n",
    "    def multiply(x, y, z=1) :\n",
    "    \n",
    "### Function body --\n",
    "1. The function body is indented in a code block, like loops and conditional statements.\n",
    "2. We can return one or more outputs using the **return** keyword.\n",
    "3. Example of a complete function with body amd header --\n",
    "    def multiply(x,y) :\n",
    "        result = x*y\n",
    "        return result\n",
    "        \n",
    "## Function naming -- \n",
    "1. We cannot use spaces or special characters in a function name.\n",
    "2. We cannot use Python keyword or built-in function's names for naming our own function.\n",
    "\n",
    "## Function calling --\n",
    "1. We can call the function as follows --\n",
    "    func_name(input_1, input_2)"
   ]
  },
  {
   "cell_type": "code",
   "execution_count": null,
   "id": "d3156883",
   "metadata": {},
   "outputs": [],
   "source": [
    "# Making our own function that multiplies 2 int,float\n",
    "def multiplyy(x,y):\n",
    "    result = x*y\n",
    "    return result\n",
    "res=multiplyy(6,9)\n",
    "print(res)"
   ]
  },
  {
   "cell_type": "code",
   "execution_count": 22,
   "id": "0eeebc1e",
   "metadata": {},
   "outputs": [
    {
     "name": "stdout",
     "output_type": "stream",
     "text": [
      "Hello World\n"
     ]
    },
    {
     "data": {
      "text/plain": [
       "'Hello World'"
      ]
     },
     "execution_count": 22,
     "metadata": {},
     "output_type": "execute_result"
    }
   ],
   "source": [
    "\"\"\"\n",
    "Q. Implement a function that just prints 'Hello World'.\n",
    "The function takes no inputs and returns no outputs.\n",
    "It should just print 'Hello World'\n",
    "\"\"\"\n",
    "def hello():\n",
    "    printt=\"Hello World\"\n",
    "    return printt\n",
    "\n",
    "## or \n",
    "\n",
    "def hello2():\n",
    "    print(\"Hello World\")\n",
    "\n",
    "hello2()\n",
    "hello()"
   ]
  },
  {
   "cell_type": "code",
   "execution_count": 23,
   "id": "baa9b0cd",
   "metadata": {},
   "outputs": [
    {
     "data": {
      "text/plain": [
       "13"
      ]
     },
     "execution_count": 23,
     "metadata": {},
     "output_type": "execute_result"
    }
   ],
   "source": [
    "\"\"\"\n",
    "Q. Implement a function that takes two inputs \n",
    "and returns their sum.\n",
    "\"\"\"\n",
    "\n",
    "def addition(x,y):\n",
    "    additn = x+y\n",
    "    return additn\n",
    "addition(6,7)"
   ]
  },
  {
   "cell_type": "code",
   "execution_count": 24,
   "id": "c3a909d5",
   "metadata": {},
   "outputs": [
    {
     "data": {
      "text/plain": [
       "16"
      ]
     },
     "execution_count": 24,
     "metadata": {},
     "output_type": "execute_result"
    }
   ],
   "source": [
    "\"\"\"\n",
    "Q. Implement a function that takes two inputs, a number and a\n",
    "power that the number should be raised to.\n",
    "\"\"\"\n",
    "def power(x,y):\n",
    "    expo = x**y\n",
    "    return expo\n",
    "power(4,2)"
   ]
  },
  {
   "cell_type": "code",
   "execution_count": 25,
   "id": "3a12ff61",
   "metadata": {},
   "outputs": [],
   "source": [
    "\"\"\"\n",
    "Q. Implement a function that takes two lists as input - \n",
    "One contains student's names and  one contains their grades.\n",
    "The function should link (zip function) elements of the lists and give a\n",
    "dictionary as an output.\n",
    "\"\"\"\n",
    "student_names = [ \"Micheal Ford\", \"John Buch\" , \"Isra Raul\", \"Messi Ronaldo\"]\n",
    "student_grades = [80, 53, 90, 100]\n",
    "def link_name_grade(student_names,student_grades):\n",
    "    linked_dict = {}\n",
    "    for x,y in zip(student_names,student_grades) :\n",
    "        linked_dict[x]=y\n",
    "    print(linked_dict)\n",
    "    return linked_dict"
   ]
  },
  {
   "cell_type": "code",
   "execution_count": 26,
   "id": "9977220b",
   "metadata": {},
   "outputs": [],
   "source": [
    "\"\"\"\n",
    "Q. Implement a function that takes a list of integers \n",
    "and another input called even_or_odd to specify --\n",
    "if  we want the even or odd numbers.\n",
    "If even_or_odd is false, then we will choose the even numbers.\n",
    "If even_or_odd is true, then we will choose the odd numbers.\n",
    "\"\"\"\n",
    "numbers = [10, 20 , 17 , 13 ]\n",
    "even_or_odd = True\n",
    "filtered_list = []\n",
    "def filter_even_odd(numbers, even_or_odd) :\n",
    "    for element in numbers :\n",
    "        if element%2!=0 :\n",
    "            filtered_list.append(element)\n",
    "    return filtered_list"
   ]
  },
  {
   "cell_type": "markdown",
   "id": "5f7c475c",
   "metadata": {},
   "source": [
    "## Variable scope --\n",
    "1. Not all variables can be accessed all the time.\n",
    "2. There is a scope for each variable, either **global** or **local**.\n",
    "3. **Global** variables can be accessed or modified from anywhere in the code.\n",
    "4. **Local** variables can only be accessed from specific functions."
   ]
  },
  {
   "cell_type": "code",
   "execution_count": 27,
   "id": "0ea517a6",
   "metadata": {},
   "outputs": [
    {
     "ename": "NameError",
     "evalue": "name 'result' is not defined",
     "output_type": "error",
     "traceback": [
      "\u001b[1;31m---------------------------------------------------------------------------\u001b[0m",
      "\u001b[1;31mNameError\u001b[0m                                 Traceback (most recent call last)",
      "\u001b[1;32m~\\AppData\\Local\\Temp/ipykernel_14644/1038577150.py\u001b[0m in \u001b[0;36m<module>\u001b[1;34m\u001b[0m\n\u001b[0;32m      4\u001b[0m     \u001b[0mresult\u001b[0m\u001b[1;33m=\u001b[0m\u001b[0mx\u001b[0m\u001b[1;33m*\u001b[0m\u001b[0my\u001b[0m\u001b[1;33m\u001b[0m\u001b[1;33m\u001b[0m\u001b[0m\n\u001b[0;32m      5\u001b[0m     \u001b[1;32mreturn\u001b[0m \u001b[0mresult\u001b[0m\u001b[1;33m\u001b[0m\u001b[1;33m\u001b[0m\u001b[0m\n\u001b[1;32m----> 6\u001b[1;33m \u001b[0mprint\u001b[0m\u001b[1;33m(\u001b[0m\u001b[0mresult\u001b[0m\u001b[1;33m)\u001b[0m\u001b[1;33m\u001b[0m\u001b[1;33m\u001b[0m\u001b[0m\n\u001b[0m\u001b[0;32m      7\u001b[0m \u001b[1;33m\u001b[0m\u001b[0m\n\u001b[0;32m      8\u001b[0m \u001b[1;31m## If we print result, we will get an error, because the\u001b[0m\u001b[1;33m\u001b[0m\u001b[1;33m\u001b[0m\u001b[0m\n",
      "\u001b[1;31mNameError\u001b[0m: name 'result' is not defined"
     ]
    }
   ],
   "source": [
    "## Local variable --\n",
    "# Notice the following code --\n",
    "def multiply3(x,y):\n",
    "    result=x*y\n",
    "    return result\n",
    "print(result)\n",
    "\n",
    "## If we print result, we will get an error, because the\n",
    "## variable is the local variable of the function\n",
    "## and we were trying to access it globally."
   ]
  },
  {
   "cell_type": "code",
   "execution_count": null,
   "id": "2d979a39",
   "metadata": {
    "scrolled": true
   },
   "outputs": [],
   "source": [
    "## Globalvariable --\n",
    "## See this code --\n",
    "result=5\n",
    "def multiply4(x,y):\n",
    "    result=x*y\n",
    "    return result\n",
    "## now we have two different variables 'result'\n",
    "## if we print result, we will get 5 because we called the\n",
    "## global variable which was defiined nefore the function.\n",
    "print(result)\n",
    "## To call the local result, we will have to call the function.\n",
    "multiply4(5,2)"
   ]
  },
  {
   "cell_type": "markdown",
   "id": "ec2b03d2",
   "metadata": {},
   "source": [
    "However, we can **force** a variable inside a function to be global using the **global** keyword."
   ]
  },
  {
   "cell_type": "code",
   "execution_count": null,
   "id": "1ca8b614",
   "metadata": {},
   "outputs": [],
   "source": [
    "## forcing variable to be global --\n",
    "result2 = 5\n",
    "def multiply5(x,y):\n",
    "    global result2\n",
    "    result2=x*y\n",
    "    return result2\n",
    "\n",
    "## now if we call result after we call the function using any inputs,\n",
    "## we will get same answer --\n",
    "print(multiply5(4,5))\n",
    "print(result2)"
   ]
  },
  {
   "cell_type": "code",
   "execution_count": null,
   "id": "8c1e7199",
   "metadata": {},
   "outputs": [],
   "source": [
    "## We can see above, we get the outpput of the result2 equal to whtever the function \n",
    "## will give for the variable."
   ]
  },
  {
   "cell_type": "code",
   "execution_count": null,
   "id": "e5fa3d37",
   "metadata": {
    "scrolled": true
   },
   "outputs": [],
   "source": [
    "# if we call the function again with different value,\n",
    "# the global result will also chnge --\n",
    "print(multiply5(5,10))\n",
    "\n",
    "print(result2)"
   ]
  },
  {
   "cell_type": "code",
   "execution_count": null,
   "id": "dbce7721",
   "metadata": {
    "scrolled": true
   },
   "outputs": [],
   "source": [
    "\"\"\"\n",
    "Q. Whar will be the output of the following code --\n",
    "\n",
    "1. 0\n",
    "2. 6\n",
    "3. Error\n",
    "\"\"\"\n",
    "ball_count = 0\n",
    "def count_balls():\n",
    "    ball_count +=6\n",
    "    return ball_count\n",
    "print(count_balls())\n",
    "\n",
    "## We get this error message because we cannot modify \n",
    "## global variables in functions without --\n",
    "## passing them as arguments"
   ]
  },
  {
   "cell_type": "markdown",
   "id": "4ff954a8",
   "metadata": {},
   "source": [
    "## Doc strings --\n",
    "1. Doc Strings, short for **Documentation Strings**, is crucial for documenting Python Functions.\n",
    "2. Very simple, use triple quotes (\"\"\"\"\"\") in the line after the function header."
   ]
  },
  {
   "cell_type": "code",
   "execution_count": null,
   "id": "6ecb5094",
   "metadata": {},
   "outputs": [],
   "source": [
    "## Doc Strings Example --\n",
    "def funct(x,y):\n",
    "    \"\"\"\n",
    "    Multiply two numbers and return their result.\n",
    "    \"\"\"\n",
    "    result=x*y\n",
    "    return result\n",
    "funct(5,5)"
   ]
  },
  {
   "cell_type": "markdown",
   "id": "c0923292",
   "metadata": {},
   "source": [
    "## Error Handling and User Input --\n",
    "1. Error handling\n",
    "2. User inputs\n",
    "3. Syntax errors\n",
    "4. Exceptions"
   ]
  },
  {
   "cell_type": "markdown",
   "id": "75d29a00",
   "metadata": {},
   "source": [
    "## Error handling --\n",
    "Almost anything in the world can have error.\n",
    "### Types of Errors --\n",
    "1. **Syntax Errors** -- \n",
    "    (i) Syntax errors are like grammatical errors in English\n",
    "    (ii) The code won't run under any circumstances.\n",
    "2. **Exception** --\n",
    "    (i) Can hapen even if there are no syntax errors.\n",
    "    (ii) The code will stop if some condition happen.\n",
    "    (iii) We need to catch and handle this condition, so the code won't stop."
   ]
  },
  {
   "cell_type": "markdown",
   "id": "b255e165",
   "metadata": {},
   "source": [
    "## User input --\n",
    "Many applications work by taking user input. So, in many cases, we cannot prevent the user from using the application incorrectly.\n",
    "\n",
    "Example of an error occured due to user input --\n",
    "If the user gives a **string** input to the function multiplying two integers. We know that string multiplication is not possible and hence, we will surely get an error in this case. \n",
    "So, we need to handle the expected incorrect inputs."
   ]
  },
  {
   "cell_type": "markdown",
   "id": "c14149b5",
   "metadata": {},
   "source": [
    "## Taking user input --\n",
    "We can read the keyboard input using the Python's built in **input** function.\n",
    "The function waits until the user inserts the inputs and submits it by clicking **enter**.\n",
    "We can also provide a help message for the user."
   ]
  },
  {
   "cell_type": "code",
   "execution_count": null,
   "id": "1950c694",
   "metadata": {},
   "outputs": [],
   "source": [
    "## Taking user input --\n",
    "x = input(\"Enter an integr value - \")\n",
    "print(x)"
   ]
  },
  {
   "cell_type": "markdown",
   "id": "cd5cbd63",
   "metadata": {},
   "source": [
    "but we need to remember a point that the input function always takes value input as a string no matter what the type of input."
   ]
  },
  {
   "cell_type": "code",
   "execution_count": null,
   "id": "8262fc86",
   "metadata": {
    "scrolled": true
   },
   "outputs": [],
   "source": [
    "print(type(x))"
   ]
  },
  {
   "cell_type": "markdown",
   "id": "fc55b6b1",
   "metadata": {},
   "source": [
    "We can see that we gave an integer input but it was stored as a string\n",
    "So we need to attach a converter before the input function itself."
   ]
  },
  {
   "cell_type": "code",
   "execution_count": null,
   "id": "fa7a5be0",
   "metadata": {},
   "outputs": [],
   "source": [
    "# Taking integer input --\n",
    "z = int(input(\"Enter any number - \"))\n",
    "print(z)\n",
    "print(type(z))"
   ]
  },
  {
   "cell_type": "markdown",
   "id": "84166e6c",
   "metadata": {},
   "source": [
    "We can see above that now our input was stored as an int."
   ]
  },
  {
   "cell_type": "code",
   "execution_count": null,
   "id": "157409d1",
   "metadata": {},
   "outputs": [],
   "source": [
    "\"\"\"\n",
    "Q. What is the output of this code --\n",
    "1. <class 'int'>\n",
    "2. <class 'float'>\n",
    "3. <class 'str'>\n",
    "\"\"\"\n",
    "user_input = input(\"Enter a number\")\n",
    "print(type(user_input))\n",
    "\n",
    "## Ans - <class 'str'>"
   ]
  },
  {
   "cell_type": "code",
   "execution_count": null,
   "id": "fb18602d",
   "metadata": {},
   "outputs": [],
   "source": [
    "\"\"\"\n",
    "Q. Take two numerical user inputs and print their sum.\n",
    "\"\"\"\n",
    "input1 = int(input(\"Enter a number - \"))\n",
    "input2 = int(input(\"Enter 2nd number - \\n\"))\n",
    "summ = input1+input2\n",
    "print(f\"The sum is {summ}\")"
   ]
  },
  {
   "cell_type": "markdown",
   "id": "6ebbd3d7",
   "metadata": {},
   "source": [
    "## Syntax errors --\n",
    "1. Syntax errors, also known as **parsing** errors, as the Python interpreter parse the whole code to convert it into byte code before being executed.\n",
    "2. Syntax errors are the most commom errors and are easy to understand and overcome.\n",
    "3. Syntax errors are **unrelated** to corectnes of the code's **logic**.\n",
    "4. Either way, we need to fix the syntax error to even run.\n",
    "5. If there are multiple syntax errors in the code, the code will stop and highlight the first one only.\n",
    "\n",
    "6. The syntax error message gives us four pieces of information about the error --\n",
    "    (i) The file name\n",
    "    (ii) Then there's an exponent or the carnet sign(^)\n",
    "    (iii) The line number where the error has occured\n",
    "    (iv) The error message"
   ]
  },
  {
   "cell_type": "code",
   "execution_count": null,
   "id": "1459e79e",
   "metadata": {},
   "outputs": [],
   "source": [
    "\"\"\"\n",
    "Q. Which of  the following will throw a syntax error --\n",
    "\n",
    "1. x1 = 2\n",
    "2. x 1 = 2\n",
    "3. x_1 = 2\n",
    "\"\"\"\n",
    "# Ans -  # Option 2"
   ]
  },
  {
   "cell_type": "markdown",
   "id": "3a49d238",
   "metadata": {},
   "source": [
    "## Exceptions --\n",
    "1. They are also called run-time errors.\n",
    "2. They happen when there are no syntax errors in the code, but the code failed in some cases.\n",
    "3. Example of a common run-time error -- if we have a function that divides two numbers, if the denominator is zero, then the code will fail and stop.\n",
    "### Types of Exceptions --\n",
    "1. Built-in exceptions -- like the ZeroDivisionError\n",
    "2. User defined exceptions"
   ]
  },
  {
   "cell_type": "code",
   "execution_count": null,
   "id": "9e2ac315",
   "metadata": {},
   "outputs": [],
   "source": [
    "## The output of this code will throw an error -\n",
    "## ZeroDivisionError -- at line 7\n",
    "def div(x,y):\n",
    "    divisionn = x/y\n",
    "    return divisionn\n",
    "print(div(5,2))\n",
    "print(div(5,0))\n",
    "print(\"Hello\")"
   ]
  },
  {
   "cell_type": "markdown",
   "id": "fda85e91",
   "metadata": {},
   "source": [
    "We can see that the code after getting an error at line 7 stopped the code and \"Hello\" at line 8 was not printed."
   ]
  },
  {
   "cell_type": "code",
   "execution_count": null,
   "id": "55475db5",
   "metadata": {},
   "outputs": [],
   "source": [
    "## User defined exception example --\n",
    "num1 = int(input(\"Enter a number\"))\n",
    "num2 = int(input(\"Enter another number\"))\n",
    "if num1>num2 :\n",
    "    raise Exception(\"First num should be less than second num\")"
   ]
  },
  {
   "cell_type": "markdown",
   "id": "6d27e880",
   "metadata": {},
   "source": [
    "### Assertion --\n",
    "There is another way to raise an exception.\n",
    "We can use the word **assert** for detecting bugs more clearly in our code."
   ]
  },
  {
   "cell_type": "code",
   "execution_count": null,
   "id": "ec5dbf55",
   "metadata": {},
   "outputs": [],
   "source": [
    "## Assertion example --\n",
    "num_1 = int(input(\"Enter a num\"))\n",
    "num_2 = int(input(\"Enter another num\"))\n",
    "assert num_1<num_2"
   ]
  },
  {
   "cell_type": "markdown",
   "id": "ba1ff271",
   "metadata": {},
   "source": [
    "## Difference in Assert vs Raise --\n",
    "### raise -- \n",
    "1. Use to raise an  exception.\n",
    "2. To be used with **try** and **except**.\n",
    "3. raise can also be used to re-raise current error to pass it up the stack to see if something else can handle it.\n",
    "### assert -- \n",
    "1. Use to raise an exception if a condition is not met.\n",
    "2. **assert** is used when we want to \"stop\" the script based on a certain condition and return something to help debug faster."
   ]
  },
  {
   "cell_type": "code",
   "execution_count": null,
   "id": "975a974f",
   "metadata": {
    "scrolled": true
   },
   "outputs": [],
   "source": [
    "## assert example --\n",
    "list_error = [\"a\", \"b\", \"x\"]\n",
    "assert \"x\" in list_error, \"x is not in list\"\n",
    "print(\"passed\")\n",
    "\n",
    "list_error1 = [\"a\", \"b\", \"c\"]\n",
    "assert \"x\" in list_error1, \"x is not in the list\"\n",
    "print(\"passed\")"
   ]
  },
  {
   "cell_type": "code",
   "execution_count": null,
   "id": "d6219cab",
   "metadata": {},
   "outputs": [],
   "source": [
    "## NameError --\n",
    "## When we call an object which is undefined\n",
    "print(go)"
   ]
  },
  {
   "cell_type": "code",
   "execution_count": null,
   "id": "ebd0d7d5",
   "metadata": {},
   "outputs": [],
   "source": [
    "## TypeError --\n",
    "    ## when we do something which is not possible --\n",
    "    ## Example -- adding int to string\n",
    "2 + '2'"
   ]
  },
  {
   "cell_type": "code",
   "execution_count": null,
   "id": "78f8d748",
   "metadata": {},
   "outputs": [],
   "source": [
    "## Defining our own EXCEPTION --\n",
    "x = 10\n",
    "y = 20\n",
    "if x<y :\n",
    "    raise Exception(\"This is incorrect\")\n",
    "print(\"Hello\")"
   ]
  },
  {
   "cell_type": "markdown",
   "id": "849c4996",
   "metadata": {},
   "source": [
    "The above message - \"Hello\" at line-6 was not printed because the user-defined exception occured before."
   ]
  },
  {
   "cell_type": "code",
   "execution_count": null,
   "id": "eaa8989b",
   "metadata": {},
   "outputs": [],
   "source": [
    "## Defining the same above EXCEPTION using \"assert\" --\n",
    "x1 = 10\n",
    "y1 = 20\n",
    "assert x>y\n",
    "print(\"Hello\")"
   ]
  },
  {
   "cell_type": "code",
   "execution_count": null,
   "id": "ce9b6cb7",
   "metadata": {},
   "outputs": [],
   "source": [
    "\"\"\"\n",
    "Q. What is the exception in this code --\n",
    "1. ZeroDivisionError\n",
    "2. NameError\n",
    "3. RuntimeError\n",
    "4. KeyError\n",
    "\"\"\"\n",
    "dict_quiz = {1:10, 20:3}\n",
    "print(dict_quiz[2])\n",
    "\n",
    "## Ans -- Key Error"
   ]
  },
  {
   "cell_type": "markdown",
   "id": "04e441c1",
   "metadata": {},
   "source": [
    "## Handling Exceptions --\n",
    "1. Exceptions break the code -- any exception will **break** the code and any lines after the exception will not be executed.|\n",
    "2. Therefore, we need to catch and handle the errors.\n",
    "### try & except ---\n",
    "1. We handle exceptions using a block of **try** and **except**.\n",
    "2. Inside the **try body**, we write the code that we want to **execute**, but we suspect *it may throw an error*.\n",
    "3. Inside the **except body**, we write the code that *should be executed* if an exception occurs."
   ]
  },
  {
   "cell_type": "code",
   "execution_count": null,
   "id": "13468f50",
   "metadata": {},
   "outputs": [],
   "source": [
    "## After modifying the division function which was giving\n",
    "## us a ZeroDivisionError using try and except --\n",
    "def divi(x,y):\n",
    "    try :\n",
    "        result=x/y\n",
    "    except :\n",
    "        result=\"Can't divide by zero\"\n",
    "    return result\n",
    "print(divi(5,2))\n",
    "print(divi(5,0))\n",
    "print(\"Hello\")"
   ]
  },
  {
   "cell_type": "markdown",
   "id": "5d086ce4",
   "metadata": {},
   "source": [
    "We should always be cautious and specific with exceptions. Otherwise, we might catch exceptions that we do not want. Or we might **neglect bugs** that should be handled.\n",
    "We need to be cautious because using generic except hides all the errors!"
   ]
  },
  {
   "cell_type": "code",
   "execution_count": null,
   "id": "329c955b",
   "metadata": {},
   "outputs": [],
   "source": [
    "## Example of a bug being hidden by except --\n",
    "def divi2(x,y):\n",
    "    try:\n",
    "        assert x==y\n",
    "        result=x/y\n",
    "    except:\n",
    "        result=\"Can't divide by zero.\"\n",
    "    return result\n",
    "print(divi2(5,2))\n",
    "print(divi(5,0))\n",
    "print(\"Hello\")"
   ]
  },
  {
   "cell_type": "markdown",
   "id": "0c23f486",
   "metadata": {},
   "source": [
    "As we can see above, that 5!=2 and hence our assertion failed and so it was counted as an errorand hece if x!=y, we will always get an exception even if the function inputs are correct."
   ]
  },
  {
   "cell_type": "markdown",
   "id": "1c7a6809",
   "metadata": {},
   "source": [
    "### Handling multiple exceptions --\n",
    "1. We can have as many exceptions as we want. \n",
    "2. Just like conditional statements, the first exception is the only one that will be executed, and other will be ignored."
   ]
  },
  {
   "cell_type": "code",
   "execution_count": null,
   "id": "727b5601",
   "metadata": {},
   "outputs": [],
   "source": [
    "## multiple exceptions example ---\n",
    "def divi3(x,y):\n",
    "    try:\n",
    "        result=x/y\n",
    "        assert x>=y\n",
    "    except ZeroDivisionError:\n",
    "        result=\"Cannot divide by 0\"\n",
    "    except AssertionError:\n",
    "        print(\"Error, x is less than y\")\n",
    "    return result\n",
    "print(divi3(6,3))\n",
    "print(divi3(4,8))\n",
    "print(divi3(5,0))\n",
    "print(\"Hello\")"
   ]
  },
  {
   "cell_type": "markdown",
   "id": "8bd414e2",
   "metadata": {},
   "source": [
    "### try, except and else ---\n",
    "Jut like the if condition, we can add **else** clause while handling errors.\n"
   ]
  },
  {
   "cell_type": "code",
   "execution_count": null,
   "id": "8db23280",
   "metadata": {},
   "outputs": [],
   "source": [
    "## try, except, else example --\n",
    "def divi4(x,y):\n",
    "    try:\n",
    "        res=x/y\n",
    "    except ZeroDivisionError :\n",
    "        res=\"Can't divide by 0\"\n",
    "    else:\n",
    "        print(\"Else\")\n",
    "    return res\n",
    "print(divi4(6,3))\n",
    "print(divi4(4,8))\n",
    "print(divi4(5,0))\n",
    "print(\"Hello\")"
   ]
  },
  {
   "cell_type": "markdown",
   "id": "1b2289d2",
   "metadata": {},
   "source": [
    "### Finally clause ---\n",
    "1. The **finally** clause runs whether the try statement produces an exception or not.\n",
    "2. If a finally clause is present, the finally clause will execute as the last task before the try statement completes.\n",
    "3. If the exception is not handled by an except clause, the exception is **re-raised after the finally** clause has been executed.\n",
    "4. If the try statement reaches a break, continue, or return statement, the finally clause will execute just prior to the break, continue or return statement's execution.\n",
    "5. If a finally clause includes a return statement, the returned value will be the one from the finally clause's return statement, not the value from the try's clause's return statement."
   ]
  },
  {
   "cell_type": "code",
   "execution_count": null,
   "id": "5bb47adc",
   "metadata": {},
   "outputs": [],
   "source": [
    "## finally example --\n",
    "def bool_return():\n",
    "    try :\n",
    "        return True\n",
    "    finally :\n",
    "        return False\n",
    "bool_return()"
   ]
  },
  {
   "cell_type": "markdown",
   "id": "210e04a0",
   "metadata": {},
   "source": [
    "We can see that we had no exceptions so the try statement was not executed and hence the finally statement was executed before try."
   ]
  },
  {
   "cell_type": "code",
   "execution_count": null,
   "id": "23867036",
   "metadata": {},
   "outputs": [],
   "source": [
    "## finally example 2 --\n",
    "# the code below will be re-executed after the finally,\n",
    "# so, an error will be thrown in the third case.\n",
    "def divide2(x,y):\n",
    "    try:\n",
    "        result=x/y\n",
    "    except ZeroDivisionError:\n",
    "        print(\"Can't divide by zero\")\n",
    "    else:\n",
    "        print(f\"Result is {result}\")\n",
    "    finally:\n",
    "        print(\"Executing finally clause\")\n",
    "divide2(2,1)\n",
    "divide2(2,0)\n",
    "divide2(\"2\",\"1\")"
   ]
  },
  {
   "cell_type": "code",
   "execution_count": null,
   "id": "c9dc7ee0",
   "metadata": {
    "scrolled": true
   },
   "outputs": [],
   "source": [
    "\"\"\"\n",
    "Q. The function below will not work if we give 0 as the second input/\n",
    "Use try and except to handle this exception.\n",
    "\"\"\"\n",
    "\n",
    "# Edit the code above so that the user gets a warning for \n",
    "# ZeroDivisionError\n",
    "# using try and except --\n",
    "def test_div(x,y):\n",
    "    try:\n",
    "        dividee=x/y\n",
    "    except ZeroDivisionError :\n",
    "        dividee=\"Can't divide by 0\"\n",
    "    return dividee\n",
    "\n",
    "print(test_div(24,4))\n",
    "print(test_div(4,0))"
   ]
  },
  {
   "cell_type": "code",
   "execution_count": null,
   "id": "93278bfa",
   "metadata": {},
   "outputs": [],
   "source": [
    "\"\"\"\n",
    "Q. What will be the output of the following code --\n",
    "\n",
    "1. There is an exception\n",
    "\n",
    "2. There is an exception\n",
    "   Inside finally clause\n",
    "\n",
    "3. No Problem\n",
    "\n",
    "4. No Problem\n",
    "   Inside finally clause\n",
    "\"\"\"\n",
    "# code --\n",
    "x=10\n",
    "try :\n",
    "    x>5\n",
    "except:\n",
    "    print(\"There is an exception\")\n",
    "else:\n",
    "    print(\"No Problem\")\n",
    "finally:\n",
    "    print(\"Inside finally clause\")\n",
    "    \n",
    "## Ans --\n",
    "# Option 4"
   ]
  },
  {
   "cell_type": "markdown",
   "id": "755e1898",
   "metadata": {},
   "source": [
    "## Python Advanced functions --\n",
    "1. Lambda functions\n",
    "2. Functions *args and **kwargs\n",
    "3. Iterators\n",
    "4. Generators and Yield keyword\n",
    "5. Map function\n",
    "6. Filter function"
   ]
  },
  {
   "cell_type": "markdown",
   "id": "bb4fec05",
   "metadata": {},
   "source": [
    "## Lambda function --\n",
    "1. Lambda functions are basically one-line functions.\n",
    "2. The division function we discussed before can be simplified into one line using the lambda function as follows --\n",
    "\n",
    "a. Normal function --\n",
    "def div(x,y):\n",
    "    return x/y\n",
    "print(div(3,2))\n",
    "\n",
    "b. Lambda function of the same ---\n",
    "div = lambda x,y : x/y\n",
    "print(div(3,2))\n",
    "\n",
    "3. So, syntax of lambda function -\n",
    "We first use the lambda keyword, then the function variables, then the colon then the function body.\n",
    "func_name = lambda input1,input2 : function body\n",
    "\n",
    "4. Lambda functions are mainly used for **small simple** functoins.\n",
    "5. It can also be used as an **argument** for **higher-order** functions.\n",
    "\n",
    "## Higher order functions --\n",
    "1. **Higher order functions** are functions that take *functions* as **arguments**.\n",
    "2. **filter** and **map** functions are two examples of higher order functions."
   ]
  },
  {
   "cell_type": "code",
   "execution_count": null,
   "id": "b0096b5a",
   "metadata": {},
   "outputs": [],
   "source": [
    "## Example of a lambda function --\n",
    "\n",
    "# writing a normal function --\n",
    "def multiplyy1(x,y):\n",
    "    return x*y\n",
    "print(multiplyy1(4,3))\n",
    "\n",
    "# writing lambda function for the same --\n",
    "multiplyy2 = lambda x,y : x*y\n",
    "print(multiplyy2(3,4))"
   ]
  },
  {
   "cell_type": "code",
   "execution_count": null,
   "id": "0d96a4ca",
   "metadata": {},
   "outputs": [],
   "source": [
    "\"\"\"\n",
    "Q. What will be the lambda function of the following function --\n",
    "\n",
    "Option 1 --\n",
    "def multiply(x,y) : res= x*y return res\n",
    "\n",
    "Option 2 --\n",
    "def multiply(x,y) : res = x*y ; return res\n",
    "\n",
    "Option 3 --\n",
    "multiply = lambda x,y ; x*y\n",
    "\"\"\"\n",
    "\n",
    "## Ans -- Option 3 \n",
    "multiply = lambda x,y : x*y\n",
    "multiply(5,4)"
   ]
  },
  {
   "cell_type": "code",
   "execution_count": null,
   "id": "c6c6c9e5",
   "metadata": {},
   "outputs": [],
   "source": [
    "\"\"\"\n",
    "Q. Implement a lambda function that takes one input.\n",
    "Use this function to add six to the variable you create.\n",
    "\"\"\"\n",
    "# Ans --\n",
    "add6 = lambda z : z+6\n",
    "add6(6)"
   ]
  },
  {
   "cell_type": "markdown",
   "id": "63b984a8",
   "metadata": {},
   "source": [
    "## Function args and kwargs --\n",
    "\n",
    "### Python input flexibility --\n",
    "Sometimes, we don't know beforehand how many inputs a function should take.\n",
    "For example -- we can have a multiplication function that should multiply all its input, which can be 2,3,4 or more.\n",
    "The best way to do this is to use a list as the function input -- this is the way in most programming languages.\n",
    "However, in python, we have a more elegant way to do it.\n",
    "\n",
    "## function args ---\n",
    "However, instead of doing it as we did above, there is a more elegant and pythonic way to do that, and we don't need to worry to define a list -- this is by using **args** as an argument.\n",
    "The **asterisk** is called as the **unpacking operator**."
   ]
  },
  {
   "cell_type": "code",
   "execution_count": null,
   "id": "e965ae31",
   "metadata": {},
   "outputs": [],
   "source": [
    "## Using a list to multiply all ---\n",
    "def mult_all(input_list):\n",
    "    result=1\n",
    "    for i in input_list:\n",
    "        result*=i\n",
    "    return result\n",
    "my_list = [1, 2, 3, 4, 5]\n",
    "print(mult_all(my_list))"
   ]
  },
  {
   "cell_type": "code",
   "execution_count": null,
   "id": "71af8347",
   "metadata": {
    "scrolled": true
   },
   "outputs": [],
   "source": [
    "## Using args to do the same --\n",
    "def mult_all2(*args):\n",
    "    result=1\n",
    "    for i in args:\n",
    "        result*=i\n",
    "    return result\n",
    "print(mult_all2(1,2,3,4,5))"
   ]
  },
  {
   "cell_type": "markdown",
   "id": "0cb263aa",
   "metadata": {},
   "source": [
    "Notice that we pass the inputs as **positional arguments** -- **tuple** , and not a *list*.\n",
    "Also, note that we do not need to write **args** always, this is just a convention."
   ]
  },
  {
   "cell_type": "code",
   "execution_count": null,
   "id": "e483bffc",
   "metadata": {},
   "outputs": [],
   "source": [
    "## Example that we need not compulsorily write args --\n",
    "def not_args(*x):\n",
    "    result=1\n",
    "    for i in x:\n",
    "        result*=i\n",
    "    return result\n",
    "print(not_args(1,2,3,4,5))"
   ]
  },
  {
   "cell_type": "markdown",
   "id": "b987e021",
   "metadata": {},
   "source": [
    "## function kwargs --\n",
    "1. If you have keywords or named arguments, then you can use **kwargs**, short for *keyword arguments*.\n",
    "2. We can define it by using double asterisk, which is also an unpacking operator."
   ]
  },
  {
   "cell_type": "code",
   "execution_count": null,
   "id": "10007437",
   "metadata": {},
   "outputs": [],
   "source": [
    "## kwargs example --\n",
    "def display(**kwargs):\n",
    "    for k,e in zip(kwargs.keys(),kwargs.values()):\n",
    "        print(k,e)\n",
    "display(x=\"Red\",y=\"Dead\",z=\"Redemption\",a=\"2\")"
   ]
  },
  {
   "cell_type": "markdown",
   "id": "db2cb729",
   "metadata": {},
   "source": [
    "Notice that we pass arguments a a **dictionary**.\n",
    "Also, not that we do not need to write **kwargs**, this is just a convention."
   ]
  },
  {
   "cell_type": "markdown",
   "id": "7cef7e45",
   "metadata": {},
   "source": [
    "#### The function input ordering --\n",
    "The correct function input ordering is as follows --\n",
    "1. Standard input --\n",
    "    (i) Required input\n",
    "    (ii) Optional input\n",
    "2. Positional args (*args)\n",
    "3. Keyword input (**kwargs)"
   ]
  },
  {
   "cell_type": "code",
   "execution_count": null,
   "id": "035d9a9a",
   "metadata": {},
   "outputs": [],
   "source": [
    "## demo function with input  ordering --\n",
    "def demo(x,y, z=3, *m, **n):\n",
    "    print(\"Hello\")\n",
    "\n",
    "## here --- \n",
    "## x,y are the standard required inputs\n",
    "## z is the standard optional input\n",
    "## *m is the positional args\n",
    "## **n is the keyword input. "
   ]
  },
  {
   "cell_type": "code",
   "execution_count": null,
   "id": "5c9960b9",
   "metadata": {},
   "outputs": [],
   "source": [
    "## args example -- \n",
    "def args_demo(*s):\n",
    "    for i in s:\n",
    "        print(i)\n",
    "args_demo(3,21,\"g\",2.3)"
   ]
  },
  {
   "cell_type": "code",
   "execution_count": null,
   "id": "48b0b366",
   "metadata": {},
   "outputs": [],
   "source": [
    "## kwargs example --\n",
    "def kwargs_demo(**l):\n",
    "    for i,j in zip(l.keys(),l.values()):\n",
    "        print(i,j)\n",
    "kwargs_demo(one='one',two='two')"
   ]
  },
  {
   "cell_type": "code",
   "execution_count": null,
   "id": "91f71dcd",
   "metadata": {},
   "outputs": [],
   "source": [
    "## defining a function with incorrect order --\n",
    "## we will get an error \n",
    "\n",
    "def incorrect_order(y=1,x):\n",
    "    return 0"
   ]
  },
  {
   "cell_type": "code",
   "execution_count": null,
   "id": "b904d56a",
   "metadata": {},
   "outputs": [],
   "source": [
    "\"\"\"\n",
    "Q. What is the correct function header --\n",
    "Option 1 --\n",
    "def app(input_1, input_2, input_3=10, *input_4, **input_5)\n",
    "\n",
    "Option 2 --\n",
    "def app(input_1=10, input_2, input_3, *input_4, **input_5)\n",
    "\n",
    "Option 3 --\n",
    "def app(*input_1, input_2=10, input_3, input_4, **input_5)\n",
    "\"\"\"\n",
    "\n",
    "# Ans -- Option 1"
   ]
  },
  {
   "cell_type": "code",
   "execution_count": null,
   "id": "0eb9800b",
   "metadata": {},
   "outputs": [],
   "source": [
    "\"\"\"\n",
    "Q. Implement a funciton that can take any number of inputs\n",
    "and multiply all of them.\n",
    "Hint - use args\n",
    "\"\"\"\n",
    "## Ans --\n",
    "def multiply_all(*l):\n",
    "    i = 1\n",
    "    for x in l:\n",
    "        i*=x\n",
    "    return i\n",
    "print(multiply_all(1,2,3))"
   ]
  },
  {
   "cell_type": "code",
   "execution_count": null,
   "id": "832ef254",
   "metadata": {},
   "outputs": [],
   "source": [
    "\"\"\"\n",
    "Pi wants anything between 7000 and 10000 rupees! So help Pi write a function that will check whether the amount his sister offers to give him (variable, sis) is within the required range of rupees.\n",
    "If the number less than 7000, show the message, \"Ahem, can you rethink this number please?\".\n",
    "If the number is greater than 10000, show the message, \"Wow sis! You are a queen\".\n",
    "If the number is within the range, show the message, \"Cool, thanks sis! x rupees will certainly help.\"\n",
    "\"\"\""
   ]
  },
  {
   "cell_type": "code",
   "execution_count": null,
   "id": "61b1319e",
   "metadata": {},
   "outputs": [],
   "source": [
    "def money(money):\n",
    "    ttal = money+sis\n",
    "    if ttal > 10000 :\n",
    "        print(\"Wow\")\n",
    "    elif 7000<ttal<10000:\n",
    "        print(\"Will help\")\n",
    "    elif ttal<7000:\n",
    "        print(\"I'm broke\")\n",
    "    return ttal\n",
    "sis = 6000\n",
    "money(5000)\n",
    "money(500)"
   ]
  },
  {
   "cell_type": "markdown",
   "id": "de288e7b",
   "metadata": {},
   "source": [
    "## Iterators --\n",
    "1. We said that we iteratre over iterables -- python objects that return one or more of its elements per iteration.\n",
    "2. **Iterators** are the python objects that contain the **data stream** and we can traverse through their elements.\n",
    "3. We can construct iterables using the **iter** keyword. \n",
    "4. We can make an iterator from any kind of iterablesuch as lists, tuples, dictionaries, sets.\n",
    "5. We can iterate over iterators element-by-elemnt using the **next** keyword.\n",
    "6. Unlike iterables, a iterator starts where it has stopped.\n",
    "7. Also, if the iterator dosen't have any more element left, it will throw an error called **StopIteration**."
   ]
  },
  {
   "cell_type": "code",
   "execution_count": 28,
   "id": "24fdca4a",
   "metadata": {},
   "outputs": [
    {
     "name": "stdout",
     "output_type": "stream",
     "text": [
      "<list_iterator object at 0x000001C8E275CC40>\n",
      "1\n",
      "2\n"
     ]
    }
   ],
   "source": [
    "## constructing an iterator --\n",
    "list_2 = [1, 2, 67, \"Rishi\", 'rdr2']\n",
    "iteratorr = iter(list_2)\n",
    "print(iteratorr)\n",
    "print(next(iteratorr))\n",
    "print(next(iteratorr))"
   ]
  },
  {
   "cell_type": "code",
   "execution_count": 29,
   "id": "c94da1d7",
   "metadata": {
    "scrolled": true
   },
   "outputs": [
    {
     "name": "stdout",
     "output_type": "stream",
     "text": [
      "1\n",
      "2\n"
     ]
    },
    {
     "ename": "StopIteration",
     "evalue": "",
     "output_type": "error",
     "traceback": [
      "\u001b[1;31m---------------------------------------------------------------------------\u001b[0m",
      "\u001b[1;31mStopIteration\u001b[0m                             Traceback (most recent call last)",
      "\u001b[1;32m~\\AppData\\Local\\Temp/ipykernel_14644/4180128804.py\u001b[0m in \u001b[0;36m<module>\u001b[1;34m\u001b[0m\n\u001b[0;32m      4\u001b[0m \u001b[0mprint\u001b[0m\u001b[1;33m(\u001b[0m\u001b[0mnext\u001b[0m\u001b[1;33m(\u001b[0m\u001b[0miterator1\u001b[0m\u001b[1;33m)\u001b[0m\u001b[1;33m)\u001b[0m\u001b[1;33m\u001b[0m\u001b[1;33m\u001b[0m\u001b[0m\n\u001b[0;32m      5\u001b[0m \u001b[0mprint\u001b[0m\u001b[1;33m(\u001b[0m\u001b[0mnext\u001b[0m\u001b[1;33m(\u001b[0m\u001b[0miterator1\u001b[0m\u001b[1;33m)\u001b[0m\u001b[1;33m)\u001b[0m\u001b[1;33m\u001b[0m\u001b[1;33m\u001b[0m\u001b[0m\n\u001b[1;32m----> 6\u001b[1;33m \u001b[0mprint\u001b[0m\u001b[1;33m(\u001b[0m\u001b[0mnext\u001b[0m\u001b[1;33m(\u001b[0m\u001b[0miterator1\u001b[0m\u001b[1;33m)\u001b[0m\u001b[1;33m)\u001b[0m\u001b[1;33m\u001b[0m\u001b[1;33m\u001b[0m\u001b[0m\n\u001b[0m",
      "\u001b[1;31mStopIteration\u001b[0m: "
     ]
    }
   ],
   "source": [
    "## StopIteration ---\n",
    "list_3 = [1,2]\n",
    "iterator1 = iter(list_3)\n",
    "print(next(iterator1))\n",
    "print(next(iterator1))\n",
    "print(next(iterator1))"
   ]
  },
  {
   "cell_type": "code",
   "execution_count": null,
   "id": "78f98991",
   "metadata": {
    "scrolled": true
   },
   "outputs": [],
   "source": [
    "# We cannot access the elements of an iterator --\n",
    "my_list43 = [21,42,854,569,76147]\n",
    "my_Iter = iter(my_list43)\n",
    "print(my_Iter[2])"
   ]
  },
  {
   "cell_type": "markdown",
   "id": "36901326",
   "metadata": {},
   "source": [
    "**Lazy Evaluation**  -- It is a concept in programming that sometimes we do not want to evaluate an expression unless we call it.\n",
    "\n",
    "Ex -- When we call an element from a list -- my_list[0], then the whole list is called into RAM, but when we deal with iterators, only the element which we call using **next** is called and hence, iterators are not subscriptable."
   ]
  },
  {
   "cell_type": "markdown",
   "id": "bcdcf670",
   "metadata": {},
   "source": [
    "We have a library named **itertools** that has all iterator functions."
   ]
  },
  {
   "cell_type": "code",
   "execution_count": null,
   "id": "79e3b792",
   "metadata": {},
   "outputs": [],
   "source": [
    "\"\"\"\n",
    "Q. What will be the output of this code?\n",
    "\n",
    "1. 10\n",
    "2. 3\n",
    "3. 14\n",
    "4. StopIteratorError\n",
    "\"\"\"\n",
    "list_quizo = [10, 3, 15]\n",
    "list_quizo_iter = iter(list_quizo)\n",
    "var_1 = next(list_quizo_iter)\n",
    "print(next(list_quizo_iter))\n",
    "\n",
    "# Ans -- 3\n",
    "## because 10 was iterated for var_1 and hence, the iterator \n",
    "## started where it left i.e. 3"
   ]
  },
  {
   "cell_type": "markdown",
   "id": "33abb4b3",
   "metadata": {},
   "source": [
    "## Generators --\n",
    "1. We can create Python iterators using functions.\n",
    "2. We can also create Python *functions using iterators -- and these functions are called **generators**.\n",
    "3. Same as iterators, whenever the generator is called, it starts from where it left.\n",
    "## Yield --\n",
    "1. The key difference between regular functions and generators is the **yield** keyword.\n",
    "2. Yield makes the generators return values **one at a time**.\n",
    "3. **yield** replaces the **return** keyword.\n",
    "\n",
    "### Advantages of generators over normal functions --\n",
    "1. **Lazy** way to build iterables.\n",
    "2. Using generators, we can deal with **out-of-memory** problems.\n",
    "3. Generators are faster than normal functions, as there is no need to read the whole iterables when we want to perform some functions."
   ]
  },
  {
   "cell_type": "code",
   "execution_count": null,
   "id": "5302bfd7",
   "metadata": {},
   "outputs": [],
   "source": [
    "## normal function --\n",
    "def reverse_normal(data):\n",
    "    for i in range(len(data)-1, -1, -1) :\n",
    "        print(my_list43[i])\n",
    "my_list43 = [21,42,854,569,76147]\n",
    "reverse_normal(my_list43)"
   ]
  },
  {
   "cell_type": "code",
   "execution_count": null,
   "id": "21fca175",
   "metadata": {},
   "outputs": [],
   "source": [
    "## generator function of the above function --\n",
    "def reverse_generator(data):\n",
    "    for index in range(len(data)-1, -1, -1):\n",
    "        yield my_list43[index]\n",
    "# calling the function --\n",
    "varr = reverse_generator(my_list43)"
   ]
  },
  {
   "cell_type": "code",
   "execution_count": null,
   "id": "d2ef4cec",
   "metadata": {},
   "outputs": [],
   "source": [
    "print(varr)"
   ]
  },
  {
   "cell_type": "code",
   "execution_count": null,
   "id": "822a87a4",
   "metadata": {},
   "outputs": [],
   "source": [
    "next(varr)"
   ]
  },
  {
   "cell_type": "code",
   "execution_count": null,
   "id": "5860b6ba",
   "metadata": {},
   "outputs": [],
   "source": [
    "next(varr)"
   ]
  },
  {
   "cell_type": "code",
   "execution_count": null,
   "id": "3a39092b",
   "metadata": {},
   "outputs": [],
   "source": [
    "next(varr)"
   ]
  },
  {
   "cell_type": "code",
   "execution_count": null,
   "id": "49b6fc8c",
   "metadata": {},
   "outputs": [],
   "source": [
    "next(varr)"
   ]
  },
  {
   "cell_type": "code",
   "execution_count": null,
   "id": "f9e4f646",
   "metadata": {
    "scrolled": true
   },
   "outputs": [],
   "source": [
    "\"\"\"\n",
    "Q. Which of the following is not the valid reason \n",
    "to use generators?\n",
    "\n",
    "1. They are a lazy way to build iterables.\n",
    "2. They make the code shorter.\n",
    "3. They deal with out-of-memory problems.\n",
    "4. They are faster than normal functions.\n",
    "\"\"\"\n",
    "## Ans -- Option 2"
   ]
  },
  {
   "cell_type": "markdown",
   "id": "09addcdf",
   "metadata": {},
   "source": [
    "## Map function --\n",
    "1. Syntax of **map** function --\n",
    "    map(func, *iterables)\n",
    "2. The asterisk means there can be more than one iterables.\n",
    "3. The map function basically applies the input function o the input iterable.\n",
    "### Points to be noted before using map function --\n",
    "1. The function must have number of **inputs** *equal* to the number of **iterables**.\n",
    "2. The map function returns a *generator* that can be applied using the list built-in function.\n",
    "3. The function can be a *normal* or a *lambda* too.\n",
    "4. It's better to use lambda function with map function as it is more preferred and Pythonic way to write the code."
   ]
  },
  {
   "cell_type": "code",
   "execution_count": null,
   "id": "2169dfa4",
   "metadata": {},
   "outputs": [],
   "source": [
    "# normal fnction --  \n",
    "def addFive(my_list):\n",
    "    output_list = []\n",
    "    for i in my_list:\n",
    "        i+=5\n",
    "        output_list.append(i)\n",
    "    return output_list\n",
    "my_list = [4,5,6,7]\n",
    "addFive(my_list)"
   ]
  },
  {
   "cell_type": "code",
   "execution_count": null,
   "id": "9a88e913",
   "metadata": {},
   "outputs": [],
   "source": [
    "# doing the same with the map function --\n",
    "def addFive_map(element):\n",
    "    return element+5\n",
    "outt = map(addFive_map, my_list)"
   ]
  },
  {
   "cell_type": "code",
   "execution_count": null,
   "id": "bfa184d6",
   "metadata": {
    "scrolled": true
   },
   "outputs": [],
   "source": [
    "type(outt)"
   ]
  },
  {
   "cell_type": "code",
   "execution_count": null,
   "id": "76dd3436",
   "metadata": {},
   "outputs": [],
   "source": [
    "list(outt)"
   ]
  },
  {
   "cell_type": "code",
   "execution_count": null,
   "id": "af93ddea",
   "metadata": {},
   "outputs": [],
   "source": [
    "# using map with lambda function --\n",
    "# my_list = []\n",
    "output_map = map(lambda i : i+5, my_list)"
   ]
  },
  {
   "cell_type": "code",
   "execution_count": null,
   "id": "90d502bc",
   "metadata": {},
   "outputs": [],
   "source": [
    "list(output_map)"
   ]
  },
  {
   "cell_type": "code",
   "execution_count": null,
   "id": "613dc6d3",
   "metadata": {},
   "outputs": [],
   "source": [
    "# using map function to convert integer list to float list.\n",
    "int_list = [21, 27, 90, 101]\n",
    "float_list = map(float, int_list)\n",
    "print(float_list)\n",
    "list(float_list)"
   ]
  },
  {
   "cell_type": "code",
   "execution_count": null,
   "id": "4f81fa1b",
   "metadata": {},
   "outputs": [],
   "source": [
    "# using map function to raise elements of a list to some power.\n",
    "work_list = [2, 3, 5, 10]\n",
    "pow_list = [2, 2, 2, 2]\n",
    "expo_list = map(pow , work_list, pow_list)\n",
    "list(expo_list)"
   ]
  },
  {
   "cell_type": "code",
   "execution_count": null,
   "id": "c022845e",
   "metadata": {},
   "outputs": [],
   "source": [
    "\"\"\"\n",
    "Q. Use the map function to create a list that contains the no. of\n",
    "occurences of the letter 'n' in each element in the provided list.\n",
    "Use - map, lambda, count, list.\n",
    "\"\"\"\n",
    "input_list = ['What we think, we become', 'Every moment is a fresh beginning.', 'Change the world by being yourself', 'Hate comes from intimidation, love comes from appreciation', 'If I’m gonna tell a real story, I’m gonna start with my name.', 'Oh, the things you can find, if you don’t stay behind.']\n",
    "mapped_list = list(map(lambda element: element.count(\"n\"), input_list))\n",
    "print(mapped_list)"
   ]
  },
  {
   "cell_type": "markdown",
   "id": "b22ed918",
   "metadata": {},
   "source": [
    "## Filter function --\n",
    "1. Instead of applying a function on all the elements in the iterable, **filter** selects specific elements from the iterable based on the condition in the function.\n",
    "2. Syntax -- \n",
    "    filter(func, iterable)\n",
    "3. Unlike map, **filter** can only work on **one** iterable.\n",
    "### Points to be noted while using filter function --\n",
    "1. The function must return a **boolean iterable**.\n",
    "2. Like map, the filter returns a **generator**."
   ]
  },
  {
   "cell_type": "code",
   "execution_count": null,
   "id": "23c12424",
   "metadata": {},
   "outputs": [],
   "source": [
    "list_grades = [20, 70, 100, 50, 60, 34, 70]\n",
    "def pass_grade_normal(list_grades):\n",
    "    pass_grade_list = []\n",
    "    for element in list_grades:\n",
    "        if element>50:\n",
    "            pass_grade_list.append(element)\n",
    "    return pass_grade_list\n",
    "pass_grade_normal(list_grades)"
   ]
  },
  {
   "cell_type": "code",
   "execution_count": null,
   "id": "4078126b",
   "metadata": {},
   "outputs": [],
   "source": [
    "## filter example --\n",
    "grades = [20, 70, 100, 50, 60, 34, 70]\n",
    "def pass_grade_filter(element):\n",
    "    return element>50\n",
    "passed = list(filter(pass_grade_filter, grades))\n",
    "print(passed)"
   ]
  },
  {
   "cell_type": "code",
   "execution_count": null,
   "id": "cfedd6c8",
   "metadata": {
    "scrolled": true
   },
   "outputs": [],
   "source": [
    "## filter with lambda --\n",
    "passed_filter_lambda = list(filter(lambda element : element>50, list_grades))\n",
    "print(passed_filter_lambda)"
   ]
  },
  {
   "cell_type": "code",
   "execution_count": null,
   "id": "160795d2",
   "metadata": {},
   "outputs": [],
   "source": [
    "\"\"\"\n",
    "Q. What will be the output of the code --\n",
    "1. <filter at memory address>\n",
    "2. [92, 97, 91]\n",
    "3. [92, 80, 97, 65, 85, 91]\n",
    "\"\"\"\n",
    "# code --\n",
    "demo = [92, 80, 97, 65, 85, 91]\n",
    "def A_students(element):\n",
    "    return element > 90\n",
    "A_pass = list(filter(A_students, demo))\n",
    "print(A_pass)\n",
    "\n",
    "## Ans -- Option 2"
   ]
  },
  {
   "cell_type": "code",
   "execution_count": null,
   "id": "29d57cd6",
   "metadata": {},
   "outputs": [],
   "source": [
    "\"\"\"\n",
    "Q. Use the filter function to filter the list with\n",
    "only even numbers.\n",
    "Use -- lambda, filter, list, %\n",
    "\"\"\"\n",
    "numbers_list = [ 120 , 31 , 19 , 28 , 512 , 957 , 6321]\n",
    "even_list = list(filter(lambda i : i%2==0, numbers_list))\n",
    "print(even_list)"
   ]
  },
  {
   "cell_type": "markdown",
   "id": "104d8373",
   "metadata": {},
   "source": [
    "# Python Scripting and Libraries --\n",
    "1. Scripting basics\n",
    "2. Python IDE's\n",
    "3. Jupyter to VScode\n",
    "4. Importing scripts."
   ]
  },
  {
   "cell_type": "markdown",
   "id": "ebf01a64",
   "metadata": {},
   "source": [
    "### Script --\n",
    "1. Python scripts are basically text files with the **.py** extensions that run at once.\n",
    "2. "
   ]
  },
  {
   "cell_type": "markdown",
   "id": "0a6579e6",
   "metadata": {},
   "source": [
    "## Numpy -- \n",
    "1. What is NumPy? -- It is a free python library that is equipped with the collection of complex mathematical operations and that are suitable for processing statistical data.\n",
    "2. NumPy Arrays\n",
    "3. Reshaping, accessing and modifying\n",
    "4. Slicing and copying\n",
    "5. Inserting, copying and deleting\n",
    "6. Array logical indexing"
   ]
  },
  {
   "cell_type": "markdown",
   "id": "a7cb1827",
   "metadata": {},
   "source": [
    "### Intro to NumPy --\n",
    "1. It is one of the most powerful and popular third-party libraries in Python.\n",
    "2. **NumPy** is short for **Numerical Python**.\n",
    "3. NumPy is a must for scentific computing.\n",
    "4. The main component for NumPy is the N-dimensional array (**ndarray**).\n",
    "\n",
    "## Why use NumPy??\n",
    "1. It is **faster** than Python arrays.\n",
    "2. N-dimensional arrays by nature are more **optimized** and **easier** to work with more complex data.\n",
    "3. Dozens of **built-in** functions.\n",
    "\n",
    "## NumPy applications --\n",
    "1. Scientific domain \n",
    "2. Used in dozens of third-party libraries\n",
    "3. Data Science\n",
    "4. Machine learning\n",
    "5. Visualization\n",
    "\n",
    "## Numpy Array --\n",
    "1. It is the fundamental unit of NumPy library.\n",
    "2. It is a multi-dimensional array where all the elements have the same data type.\n",
    "3. NumPy array can be created using NumPy functions or by converting lists into NumPy arrays.\n",
    "\n",
    "## Important points nefore using NumPy --\n",
    "1. It is a standard to **import** NumPy and give it an alias which is **np**. --\n",
    "    import numpy as np\n",
    "2. We can also get the **shape** and **data type** of the array element using the *shape* and *dtype* attribute of the NumPy array.\n",
    "3. NumPy has its own data types which are different from the Python ones."
   ]
  },
  {
   "cell_type": "code",
   "execution_count": null,
   "id": "358d411b",
   "metadata": {},
   "outputs": [],
   "source": [
    "\"\"\"\n",
    "converting list to a NumPy array --\n",
    "\"\"\"\n",
    "import numpy as np\n",
    "my_list = [1,2,3]\n",
    "np_arr = np.asarray(my_list)\n",
    "print(np_arr)"
   ]
  },
  {
   "cell_type": "code",
   "execution_count": null,
   "id": "250e8f59",
   "metadata": {},
   "outputs": [],
   "source": [
    "\"\"\"\n",
    "Getting the shape and data type of a NumPy array --\n",
    "\"\"\"\n",
    "import numpy as np\n",
    "my_list = [1,2,3]\n",
    "np_arr = np.asarray(my_list)\n",
    "print(np_arr.shape)\n",
    "print(np_arr.dtype)"
   ]
  },
  {
   "cell_type": "code",
   "execution_count": null,
   "id": "bde89155",
   "metadata": {},
   "outputs": [],
   "source": [
    "\"\"\"\n",
    "We can also force an array to have a preferred data type --\n",
    "\"\"\"\n",
    "import numpy as np\n",
    "my_list = [1,2,3]\n",
    "np_arr = np.asarray(my_list, dtype=np.int64)"
   ]
  },
  {
   "cell_type": "code",
   "execution_count": null,
   "id": "b21a0c69",
   "metadata": {},
   "outputs": [],
   "source": [
    "\"\"\"\n",
    "Creating a NumPy array using built-in funcions ---\n",
    "\"\"\""
   ]
  },
  {
   "cell_type": "code",
   "execution_count": null,
   "id": "ce3b0edc",
   "metadata": {},
   "outputs": [],
   "source": [
    "\"\"\"\n",
    "Creating a multi-dimensional array with all '0's --\n",
    "\"\"\"\n",
    "import numpy as np\n",
    "np_arr_zeroes = np.zeros((2,5))\n",
    "print(np_arr_zeroes)"
   ]
  },
  {
   "cell_type": "code",
   "execution_count": null,
   "id": "dadb6049",
   "metadata": {},
   "outputs": [],
   "source": [
    "\"\"\"\n",
    "Creating a multi-dimensional array with all '1's --\n",
    "\"\"\"\n",
    "import numpy as np\n",
    "np_arr_ones = np.ones((2,5))\n",
    "print(np_arr_ones)"
   ]
  },
  {
   "cell_type": "code",
   "execution_count": null,
   "id": "992f3a55",
   "metadata": {
    "scrolled": true
   },
   "outputs": [],
   "source": [
    "\"\"\"\n",
    "Creating a NumPy array from a ange of values --\n",
    "\"\"\"\n",
    "import numpy as np\n",
    "np_arr_range = np.arange((10))\n",
    "print(np_arr_range)"
   ]
  },
  {
   "cell_type": "code",
   "execution_count": 30,
   "id": "a0468f58",
   "metadata": {},
   "outputs": [
    {
     "name": "stdout",
     "output_type": "stream",
     "text": [
      "[ 2  4  6  8 10 12 14 16 18]\n",
      "[ 2  4  6  8 10 12 14 16 18]\n"
     ]
    }
   ],
   "source": [
    "\"\"\"\n",
    "Creating an array with step --\n",
    "\"\"\"\n",
    "import numpy as np\n",
    "np_arr_step = np.arange(start=2, stop=20, step=2)\n",
    "print(np_arr_step)\n",
    "\n",
    "## it is not compulsory to write start, stop, step -\n",
    "np_arr_step2 = np.arange(2,20,2)\n",
    "print(np_arr_step2)"
   ]
  },
  {
   "cell_type": "code",
   "execution_count": 31,
   "id": "ce7286cf",
   "metadata": {
    "scrolled": true
   },
   "outputs": [
    {
     "name": "stdout",
     "output_type": "stream",
     "text": [
      "[[0.78257764 0.64768313 0.54521117 0.24925557 0.95367988]\n",
      " [0.42935496 0.22380484 0.99710469 0.68368686 0.94860643]\n",
      " [0.53095652 0.34530615 0.0540742  0.83956629 0.8076873 ]\n",
      " [0.34288669 0.76268733 0.41065963 0.53701566 0.99929249]\n",
      " [0.55224175 0.81374147 0.44301851 0.97191347 0.10851264]]\n"
     ]
    }
   ],
   "source": [
    "\"\"\"\n",
    "Creating a multi-dimensional numpy array of random numbers ---\n",
    "\"\"\"\n",
    "import numpy as np\n",
    "np_random = np.random.random((5,5))\n",
    "print(np_random)"
   ]
  },
  {
   "cell_type": "code",
   "execution_count": 32,
   "id": "8b5635ee",
   "metadata": {},
   "outputs": [
    {
     "name": "stdout",
     "output_type": "stream",
     "text": [
      "[3 4 5 6 7 8 9]\n"
     ]
    }
   ],
   "source": [
    "\"\"\"\n",
    "Q. Create a NumPy array with values from 3 to 9\n",
    "\"\"\"\n",
    "# Ans --\n",
    "import numpy as np\n",
    "np_arr = np.arange(3,10)\n",
    "print(np_arr)"
   ]
  },
  {
   "cell_type": "markdown",
   "id": "da62faf3",
   "metadata": {},
   "source": [
    "## Reshaping, accessing and modifying --\n",
    "### Reshaping --\n",
    "We can change the shape of an array using **reshape** function. The new shape must have equal number of elements as the old array.\n",
    "### Accessing & Modifying --\n",
    "1. We can access and modify specific elements in a 1D NumPy array the same way we did with 1D Python lists.\n",
    "2. However, accessing and modifying higher dimensional arrays is different from its counterparts."
   ]
  },
  {
   "cell_type": "code",
   "execution_count": 33,
   "id": "3a512ea1",
   "metadata": {
    "scrolled": true
   },
   "outputs": [
    {
     "name": "stdout",
     "output_type": "stream",
     "text": [
      "[0 1 2 3 4 5 6 7 8 9]\n",
      "[[0 1]\n",
      " [2 3]\n",
      " [4 5]\n",
      " [6 7]\n",
      " [8 9]]\n"
     ]
    }
   ],
   "source": [
    "\"\"\"\n",
    "Changing shape of array using 'reshape'\n",
    "\"\"\"\n",
    "import numpy as np\n",
    "np_normal = np.arange((10))\n",
    "np_arr_reshaped = np.reshape(np_normal, (5,2))\n",
    "print(np_normal)\n",
    "print(np_arr_reshaped)"
   ]
  },
  {
   "cell_type": "code",
   "execution_count": 34,
   "id": "38fd8e7c",
   "metadata": {},
   "outputs": [
    {
     "name": "stdout",
     "output_type": "stream",
     "text": [
      "[1, 2, 3] [1 2 3]\n",
      "2 2\n",
      "4 4\n"
     ]
    }
   ],
   "source": [
    "\"\"\"\n",
    "Accessing and modifying element of a NumPy array\n",
    "Same as a 1D list.\n",
    "\"\"\"\n",
    "import numpy as np\n",
    "OneD_list = [1,2,3]\n",
    "np_1D = np.asarray(OneD_list)\n",
    "print(OneD_list, np_1D)\n",
    "\n",
    "# accessing elements --\n",
    "print(OneD_list[1], np_1D[1])\n",
    "\n",
    "# modifying elements --\n",
    "OneD_list[2] = 4\n",
    "np_1D[2] = 4\n",
    "print(OneD_list[2], np_1D[2])"
   ]
  },
  {
   "cell_type": "code",
   "execution_count": 35,
   "id": "8de0bac9",
   "metadata": {},
   "outputs": [
    {
     "name": "stdout",
     "output_type": "stream",
     "text": [
      "[[1, 2, 3], [4, 5, 6], [7, 8, 9]]\n",
      "[[1 2 3]\n",
      " [4 5 6]\n",
      " [7 8 9]]\n",
      "6 6\n",
      "6 6\n"
     ]
    }
   ],
   "source": [
    "\"\"\"\n",
    "Accessing a higher dimension array --\n",
    "\"\"\"\n",
    "import numpy as np\n",
    "higher_list = [[1,2,3], [4,5,6], [7,8,9]]\n",
    "higher_arr = np.array(higher_list)\n",
    "print(higher_list)\n",
    "print(higher_arr)\n",
    "\n",
    "# accessing elements --\n",
    "print(higher_list[1][2], higher_arr[1,2])\n",
    "\n",
    "# modifying elements -- \n",
    "higher_list[1][2] = 6\n",
    "higher_arr[1,2] = 6\n",
    "print(higher_list[1][2], higher_arr[1,2])"
   ]
  },
  {
   "cell_type": "code",
   "execution_count": 36,
   "id": "f36fdf04",
   "metadata": {},
   "outputs": [
    {
     "name": "stdout",
     "output_type": "stream",
     "text": [
      "[[ 2  3  4  5]\n",
      " [ 6  7  8  9]\n",
      " [10 11 12 13]]\n",
      "[[ 2  3  4  5]\n",
      " [20  7  8  9]\n",
      " [10 11 12 13]]\n"
     ]
    }
   ],
   "source": [
    "\"\"\"\n",
    "Q. Reshape the given array into a 3*4.\n",
    "Change the value of the element in the 2nd row, 1st column.\n",
    "Hint -- NumPy array is zero-indexed\n",
    "\"\"\"\n",
    "import numpy as np\n",
    "# given numpy array --\n",
    "quiz_arr = np.arange(2,14)\n",
    "\n",
    "# ans --\n",
    "quiz_reshaped = np.reshape(quiz_arr, (3,4))\n",
    "print(quiz_reshaped)\n",
    "\n",
    "quiz_reshaped[1,0]=20\n",
    "print(quiz_reshaped)"
   ]
  },
  {
   "cell_type": "markdown",
   "id": "10eb56bd",
   "metadata": {},
   "source": [
    "## Slicing --\n",
    "[start : end, start : end]"
   ]
  },
  {
   "cell_type": "code",
   "execution_count": 37,
   "id": "ef4a8bcf",
   "metadata": {},
   "outputs": [
    {
     "name": "stdout",
     "output_type": "stream",
     "text": [
      "[[4 5 6]]\n"
     ]
    }
   ],
   "source": [
    "import numpy as np\n",
    "unsliced_list = [[1,2,3],[4,5,6],[7,8,9]]\n",
    "unsliced_arr = np.array(unsliced_list)\n",
    "sliced_arr = unsliced_arr[1:2]\n",
    "print(sliced_arr)"
   ]
  },
  {
   "cell_type": "markdown",
   "id": "b32a1da8",
   "metadata": {},
   "source": [
    "## Copying -- \n",
    "We should always use the **copy** funciton if we want to work on a subarray without manipulating the original one."
   ]
  },
  {
   "cell_type": "code",
   "execution_count": 38,
   "id": "8c077a01",
   "metadata": {},
   "outputs": [
    {
     "name": "stdout",
     "output_type": "stream",
     "text": [
      "[[4.17022005e-01 7.20324493e-01]\n",
      " [1.14374817e-04 3.02332573e-01]]\n"
     ]
    }
   ],
   "source": [
    "import numpy as np\n",
    "np_main = np.array([[1,2,3],[4,5,6],[7,8,9]])\n",
    "np_sub_main = np_main[1:2, 0:]\n",
    "np_sub_main[0,1]=10\n",
    "# print(np_main)\n",
    "# print(np_sub_main)\n",
    "\n",
    "\"\"\"\n",
    "Above, we also altered the main array too.\n",
    "To prevent this, we use the copy function.\n",
    "\"\"\"\n",
    "\n",
    "\"\"\"\n",
    "Copying the array --\n",
    "\"\"\"\n",
    "\n",
    "# creating a random array first -\n",
    "np.random.seed(1) # to keep the random array fix\n",
    "np_to_copy = np.random.random((2,2))\n",
    "np_copyy = np.copy(np_to_copy[0:2])\n",
    "print(np_copyy)"
   ]
  },
  {
   "cell_type": "code",
   "execution_count": 39,
   "id": "9d7c3a8b",
   "metadata": {},
   "outputs": [
    {
     "name": "stdout",
     "output_type": "stream",
     "text": [
      "[ 2  3  5 11]\n"
     ]
    }
   ],
   "source": [
    "\"\"\"\n",
    "Q. What is the output of the following code --\n",
    "\n",
    "1. [10, 21, 5, 11]\n",
    "2. [2, 3, 5, 11]\n",
    "\"\"\"\n",
    "np_quiz = np.array([10, 21, 5, 11])\n",
    "np_quiz_copy = np_quiz[0:2]\n",
    "np_quiz_copy[0:2]=[2,3]\n",
    "print(np_quiz)\n",
    "\n",
    "# Ans - Option2 because we sliced the array, \n",
    "# hence original was also altered."
   ]
  },
  {
   "cell_type": "code",
   "execution_count": 40,
   "id": "3620fbad",
   "metadata": {},
   "outputs": [
    {
     "name": "stdout",
     "output_type": "stream",
     "text": [
      "[[1. 1. 1. 1. 1. 1.]\n",
      " [1. 1. 1. 1. 1. 1.]\n",
      " [1. 1. 1. 0. 0. 1.]\n",
      " [1. 1. 1. 1. 1. 1.]\n",
      " [1. 1. 1. 1. 1. 1.]\n",
      " [1. 1. 1. 1. 1. 1.]\n",
      " [1. 1. 1. 1. 1. 1.]]\n"
     ]
    }
   ],
   "source": [
    "\"\"\"\n",
    "Q. Copy the given NumPy array and store the copy in \n",
    "a new NumPy array.\n",
    "Change the elements in the slice[2:4, 3:5] with the new Array.\n",
    "\"\"\"\n",
    "import numpy as np\n",
    "np_given = np.ones((7,6)) # given array\n",
    "np_slice = np.zeros((1,2))\n",
    "np_given_copy = np.copy(np_given)\n",
    "np_given_copy[2:3, 3:5] = np_slice\n",
    "print(np_given_copy)"
   ]
  },
  {
   "cell_type": "markdown",
   "id": "9fb8f883",
   "metadata": {},
   "source": [
    "## Inserting --\n",
    "With the **insert** method, we can specify where we want to add new elements."
   ]
  },
  {
   "cell_type": "code",
   "execution_count": 41,
   "id": "d0e53226",
   "metadata": {},
   "outputs": [
    {
     "name": "stdout",
     "output_type": "stream",
     "text": [
      "[[1 2]\n",
      " [5 2]]\n",
      "[[1 5 3 2]\n",
      " [5 3 4 2]]\n"
     ]
    }
   ],
   "source": [
    "\"\"\"\n",
    "Inserting example ---\n",
    "axis=0 -- row, axis=1 -- column\n",
    "\"\"\"\n",
    "import numpy as np\n",
    "np_insert = np.array([[1,2],[5,2]])\n",
    "np_insert2 = np.insert(np_insert, 1, [[5,3],[3,4]], axis=1)\n",
    "print(np_insert)\n",
    "print(np_insert2)"
   ]
  },
  {
   "cell_type": "markdown",
   "id": "fe2d743e",
   "metadata": {},
   "source": [
    "## Appending --\n",
    "1. The **append** method is for **concatenating** new elements. So, they are added after the original array elements.\n",
    "2. If the **axis** parameter is **not used**, the output will be a **1D array**.\n",
    "3. If the axis parameter is used, the added elements must have the **same shape** as the original array.\n",
    "4. If **axis = 1**, the added elements must have the **correct shape** with the original array.\n"
   ]
  },
  {
   "cell_type": "code",
   "execution_count": 42,
   "id": "6a87fc94",
   "metadata": {},
   "outputs": [
    {
     "name": "stdout",
     "output_type": "stream",
     "text": [
      "[[1 2]\n",
      " [5 2]]\n",
      "[1 2 5 2 6 1 2]\n"
     ]
    }
   ],
   "source": [
    "\"\"\"\n",
    "Appending example ---\n",
    "\"\"\"\n",
    "import numpy as np\n",
    "np_append = np.array([[1,2],[5,2]])\n",
    "np_append2 = np.append(np_append, [6,1,2])\n",
    "print(np_append)\n",
    "print(np_append2)"
   ]
  },
  {
   "cell_type": "code",
   "execution_count": 43,
   "id": "0fb18f96",
   "metadata": {},
   "outputs": [
    {
     "name": "stdout",
     "output_type": "stream",
     "text": [
      "[[1 2]\n",
      " [5 2]]\n",
      "[[1 2 5 3]\n",
      " [5 2 3 4]]\n"
     ]
    }
   ],
   "source": [
    "\"\"\"\n",
    "Appending example with axis=1 ---\n",
    "\"\"\"\n",
    "import numpy as np\n",
    "np_append3 = np.array([[1,2],[5,2]])\n",
    "np_append4 = np.append(np_append3, [[5,3],[3,4]], axis=1)\n",
    "print(np_append3)\n",
    "print(np_append4)"
   ]
  },
  {
   "cell_type": "markdown",
   "id": "ad8ba107",
   "metadata": {},
   "source": [
    "## Deleting --"
   ]
  },
  {
   "cell_type": "code",
   "execution_count": 44,
   "id": "28b0f2fe",
   "metadata": {},
   "outputs": [
    {
     "name": "stdout",
     "output_type": "stream",
     "text": [
      "[2 3 4 5 6 7]\n",
      "[2 4 6 7]\n"
     ]
    },
    {
     "data": {
      "text/plain": [
       "'\\nthe prameters inside the () after the delete function are\\nthe array_name and index, not the element.\\n'"
      ]
     },
     "execution_count": 44,
     "metadata": {},
     "output_type": "execute_result"
    }
   ],
   "source": [
    "\"\"\"\n",
    "Deleting a 1D array ---\n",
    "\"\"\"\n",
    "import numpy as np\n",
    "np_to_delete = np.array([1,2,3,4,5,6,7])\n",
    "np_to_delete = np.delete(np_to_delete, 0)\n",
    "print(np_to_delete)\n",
    "np_to_delete = np.delete(np_to_delete, [1,3])\n",
    "print(np_to_delete)\n",
    "\n",
    "\"\"\"\n",
    "the prameters inside the () after the delete function are\n",
    "the array_name and index, not the element.\n",
    "\"\"\""
   ]
  },
  {
   "cell_type": "code",
   "execution_count": 45,
   "id": "3af3501d",
   "metadata": {
    "scrolled": true
   },
   "outputs": [
    {
     "name": "stdout",
     "output_type": "stream",
     "text": [
      "[[ 2  3]\n",
      " [ 5  6]\n",
      " [ 8  9]\n",
      " [11 12]]\n",
      "[[2 3]\n",
      " [8 9]]\n"
     ]
    }
   ],
   "source": [
    "\"\"\"\n",
    "We can delete elements from a higher array using the\n",
    "delete function by specifying the axis parameter.\n",
    "\"\"\"\n",
    "import numpy as np\n",
    "np_delete_multi = np.array([[1,2,3],[4,5,6],[7,8,9],[10,11,12]])\n",
    "np_delete_multi = np.delete(np_delete_multi, 0, axis=1)\n",
    "print(np_delete_multi)\n",
    "np_delete_multi = np.delete(np_delete_multi, [1,3], axis=0)\n",
    "print(np_delete_multi)"
   ]
  },
  {
   "cell_type": "code",
   "execution_count": 46,
   "id": "343f8df8",
   "metadata": {},
   "outputs": [
    {
     "name": "stdout",
     "output_type": "stream",
     "text": [
      "[20  3 15 22  6 10]\n"
     ]
    }
   ],
   "source": [
    "\"\"\"\n",
    "Q. What is the output of the code --\n",
    "\n",
    "1. [20, 3, 15, 22, 6, 10]\n",
    "\n",
    "2. [[20,3]\n",
    "    [15,22]\n",
    "    [6,10]]\n",
    "    \n",
    "3. [20, 3, 15 , 22]\n",
    "\n",
    "4. Error\n",
    "\"\"\"\n",
    "import numpy as np\n",
    "np_ida = np.array([[20,3],[15,22]])\n",
    "np_ida2 = np.append(np_ida, [6,10])\n",
    "print(np_ida2)\n",
    "\n",
    "# Ans -- Option 1 because without the axis keyword\n",
    "         # we get 1D array as output."
   ]
  },
  {
   "cell_type": "code",
   "execution_count": 47,
   "id": "e66739e3",
   "metadata": {},
   "outputs": [
    {
     "name": "stdout",
     "output_type": "stream",
     "text": [
      "[  20   14   31   41  941  678 1468  121    3    4    5]\n",
      "[[  20   14]\n",
      " [  15   21]\n",
      " [  41   93]\n",
      " [  31   41]\n",
      " [ 941  678]\n",
      " [1468  121]]\n",
      "[[  31   41]\n",
      " [ 941  678]\n",
      " [1468  121]]\n"
     ]
    }
   ],
   "source": [
    "\"\"\"\n",
    "Creae 3 copies of the given array.\n",
    "1. Appned [3,5] to the first copy \n",
    "without axis parameter.\n",
    "\n",
    "2. Insert [[15,21],[41,93]] to the 2nd and 3rd rows \n",
    "of the 2nd copy.\n",
    "\n",
    "3. Delete the first row from the third copy.\n",
    "\"\"\"\n",
    "import numpy as np\n",
    "np_givenn = np.array([[20,14], [31,41], [941,678], [1468,121]])\n",
    "np_copy1 = np.copy(np_givenn)\n",
    "np_copy2 = np.copy(np_givenn)\n",
    "np_copy3 = np.copy(np_givenn)\n",
    "\n",
    "np_copy1 = np.append(np_copy1, [3,4,5])\n",
    "print(np_copy1)\n",
    "np_copy2 = np.insert(np_copy2, 1, [[15,21],[41,93]], axis=0)\n",
    "print(np_copy2)\n",
    "np_copy3 = np.delete(np_copy3, 0, axis=0)\n",
    "print(np_copy3)"
   ]
  },
  {
   "cell_type": "markdown",
   "id": "e062a275",
   "metadata": {},
   "source": [
    "## Array logical indexing --\n",
    "Sometimes, we want to select some elements from an array based on a condition.\n",
    "But the result array is converted to a 1D array."
   ]
  },
  {
   "cell_type": "code",
   "execution_count": 48,
   "id": "150b2b57",
   "metadata": {},
   "outputs": [
    {
     "name": "stdout",
     "output_type": "stream",
     "text": [
      "[3 4 5 6 7 8 9]\n"
     ]
    }
   ],
   "source": [
    "\"\"\"\n",
    "Logical indexing example ---\n",
    "\"\"\"\n",
    "import numpy as np\n",
    "np_to_index = np.array([[1,2,3], [4,5,6], [7,8,9]])\n",
    "np_indexed = np_to_index[np_to_index>2]\n",
    "print(np_indexed)"
   ]
  },
  {
   "cell_type": "code",
   "execution_count": 49,
   "id": "91eee470",
   "metadata": {},
   "outputs": [
    {
     "name": "stdout",
     "output_type": "stream",
     "text": [
      "[ 50 221  30 541  31  45]\n"
     ]
    }
   ],
   "source": [
    "\"\"\"\n",
    "Q. From the given array, print the values > 30.\n",
    "\"\"\"\n",
    "##given array - \n",
    "import numpy as np\n",
    "np_quiz_given = np.array([[50,221,12],[21,30,541],[12,31,45]])\n",
    "np_log = np_quiz_given[np_quiz_given>=30]\n",
    "print(np_log)"
   ]
  },
  {
   "cell_type": "markdown",
   "id": "a71c21b5",
   "metadata": {},
   "source": [
    "## Broadcasting --\n",
    "1. According to NumPy official documentation, **Broadcasting** is how NumPy perfroms arithmetic operations between arrays with different shapes.\n",
    "2. The **smaller** array is **broadcasted** across the **larger** one.\n",
    "## Advantages of broadcasting --\n",
    "1. Much faster than loops.\n",
    "2. Dosen't create new copies in the memory.\n",
    "\n",
    "## Broadcasting rules --\n",
    "1. One of the conditions **must** exist for broadcasting --\n",
    "    (i) One of the dimensions is **1**.\n",
    "    (ii) The **trailing** dimensions of both the arrays must match."
   ]
  },
  {
   "cell_type": "code",
   "execution_count": 50,
   "id": "375c1f3d",
   "metadata": {},
   "outputs": [
    {
     "name": "stdout",
     "output_type": "stream",
     "text": [
      "[[ 3  6 15]]\n"
     ]
    }
   ],
   "source": [
    "import numpy as np\n",
    "np_1 = np.array([[1,2,3]])\n",
    "np_2 = np.array([[3,3,5]])\n",
    "np_3 = np_1*np_2\n",
    "print(np_3)"
   ]
  },
  {
   "cell_type": "code",
   "execution_count": 51,
   "id": "577738a9",
   "metadata": {},
   "outputs": [
    {
     "name": "stdout",
     "output_type": "stream",
     "text": [
      "[[10 20 30 40 50]]\n"
     ]
    }
   ],
   "source": [
    "import numpy as np\n",
    "np_4 = np.array([[1,2,3,4,5]])\n",
    "np_5 = np_4*10\n",
    "print(np_5)"
   ]
  },
  {
   "cell_type": "markdown",
   "id": "4d3b3c1e",
   "metadata": {},
   "source": [
    "# Pandas ---\n",
    "1. It is one of the most popular and powerful third-party libraries in Python.\n",
    "2. **Pandas** comes from **Panel Data**.\n",
    "3. Pandas is crucial for data manipulation and analysis. We will be using Pandas to manipulate, read, analyze, visualize data and more.\n",
    "4. Pandas introduces us to two new data structures -- **DataFrame** and **Series**."
   ]
  },
  {
   "cell_type": "markdown",
   "id": "dfea1cfc",
   "metadata": {},
   "source": [
    "## Highlights of Pandas --\n",
    "1. **DataFrame** is perfect for **tabular** data manipulation.\n",
    "2. Pandas comes with easy-to-use functions for **interfacing** with text files, excel sheets, SQL databases, and HDF5 binary files.\n",
    "3. Pandas is also flexible in **labelling** rows and columns.\n",
    "5. Pandas is highly **integrable** with NumPy, MatPlotLib, and hundreds of poweful libraries.\n",
    "6. Dozens of data cleaning, manipulation, and analysis functions."
   ]
  },
  {
   "cell_type": "markdown",
   "id": "088effd6",
   "metadata": {},
   "source": [
    "## Pandas Series --\n",
    "\n",
    "### What is a Pandas Series?\n",
    "1. They are one-dimensional objects.\n",
    "2. Capable of holding any data type(integers, strings, floats, point numbers, Python objects, etc.)\n",
    "3. We can assign an index for each element in the series.\n",
    "\n",
    "### Series Basic Attributes --\n",
    "1. shape\n",
    "2. ndim -- no. of dimensions\n",
    "3. size\n",
    "4. values\n",
    "5. index"
   ]
  },
  {
   "cell_type": "code",
   "execution_count": 52,
   "id": "ec36fa12",
   "metadata": {},
   "outputs": [
    {
     "name": "stdout",
     "output_type": "stream",
     "text": [
      "F-name     Rishi\n",
      "L-name    Thakur\n",
      "age           19\n",
      "Course       CSE\n",
      "dtype: object\n"
     ]
    }
   ],
   "source": [
    "\"\"\"\n",
    "Creating a pandas series ---\n",
    "\"\"\"\n",
    "import pandas as pd\n",
    "pd_series = pd.Series(data = ['Rishi', 'Thakur', 19, 'CSE'], index = ['F-name', 'L-name', 'age', 'Course'])\n",
    "print(pd_series)"
   ]
  },
  {
   "cell_type": "code",
   "execution_count": 53,
   "id": "da747926",
   "metadata": {},
   "outputs": [
    {
     "name": "stdout",
     "output_type": "stream",
     "text": [
      "0    1\n",
      "1    2\n",
      "2    3\n",
      "3    7\n",
      "dtype: int32\n"
     ]
    }
   ],
   "source": [
    "\"\"\"\n",
    "Creating a Pandas series from a numpy array ---\n",
    "\"\"\"\n",
    "import numpy as np\n",
    "import pandas as pd\n",
    "np_to_pd = np.array([1,2,3,7])\n",
    "series_np = pd.Series(np_to_pd)\n",
    "print(series_np)"
   ]
  },
  {
   "cell_type": "code",
   "execution_count": 54,
   "id": "c1646a15-ac3f-4cca-9a89-d059cbbb09b0",
   "metadata": {},
   "outputs": [
    {
     "name": "stdout",
     "output_type": "stream",
     "text": [
      "0    65\n",
      "1    10\n",
      "2    90\n",
      "3    54\n",
      "4    65\n",
      "dtype: int64\n"
     ]
    }
   ],
   "source": [
    "\"\"\"\n",
    "Creating a Pandas series from a list ---\n",
    "\"\"\"\n",
    "import pandas as pd\n",
    "series_list = pd.Series([65, 10, 90, 54, 65])\n",
    "print(series_list)"
   ]
  },
  {
   "cell_type": "code",
   "execution_count": 55,
   "id": "79aeaece",
   "metadata": {
    "scrolled": true
   },
   "outputs": [
    {
     "name": "stdout",
     "output_type": "stream",
     "text": [
      "First         30\n",
      "Second      4.05\n",
      "Third     Orange\n",
      "dtype: object\n",
      "4.05\n"
     ]
    }
   ],
   "source": [
    "\"\"\"\n",
    "Creating Pandas Series from a dictionary ---\n",
    "\"\"\"\n",
    "import pandas as pd\n",
    "n_dict = {'First':30, 'Second':4.05, 'Third':\"Orange\"}\n",
    "series_dict = pd.Series(n_dict)\n",
    "print(series_dict)\n",
    "print(series_dict['Second'])"
   ]
  },
  {
   "cell_type": "code",
   "execution_count": 56,
   "id": "1ab0cc2a",
   "metadata": {
    "scrolled": true
   },
   "outputs": [
    {
     "name": "stdout",
     "output_type": "stream",
     "text": [
      "0    21\n",
      "1    21\n",
      "2    21\n",
      "3    21\n",
      "4    21\n",
      "5    21\n",
      "dtype: int64\n"
     ]
    }
   ],
   "source": [
    "\"\"\"\n",
    "Creating Pandas Series from a Scalar value ---\n",
    "\"\"\"\n",
    "scalar_value=21\n",
    "series_scalar = pd.Series(scalar_value, index=[0,1,2,3,4,5])\n",
    "print(series_scalar)"
   ]
  },
  {
   "cell_type": "code",
   "execution_count": 57,
   "id": "dba2431e",
   "metadata": {
    "scrolled": true
   },
   "outputs": [
    {
     "name": "stdout",
     "output_type": "stream",
     "text": [
      "object\n"
     ]
    }
   ],
   "source": [
    "\"\"\"\n",
    "Pandas series is like NumPy\n",
    "\"\"\"\n",
    "print(series_dict.dtype)"
   ]
  },
  {
   "cell_type": "code",
   "execution_count": 61,
   "id": "109f4d28",
   "metadata": {
    "scrolled": true
   },
   "outputs": [
    {
     "name": "stdout",
     "output_type": "stream",
     "text": [
      "First         30\n",
      "Second      4.05\n",
      "Third     Orange\n",
      "dtype: object\n",
      "[30 4.05 'Orange']\n"
     ]
    }
   ],
   "source": [
    "\"\"\"\n",
    "Converting Pandas series to NumPy array --\n",
    "\"\"\"\n",
    "import pandas as pd\n",
    "print(series_dict)\n",
    "np_series = series_dict.to_numpy()\n",
    "print(np_series)"
   ]
  },
  {
   "cell_type": "code",
   "execution_count": 62,
   "id": "56c6f370",
   "metadata": {},
   "outputs": [
    {
     "name": "stdout",
     "output_type": "stream",
     "text": [
      "(3,)\n"
     ]
    }
   ],
   "source": [
    "\"\"\"\n",
    "Printing shape of a pandas series ---\n",
    "\"\"\"\n",
    "print(series_dict.shape)"
   ]
  },
  {
   "cell_type": "code",
   "execution_count": 63,
   "id": "23b09db4",
   "metadata": {},
   "outputs": [
    {
     "name": "stdout",
     "output_type": "stream",
     "text": [
      "1\n"
     ]
    }
   ],
   "source": [
    "\"\"\"\n",
    "printing no. of dimensions of a pandas series\n",
    "\"\"\"\n",
    "print(series_dict.ndim)"
   ]
  },
  {
   "cell_type": "code",
   "execution_count": 64,
   "id": "d6487fb9",
   "metadata": {},
   "outputs": [
    {
     "name": "stdout",
     "output_type": "stream",
     "text": [
      "3\n"
     ]
    }
   ],
   "source": [
    "\"\"\"\n",
    "printing the size of a Pandas series\n",
    "\"\"\"\n",
    "print(series_dict.size)"
   ]
  },
  {
   "cell_type": "code",
   "execution_count": 65,
   "id": "a9b91743",
   "metadata": {},
   "outputs": [
    {
     "name": "stdout",
     "output_type": "stream",
     "text": [
      "[30 4.05 'Orange']\n"
     ]
    }
   ],
   "source": [
    "\"\"\"\n",
    "printing values of a pandas series\n",
    "\"\"\"\n",
    "print(series_dict.values)"
   ]
  },
  {
   "cell_type": "code",
   "execution_count": 66,
   "id": "0c2ca044",
   "metadata": {},
   "outputs": [
    {
     "name": "stdout",
     "output_type": "stream",
     "text": [
      "Index(['First', 'Second', 'Third'], dtype='object')\n"
     ]
    }
   ],
   "source": [
    "\"\"\"\n",
    "printing the index of a pandas series\n",
    "\"\"\"\n",
    "print(series_dict.index)"
   ]
  },
  {
   "cell_type": "code",
   "execution_count": 69,
   "id": "fba3a43d",
   "metadata": {},
   "outputs": [
    {
     "name": "stdout",
     "output_type": "stream",
     "text": [
      "None\n"
     ]
    }
   ],
   "source": [
    "\"\"\"\n",
    "printing the name of a pandas series \n",
    "\"\"\"\n",
    "print(series_dict.name)\n",
    "\n",
    "# we will get none as outpur because we did not\n",
    "# specify the name of our current series."
   ]
  },
  {
   "cell_type": "code",
   "execution_count": 71,
   "id": "8c7a9183",
   "metadata": {},
   "outputs": [
    {
     "name": "stdout",
     "output_type": "stream",
     "text": [
      "MyDemo\n"
     ]
    }
   ],
   "source": [
    "\"\"\"\n",
    "declaring the name of the series \n",
    "\"\"\"\n",
    "import pandas as pd\n",
    "noName_dict = {'First':30, 'Second':4.05, 'Third':\"Orange\"}\n",
    "\n",
    "# converting the dict to a pandas series\n",
    "noName_series = pd.Series(noName_dict, name='MyDemo')\n",
    "\n",
    "# now printing the name, we won't get none as the result.\n",
    "print(noName_series.name)"
   ]
  },
  {
   "cell_type": "code",
   "execution_count": 72,
   "id": "a35aec9f",
   "metadata": {},
   "outputs": [
    {
     "data": {
      "text/plain": [
       "'\\nQ. Are Pandas series similar to NunPy arrays or \\nPython dictionaries?\\n'"
      ]
     },
     "execution_count": 72,
     "metadata": {},
     "output_type": "execute_result"
    }
   ],
   "source": [
    "\"\"\"\n",
    "Q. Are Pandas series similar to NunPy arrays or \n",
    "Python dictionaries?\n",
    "\"\"\"\n",
    "# Ans -- They are similar to both."
   ]
  },
  {
   "cell_type": "markdown",
   "id": "248a6618",
   "metadata": {},
   "source": [
    "## Pandas series manipulation --\n",
    "1. We can **access** elements using the index labels. These labels can be **single** or **multiple**. These labels can be **numerical** or with their **name**.\n",
    "2. Pandas series is **mutable**.\n",
    "3. We can drop an element using the **drop** method.\n",
    "4. We can perform **mathematical** operations on the series, given that these operations are defined for its elements.\n",
    "5. "
   ]
  },
  {
   "cell_type": "code",
   "execution_count": 82,
   "id": "d73d7fe1",
   "metadata": {},
   "outputs": [
    {
     "name": "stdout",
     "output_type": "stream",
     "text": [
      "1                1\n",
      "list     [1, 2, 3]\n",
      "tuple    (1, 2, 3)\n",
      "dtype: object\n"
     ]
    }
   ],
   "source": [
    "import pandas as pd\n",
    "di = {'1':1, 'list':[1,2,3], 'tuple':(1,2,3)}\n",
    "series_di = pd.Series(di)\n",
    "print(series_di)"
   ]
  },
  {
   "cell_type": "code",
   "execution_count": 83,
   "id": "21763afc",
   "metadata": {},
   "outputs": [
    {
     "name": "stdout",
     "output_type": "stream",
     "text": [
      "1\n"
     ]
    }
   ],
   "source": [
    "\"\"\"\n",
    "Indexing of Pandas series --\n",
    "\"\"\"\n",
    "print(series_di[0])\n",
    "\n",
    "# because the object was not dictionary and hence \n",
    "# we could call it by index, unlike dictionaries\n",
    "# where we need the corresponding key."
   ]
  },
  {
   "cell_type": "code",
   "execution_count": 84,
   "id": "cd9a90e1",
   "metadata": {},
   "outputs": [
    {
     "name": "stdout",
     "output_type": "stream",
     "text": [
      "1                1\n",
      "list            21\n",
      "tuple    (1, 2, 3)\n",
      "dtype: object\n"
     ]
    }
   ],
   "source": [
    "\"\"\"\n",
    "Pandas series are mutable --\n",
    "\"\"\"\n",
    "series_di['list']=21\n",
    "print(series_di)\n",
    "\n",
    "# the output will change the value of the corresponding\n",
    "# key as pandas series is mutable."
   ]
  },
  {
   "cell_type": "code",
   "execution_count": 90,
   "id": "53d46104",
   "metadata": {},
   "outputs": [
    {
     "name": "stdout",
     "output_type": "stream",
     "text": [
      "1                1\n",
      "tuple    (1, 2, 3)\n",
      "dtype: object\n"
     ]
    }
   ],
   "source": [
    "\"\"\"\n",
    "Droppinh elements from a series ---\n",
    "\"\"\"\n",
    "dropped = series_di.drop(labels = 'list')\n",
    "print(dropped)"
   ]
  },
  {
   "cell_type": "code",
   "execution_count": 101,
   "id": "68212c3b",
   "metadata": {
    "scrolled": true
   },
   "outputs": [
    {
     "name": "stdout",
     "output_type": "stream",
     "text": [
      "Without using Pandas : 0    11\n",
      "1     8\n",
      "2     7\n",
      "dtype: int64\n",
      " \n",
      "Using Pandas : 0    11\n",
      "1     8\n",
      "2     7\n",
      "dtype: int64\n"
     ]
    },
    {
     "name": "stderr",
     "output_type": "stream",
     "text": [
      "C:\\Users\\rishi\\AppData\\Local\\Temp/ipykernel_14644/2181807650.py:8: DeprecationWarning: The default dtype for empty Series will be 'object' instead of 'float64' in a future version. Specify a dtype explicitly to silence this warning.\n",
      "  added_series1 = pd.Series()\n"
     ]
    }
   ],
   "source": [
    "\"\"\"\n",
    "Performing mathematical operations on Pandas ---\n",
    "\"\"\"\n",
    "series_1 = pd.Series([1,5,2])\n",
    "series_2 = pd.Series([10,3,5])\n",
    "\n",
    "\"\"\" adding without builtin Pandas function\"\"\"\n",
    "added_series1 = pd.Series()\n",
    "for i in range(len(series_1)):\n",
    "    current1 = series_1[i]\n",
    "    current2 = series_2[i]\n",
    "    currentt = current1+current2\n",
    "    currentt = pd.Series(currentt, index=[i])\n",
    "    added_series1 = added_series1.append(currentt)\n",
    "print(f\"Without using Pandas : {added_series1}\")\n",
    "\n",
    "\"\"\" adding using Pandas function\"\"\"\n",
    "added_series2 = series_1.add(series_2)\n",
    "print(\" \") # for my own purpose (gap)\n",
    "print(f\"Using Pandas : {added_series2}\")"
   ]
  },
  {
   "cell_type": "code",
   "execution_count": 102,
   "id": "c76df9cb",
   "metadata": {},
   "outputs": [
    {
     "data": {
      "text/plain": [
       "'\\nHow can we subtract two pandas series?\\n'"
      ]
     },
     "execution_count": 102,
     "metadata": {},
     "output_type": "execute_result"
    }
   ],
   "source": [
    "\"\"\"\n",
    "How can we subtract two pandas series?\n",
    "\"\"\"\n",
    "# Ans --\n",
    "# series_1.sub(series_2)"
   ]
  },
  {
   "cell_type": "code",
   "execution_count": 105,
   "id": "70c84492",
   "metadata": {
    "scrolled": false
   },
   "outputs": [
    {
     "name": "stdout",
     "output_type": "stream",
     "text": [
      "0     5.4\n",
      "1    12.0\n",
      "2     5.0\n",
      "3     9.0\n",
      "4    17.0\n",
      "dtype: float64\n",
      "  \n",
      "0    0.6\n",
      "1   -2.0\n",
      "2   -1.0\n",
      "3   -1.0\n",
      "4   -5.0\n",
      "dtype: float64\n",
      "  \n",
      "0     7.2\n",
      "1    35.0\n",
      "2     6.0\n",
      "3    20.0\n",
      "4    66.0\n",
      "dtype: float64\n",
      " \n",
      "0    1.250000\n",
      "1    0.714286\n",
      "2    0.666667\n",
      "3    0.800000\n",
      "4    0.545455\n",
      "dtype: float64\n"
     ]
    }
   ],
   "source": [
    "\"\"\"\n",
    "Q. Write a program to add, subtract and multiply the \n",
    "given pandas series.\n",
    "\"\"\"\n",
    "import pandas as pd\n",
    "pd_series_1 = pd.Series([3,5,2,4,6])\n",
    "pd_series_2 = pd.Series([2.4,7,3,5,11])\n",
    "\n",
    "pd_add = pd_series_1.add(pd_series_2)\n",
    "print(pd_add)\n",
    "print(\"  \")\n",
    "pd_sub = pd_series_1.sub(pd_series_2)\n",
    "print(pd_sub)\n",
    "print(\"  \")\n",
    "pd_multi = pd_series_1.multiply(pd_series_2)\n",
    "print(pd_multi)\n",
    "print(\" \")\n",
    "pd_div = pd_series_1.divide(pd_series_2)\n",
    "print(pd_div)"
   ]
  },
  {
   "cell_type": "markdown",
   "id": "edc6d814",
   "metadata": {},
   "source": [
    "## Pandas DataFrame --\n",
    "1. A DataFrame is a two-dimensional data structure.\n",
    "2. It can be imagined as a **dictionary for series** bjects.\n",
    "3. Each column of the DataFrame is a **Series** object.\n",
    "4. We can also create a DataFrame by reading a csv file.\n",
    "\n",
    "### DataFrame basic Attributes --\n",
    "1. shape\n",
    "2. ndim\n",
    "3. size\n",
    "4. values\n",
    "5. index\n",
    "6. **columns**"
   ]
  },
  {
   "cell_type": "code",
   "execution_count": 2,
   "id": "ac89fc3e",
   "metadata": {},
   "outputs": [],
   "source": [
    "\"\"\"\n",
    "Creating a DataFrame in python ---\n",
    "\"\"\"\n",
    "import pandas as pd\n",
    "\n",
    "corona_tweets = {'username':['ag21a','dg1az','ga1a'],'user_verified':[\"True\",\"False\",\"False\"],'tweets':['Wash hands #covid','Wear a mask #corona','hope it ends soon #quarentine']}\n",
    "corona_df = pd.DataFrame(corona_tweets, index=['user1','user2','user3'])"
   ]
  },
  {
   "cell_type": "code",
   "execution_count": 3,
   "id": "52c0aff1",
   "metadata": {},
   "outputs": [
    {
     "name": "stdout",
     "output_type": "stream",
     "text": [
      "   tweet    user  verified\n",
      "0      1   rishi      True\n",
      "1      2  thakur     False\n",
      "2      3  arthur     False\n"
     ]
    }
   ],
   "source": [
    "\"\"\"\n",
    "Creating DataFrame from a dictionary ---\n",
    "\"\"\"\n",
    "import pandas as pd\n",
    "dicto = { \"tweet\":[1,2,3], \"user\":['rishi','thakur','arthur'], 'verified':[True, False, False]}\n",
    "\n",
    "df_dicto = pd.DataFrame(dicto)\n",
    "print(df_dicto)\n",
    "\n",
    "# keep in mind, we need to have the same size for all the\n",
    "# inputs so as to create a DataFrame from a dictionary."
   ]
  },
  {
   "cell_type": "code",
   "execution_count": 8,
   "id": "2ccec521",
   "metadata": {},
   "outputs": [
    {
     "name": "stdout",
     "output_type": "stream",
     "text": [
      "   tweet    user  verified\n",
      "0    2.0   rishi      True\n",
      "1    3.0  thakur     False\n",
      "2    NaN  arthur     False\n"
     ]
    }
   ],
   "source": [
    "\"\"\"\n",
    "Creating a DataFrame from a Pandas series ---\n",
    "\"\"\"\n",
    "import pandas as pd\n",
    "dicto_series = { \"tweet\":pd.Series([2,3]), \"user\":pd.Series(['rishi','thakur','arthur']), 'verified':pd.Series([True, False, False])}\n",
    "\n",
    "df_dicto_series = pd.DataFrame(dicto_series)\n",
    "print(df_dicto_series)\n",
    "\n",
    "# if we remove an element now, still our DataFrame \n",
    "# would work properly "
   ]
  },
  {
   "cell_type": "code",
   "execution_count": 13,
   "id": "e98e6974",
   "metadata": {},
   "outputs": [
    {
     "name": "stdout",
     "output_type": "stream",
     "text": [
      "   0\n",
      "0  1\n",
      "1  5\n",
      "2  2\n",
      "  \n",
      "   Column1\n",
      "0        1\n",
      "1        5\n",
      "2        2\n"
     ]
    }
   ],
   "source": [
    "\"\"\"\n",
    "Creating a DataFrame from a NumPy array\n",
    "\"\"\"\n",
    "import pandas as pd\n",
    "import numpy as np\n",
    "listo = [1,5,2]\n",
    "df_listo = pd.DataFrame(listo)\n",
    "print(df_listo)\n",
    "\n",
    "## the extra '0' in the output is column name, \n",
    "# and since we did not define the column name, \n",
    "# the default column name was 0\n",
    "\n",
    "# defining column name --\n",
    "df_listo_with_column = pd.DataFrame(listo, columns = ['Column1'])\n",
    "print(\"  \")\n",
    "print(df_listo_with_column)"
   ]
  },
  {
   "cell_type": "code",
   "execution_count": 3,
   "id": "f7948c83",
   "metadata": {},
   "outputs": [
    {
     "name": "stdout",
     "output_type": "stream",
     "text": [
      "     a    c     b     g\n",
      "0  2.0  4.5   NaN   NaN\n",
      "1  NaN  NaN  43.0  12.0\n",
      "    a     c\n",
      "0   2   4.5\n",
      "1  43  12.0\n"
     ]
    }
   ],
   "source": [
    "\"\"\"\n",
    "Creating a DataFrame from a list of dictionaries ---\n",
    "\"\"\"\n",
    "import pandas as pd\n",
    "list_dict = [{\"a\":2, \"c\":4.5, }, {\"b\":43, \"g\":12}]\n",
    "df_list_dict = pd.DataFrame(list_dict)\n",
    "print(df_list_dict)\n",
    "\n",
    "# a,c,b,g acts as column names.\n",
    "# so, if we give two values to 'a' or 'c' \n",
    "# we will get a value inplace of NaN\n",
    "# this is because the different dictionaries will have\n",
    "# different index.\n",
    "list_dict1 = [{\"a\":2, \"c\":4.5, }, {\"a\":43, \"c\":12}]\n",
    "df_list_dict1 = pd.DataFrame(list_dict1)\n",
    "print(df_list_dict1)"
   ]
  },
  {
   "cell_type": "code",
   "execution_count": 8,
   "id": "6680602e",
   "metadata": {},
   "outputs": [
    {
     "name": "stdout",
     "output_type": "stream",
     "text": [
      "     0    1    2\n",
      "0  4.0  4.0  4.0\n",
      "1  4.0  4.0  4.0\n",
      "2  4.0  4.0  4.0\n"
     ]
    }
   ],
   "source": [
    "\"\"\"\n",
    "Creating a DataFrame from a 2-D Numpy Array ---\n",
    "\"\"\"\n",
    "import numpy as np\n",
    "import pandas as pd\n",
    "npo = 4*np.ones((3,3))\n",
    "df_npo = pd.DataFrame(npo)\n",
    "print(df_npo)"
   ]
  },
  {
   "cell_type": "code",
   "execution_count": 10,
   "id": "b792dc6d",
   "metadata": {},
   "outputs": [
    {
     "name": "stdout",
     "output_type": "stream",
     "text": [
      "   0\n",
      "0  1\n",
      "1  2\n",
      "2  3\n",
      "3  4\n"
     ]
    }
   ],
   "source": [
    "\"\"\"\n",
    "Creating a DataFrame from a Pandas series ---\n",
    "\"\"\"\n",
    "import pandas as pd\n",
    "pd_ser = pd.Series([1,2,3,4])\n",
    "df_pd_ser = pd.DataFrame(pd_ser)\n",
    "print(df_pd_ser)"
   ]
  },
  {
   "cell_type": "code",
   "execution_count": 2,
   "id": "22296b53",
   "metadata": {},
   "outputs": [
    {
     "data": {
      "text/html": [
       "<div>\n",
       "<style scoped>\n",
       "    .dataframe tbody tr th:only-of-type {\n",
       "        vertical-align: middle;\n",
       "    }\n",
       "\n",
       "    .dataframe tbody tr th {\n",
       "        vertical-align: top;\n",
       "    }\n",
       "\n",
       "    .dataframe thead th {\n",
       "        text-align: right;\n",
       "    }\n",
       "</style>\n",
       "<table border=\"1\" class=\"dataframe\">\n",
       "  <thead>\n",
       "    <tr style=\"text-align: right;\">\n",
       "      <th></th>\n",
       "      <th>user_name</th>\n",
       "      <th>user_location</th>\n",
       "      <th>user_description</th>\n",
       "      <th>user_created</th>\n",
       "      <th>user_followers</th>\n",
       "      <th>user_friends</th>\n",
       "      <th>user_favourites</th>\n",
       "      <th>user_verified</th>\n",
       "      <th>date</th>\n",
       "      <th>text</th>\n",
       "      <th>hashtags</th>\n",
       "      <th>source</th>\n",
       "      <th>is_retweet</th>\n",
       "    </tr>\n",
       "  </thead>\n",
       "  <tbody>\n",
       "    <tr>\n",
       "      <th>0</th>\n",
       "      <td>ᏉᎥ☻լꂅϮ</td>\n",
       "      <td>astroworld</td>\n",
       "      <td>wednesday addams as a disney princess keepin i...</td>\n",
       "      <td>2017-05-26 05:46:42</td>\n",
       "      <td>624</td>\n",
       "      <td>950</td>\n",
       "      <td>18775</td>\n",
       "      <td>False</td>\n",
       "      <td>2020-07-25 12:27:21</td>\n",
       "      <td>If I smelled the scent of hand sanitizers toda...</td>\n",
       "      <td>NaN</td>\n",
       "      <td>Twitter for iPhone</td>\n",
       "      <td>False</td>\n",
       "    </tr>\n",
       "    <tr>\n",
       "      <th>1</th>\n",
       "      <td>Tom Basile 🇺🇸</td>\n",
       "      <td>New York, NY</td>\n",
       "      <td>Husband, Father, Columnist &amp; Commentator. Auth...</td>\n",
       "      <td>2009-04-16 20:06:23</td>\n",
       "      <td>2253</td>\n",
       "      <td>1677</td>\n",
       "      <td>24</td>\n",
       "      <td>True</td>\n",
       "      <td>2020-07-25 12:27:17</td>\n",
       "      <td>Hey @Yankees @YankeesPR and @MLB - wouldn't it...</td>\n",
       "      <td>NaN</td>\n",
       "      <td>Twitter for Android</td>\n",
       "      <td>False</td>\n",
       "    </tr>\n",
       "    <tr>\n",
       "      <th>2</th>\n",
       "      <td>Time4fisticuffs</td>\n",
       "      <td>Pewee Valley, KY</td>\n",
       "      <td>#Christian #Catholic #Conservative #Reagan #Re...</td>\n",
       "      <td>2009-02-28 18:57:41</td>\n",
       "      <td>9275</td>\n",
       "      <td>9525</td>\n",
       "      <td>7254</td>\n",
       "      <td>False</td>\n",
       "      <td>2020-07-25 12:27:14</td>\n",
       "      <td>@diane3443 @wdunlap @realDonaldTrump Trump nev...</td>\n",
       "      <td>['COVID19']</td>\n",
       "      <td>Twitter for Android</td>\n",
       "      <td>False</td>\n",
       "    </tr>\n",
       "    <tr>\n",
       "      <th>3</th>\n",
       "      <td>ethel mertz</td>\n",
       "      <td>Stuck in the Middle</td>\n",
       "      <td>#Browns #Indians #ClevelandProud #[]_[] #Cavs ...</td>\n",
       "      <td>2019-03-07 01:45:06</td>\n",
       "      <td>197</td>\n",
       "      <td>987</td>\n",
       "      <td>1488</td>\n",
       "      <td>False</td>\n",
       "      <td>2020-07-25 12:27:10</td>\n",
       "      <td>@brookbanktv The one gift #COVID19 has give me...</td>\n",
       "      <td>['COVID19']</td>\n",
       "      <td>Twitter for iPhone</td>\n",
       "      <td>False</td>\n",
       "    </tr>\n",
       "    <tr>\n",
       "      <th>4</th>\n",
       "      <td>DIPR-J&amp;K</td>\n",
       "      <td>Jammu and Kashmir</td>\n",
       "      <td>🖊️Official Twitter handle of Department of Inf...</td>\n",
       "      <td>2017-02-12 06:45:15</td>\n",
       "      <td>101009</td>\n",
       "      <td>168</td>\n",
       "      <td>101</td>\n",
       "      <td>False</td>\n",
       "      <td>2020-07-25 12:27:08</td>\n",
       "      <td>25 July : Media Bulletin on Novel #CoronaVirus...</td>\n",
       "      <td>['CoronaVirusUpdates', 'COVID19']</td>\n",
       "      <td>Twitter for Android</td>\n",
       "      <td>False</td>\n",
       "    </tr>\n",
       "  </tbody>\n",
       "</table>\n",
       "</div>"
      ],
      "text/plain": [
       "         user_name         user_location  \\\n",
       "0           ᏉᎥ☻լꂅϮ            astroworld   \n",
       "1    Tom Basile 🇺🇸          New York, NY   \n",
       "2  Time4fisticuffs      Pewee Valley, KY   \n",
       "3      ethel mertz  Stuck in the Middle    \n",
       "4         DIPR-J&K     Jammu and Kashmir   \n",
       "\n",
       "                                    user_description         user_created  \\\n",
       "0  wednesday addams as a disney princess keepin i...  2017-05-26 05:46:42   \n",
       "1  Husband, Father, Columnist & Commentator. Auth...  2009-04-16 20:06:23   \n",
       "2  #Christian #Catholic #Conservative #Reagan #Re...  2009-02-28 18:57:41   \n",
       "3  #Browns #Indians #ClevelandProud #[]_[] #Cavs ...  2019-03-07 01:45:06   \n",
       "4  🖊️Official Twitter handle of Department of Inf...  2017-02-12 06:45:15   \n",
       "\n",
       "   user_followers  user_friends  user_favourites  user_verified  \\\n",
       "0             624           950            18775          False   \n",
       "1            2253          1677               24           True   \n",
       "2            9275          9525             7254          False   \n",
       "3             197           987             1488          False   \n",
       "4          101009           168              101          False   \n",
       "\n",
       "                  date                                               text  \\\n",
       "0  2020-07-25 12:27:21  If I smelled the scent of hand sanitizers toda...   \n",
       "1  2020-07-25 12:27:17  Hey @Yankees @YankeesPR and @MLB - wouldn't it...   \n",
       "2  2020-07-25 12:27:14  @diane3443 @wdunlap @realDonaldTrump Trump nev...   \n",
       "3  2020-07-25 12:27:10  @brookbanktv The one gift #COVID19 has give me...   \n",
       "4  2020-07-25 12:27:08  25 July : Media Bulletin on Novel #CoronaVirus...   \n",
       "\n",
       "                            hashtags               source  is_retweet  \n",
       "0                                NaN   Twitter for iPhone       False  \n",
       "1                                NaN  Twitter for Android       False  \n",
       "2                        ['COVID19']  Twitter for Android       False  \n",
       "3                        ['COVID19']   Twitter for iPhone       False  \n",
       "4  ['CoronaVirusUpdates', 'COVID19']  Twitter for Android       False  "
      ]
     },
     "execution_count": 2,
     "metadata": {},
     "output_type": "execute_result"
    }
   ],
   "source": [
    "\"\"\"\n",
    "Creating a DataFrame from a csv file ---\n",
    "\"\"\"\n",
    "import pandas as pd\n",
    "pd_csv = pd.read_csv('learn.csv')\n",
    "pd_csv.head()"
   ]
  },
  {
   "cell_type": "code",
   "execution_count": 3,
   "id": "35247f5a",
   "metadata": {},
   "outputs": [
    {
     "data": {
      "text/plain": [
       "'\\nQ. Selecting a single column from a DataFrame object returns -\\n1. NumPy array\\n2. A DataFrame\\n3. A dictionary\\n4. A series\\n'"
      ]
     },
     "execution_count": 3,
     "metadata": {},
     "output_type": "execute_result"
    }
   ],
   "source": [
    "\"\"\"\n",
    "Q. Selecting a single column from a DataFrame object returns -\n",
    "1. NumPy array\n",
    "2. A DataFrame\n",
    "3. A dictionary\n",
    "4. A series\n",
    "\"\"\"\n",
    "# Ans -- A series"
   ]
  },
  {
   "cell_type": "markdown",
   "id": "9faf6ff8",
   "metadata": {},
   "source": [
    "### Pandas DataFrame manipulation ---\n",
    "1. We can access elements, rows or columns of a DataFrame using **labels**.\n",
    "2. The labels can be either single or multiple.\n",
    "3. The labels can be numerical or with their name.\n",
    "4. We can add **rows** using the **append** method."
   ]
  }
 ],
 "metadata": {
  "kernelspec": {
   "display_name": "Python 3 (ipykernel)",
   "language": "python",
   "name": "python3"
  },
  "language_info": {
   "codemirror_mode": {
    "name": "ipython",
    "version": 3
   },
   "file_extension": ".py",
   "mimetype": "text/x-python",
   "name": "python",
   "nbconvert_exporter": "python",
   "pygments_lexer": "ipython3",
   "version": "3.9.7"
  }
 },
 "nbformat": 4,
 "nbformat_minor": 5
}
