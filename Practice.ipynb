{
 "cells": [
  {
   "cell_type": "markdown",
   "id": "ec5c1e84",
   "metadata": {},
   "source": [
    "# Internshala course notebook --"
   ]
  },
  {
   "cell_type": "markdown",
   "id": "0062d8c8",
   "metadata": {},
   "source": [
    "## 'Random' module --\n",
    "1. random() -- Generates a random float b/w 0.0 to 1.0\n",
    "2. randint() -- Returns a random integer between the specified integers.\n",
    "3. randrange() -- returns a randomly selected element from the range.\n",
    "4. choice() -- Returns a randomly selected element from a non-empty sequence.\n",
    "5. shuffle() -- randomly reorders element in a list."
   ]
  },
  {
   "cell_type": "code",
   "execution_count": 1,
   "id": "b95240bd",
   "metadata": {
    "scrolled": false
   },
   "outputs": [
    {
     "name": "stdout",
     "output_type": "stream",
     "text": [
      "re1 = 388\n",
      "re2 = 27\n",
      "re3 = h\n",
      "re4 = [56, 43, 78, 90, 32]\n",
      "re5 = 0.016013498305180396\n"
     ]
    }
   ],
   "source": [
    "import random as rd\n",
    "\n",
    "re1 = rd.randint(1,1000)\n",
    "print(f\"re1 = {re1}\")\n",
    "\n",
    "re2 = rd.randrange(21, 45)\n",
    "print(f\"re2 = {re2}\")\n",
    "\n",
    "re3 = rd.choice(\"Rishi Thakur\")\n",
    "print(f\"re3 = {re3}\")\n",
    "\n",
    "\n",
    "re4 = [43, 56,78, 32, 90]\n",
    "rd.shuffle(re4)\n",
    "print(f\"re4 = {re4}\")    \n",
    "\n",
    "re5 = rd.random()\n",
    "print(f\"re5 = {re5}\")              "
   ]
  },
  {
   "cell_type": "code",
   "execution_count": 2,
   "id": "a60ae7e3",
   "metadata": {},
   "outputs": [
    {
     "name": "stdout",
     "output_type": "stream",
     "text": [
      "Input 1 to roll a dice - 1\n",
      "3\n"
     ]
    }
   ],
   "source": [
    "\"\"\"\n",
    "Q. Write a basic program using the random module \n",
    "to generate two numbers in the range 1 to 6.\n",
    "\"\"\"\n",
    "# Ans --\n",
    "import random as rd\n",
    "inputt = int(input(\"Input 1 to roll a dice - \"))\n",
    "if inputt ==1:\n",
    "    rdt = rd.randrange(1,6)\n",
    "    print(rdt)"
   ]
  },
  {
   "cell_type": "markdown",
   "id": "54c3838f",
   "metadata": {},
   "source": [
    "## Math module --\n",
    "The **math** module contains mathematical functions like trigonometric, logarithmic, constants and representation.\n",
    "1. trigonometric -- degrees, radians, sin(), cos(), tan(), etc.\n",
    "2. logarithmic -- math.sqrt(), math.log(), math.log10(), math.exp(), math.pow(), etc.\n",
    "3. representation -- ceil(), floor()\n",
    "4. constants -- pi, Euler's number"
   ]
  },
  {
   "cell_type": "code",
   "execution_count": 3,
   "id": "4f8451cb",
   "metadata": {},
   "outputs": [
    {
     "name": "stdout",
     "output_type": "stream",
     "text": [
      "3.141592653589793\n",
      "2.718281828459045\n"
     ]
    }
   ],
   "source": [
    "import math\n",
    "print(math.pi)\n",
    "print(math.e)"
   ]
  },
  {
   "cell_type": "code",
   "execution_count": 4,
   "id": "024a63a6",
   "metadata": {},
   "outputs": [
    {
     "data": {
      "text/plain": [
       "1.5707963267948966"
      ]
     },
     "execution_count": 4,
     "metadata": {},
     "output_type": "execute_result"
    }
   ],
   "source": [
    "import math\n",
    "math.radians(90)"
   ]
  },
  {
   "cell_type": "markdown",
   "id": "83770ed7",
   "metadata": {},
   "source": [
    "To calculate angle values inside sin(), cos(), we need to convert them to radians"
   ]
  },
  {
   "cell_type": "code",
   "execution_count": 5,
   "id": "f0977e07",
   "metadata": {},
   "outputs": [
    {
     "data": {
      "text/plain": [
       "1.5707963267948966"
      ]
     },
     "execution_count": 5,
     "metadata": {},
     "output_type": "execute_result"
    }
   ],
   "source": [
    "math.radians(90)"
   ]
  },
  {
   "cell_type": "code",
   "execution_count": 6,
   "id": "9a38be49",
   "metadata": {},
   "outputs": [
    {
     "data": {
      "text/plain": [
       "1.0"
      ]
     },
     "execution_count": 6,
     "metadata": {},
     "output_type": "execute_result"
    }
   ],
   "source": [
    "math.sin(1.5707963267948966)"
   ]
  },
  {
   "cell_type": "code",
   "execution_count": 7,
   "id": "e9d7b3f0",
   "metadata": {},
   "outputs": [
    {
     "data": {
      "text/plain": [
       "1.0"
      ]
     },
     "execution_count": 7,
     "metadata": {},
     "output_type": "execute_result"
    }
   ],
   "source": [
    "# or a shorter way --\n",
    "math.sin(math.radians(90))"
   ]
  },
  {
   "cell_type": "markdown",
   "id": "e6ca5fbf",
   "metadata": {},
   "source": [
    "#### Logarithmic functions ---\n",
    "1. log() -- returns natural logarithm of a given number.\n",
    "2. log10() -- returns the logarithm of a given number to the base 10.\n",
    "3. exp() -- returns a float number after raising to a given number. (e^x)\n",
    "4. pow() -- recieves two float arguments and returns the value of the first raised to the second.\n",
    "5. sqrt() -- returns the square root of a given number."
   ]
  },
  {
   "cell_type": "code",
   "execution_count": 8,
   "id": "111d9dae",
   "metadata": {},
   "outputs": [
    {
     "data": {
      "text/plain": [
       "1024.0"
      ]
     },
     "execution_count": 8,
     "metadata": {},
     "output_type": "execute_result"
    }
   ],
   "source": [
    "import math\n",
    "math.pow(4,5)"
   ]
  },
  {
   "cell_type": "code",
   "execution_count": 9,
   "id": "1e4619cd",
   "metadata": {},
   "outputs": [
    {
     "data": {
      "text/plain": [
       "20.085536923187668"
      ]
     },
     "execution_count": 9,
     "metadata": {},
     "output_type": "execute_result"
    }
   ],
   "source": [
    "math.exp(3)"
   ]
  },
  {
   "cell_type": "markdown",
   "id": "0489ffd3",
   "metadata": {},
   "source": [
    "#### math.representation --\n",
    "1. ceil() -- rounds up the float to the smallest integer greater than or equal to the given float.\n",
    "2. floor() -- returns the largest integer less than or equal to the given float."
   ]
  },
  {
   "cell_type": "code",
   "execution_count": 10,
   "id": "8164fd6a",
   "metadata": {},
   "outputs": [
    {
     "name": "stdout",
     "output_type": "stream",
     "text": [
      "10\n",
      "9\n"
     ]
    }
   ],
   "source": [
    "print(math.ceil(9.5))\n",
    "print(math.floor(9.5))"
   ]
  },
  {
   "cell_type": "code",
   "execution_count": 11,
   "id": "0880e36b",
   "metadata": {},
   "outputs": [
    {
     "data": {
      "text/plain": [
       "9.0"
      ]
     },
     "execution_count": 11,
     "metadata": {},
     "output_type": "execute_result"
    }
   ],
   "source": [
    "math.pow(3,2)"
   ]
  },
  {
   "cell_type": "markdown",
   "id": "7dbc8912",
   "metadata": {},
   "source": [
    "### Module --\n",
    "1. A module stores functions, classes, variables, constants and  other resources of similar relevence.\n",
    "2. A module is just a text file containing python code with a **.py** extension.\n",
    "3. We use the **import** statement to access the code of a module."
   ]
  },
  {
   "cell_type": "code",
   "execution_count": 12,
   "id": "54a00ece",
   "metadata": {},
   "outputs": [],
   "source": [
    "## creating a module for bill splitting --\n",
    "def food(f, num):\n",
    "    \"\"\"takes total and number of people as input\"\"\"\n",
    "    tip = 0.1*f\n",
    "    f+=tip\n",
    "    return f/num\n",
    "def movie(m,num):\n",
    "    \"\"\"takes the total and number of people as input\"\"\"\n",
    "    return m/num"
   ]
  },
  {
   "cell_type": "code",
   "execution_count": 13,
   "id": "8f2c978d",
   "metadata": {},
   "outputs": [],
   "source": [
    "# We can call above module using import file_name in an IDE"
   ]
  },
  {
   "cell_type": "markdown",
   "id": "5fd22b3d",
   "metadata": {},
   "source": [
    "### Package ---\n",
    "A package is a folder which contains one or more modules."
   ]
  },
  {
   "cell_type": "code",
   "execution_count": 14,
   "id": "e6545225",
   "metadata": {},
   "outputs": [
    {
     "data": {
      "text/plain": [
       "82"
      ]
     },
     "execution_count": 14,
     "metadata": {},
     "output_type": "execute_result"
    }
   ],
   "source": [
    "import random\n",
    "random.randint(80,100)"
   ]
  },
  {
   "cell_type": "code",
   "execution_count": 15,
   "id": "bdeeb96f",
   "metadata": {},
   "outputs": [
    {
     "ename": "AttributeError",
     "evalue": "module 'math' has no attribute 'choice'",
     "output_type": "error",
     "traceback": [
      "\u001b[1;31m---------------------------------------------------------------------------\u001b[0m",
      "\u001b[1;31mAttributeError\u001b[0m                            Traceback (most recent call last)",
      "\u001b[1;32m<ipython-input-15-88f3bff4d2d6>\u001b[0m in \u001b[0;36m<module>\u001b[1;34m\u001b[0m\n\u001b[0;32m      1\u001b[0m \u001b[1;32mimport\u001b[0m \u001b[0mmath\u001b[0m\u001b[1;33m\u001b[0m\u001b[1;33m\u001b[0m\u001b[0m\n\u001b[1;32m----> 2\u001b[1;33m \u001b[0mmath\u001b[0m\u001b[1;33m.\u001b[0m\u001b[0mchoice\u001b[0m\u001b[1;33m(\u001b[0m\u001b[1;36m6\u001b[0m\u001b[1;33m,\u001b[0m\u001b[1;36m7\u001b[0m\u001b[1;33m,\u001b[0m\u001b[1;36m8\u001b[0m\u001b[1;33m,\u001b[0m\u001b[1;36m9\u001b[0m\u001b[1;33m)\u001b[0m\u001b[1;33m\u001b[0m\u001b[1;33m\u001b[0m\u001b[0m\n\u001b[0m",
      "\u001b[1;31mAttributeError\u001b[0m: module 'math' has no attribute 'choice'"
     ]
    }
   ],
   "source": [
    "import math\n",
    "math.choice(6,7,8,9)"
   ]
  },
  {
   "cell_type": "code",
   "execution_count": null,
   "id": "f46d2924",
   "metadata": {},
   "outputs": [],
   "source": [
    "def func(word, num=1):\n",
    "    print(word*num)\n",
    "func(\"Poke\")\n",
    "func('Go',3)"
   ]
  },
  {
   "cell_type": "code",
   "execution_count": null,
   "id": "eb4ac271",
   "metadata": {},
   "outputs": [],
   "source": [
    "for x in range(20,30,3):\n",
    "    print(x)"
   ]
  },
  {
   "cell_type": "code",
   "execution_count": null,
   "id": "a5a9391b",
   "metadata": {},
   "outputs": [],
   "source": [
    "import math\n",
    "math.pow(5,3)"
   ]
  },
  {
   "cell_type": "markdown",
   "id": "e6c2d1ad",
   "metadata": {},
   "source": [
    "## OOP in Python ---\n",
    "1. Python supports multiple programming paradigms -- \n",
    "    (i) Functional\n",
    "    (ii) Imperative\n",
    "    (iii) Procedural\n",
    "    (iv) Object oriented"
   ]
  },
  {
   "cell_type": "raw",
   "id": "849f756b",
   "metadata": {},
   "source": [
    "Q1. If a program has step by step instructions in a logical order, what paradigm does the program follow?\n",
    "Ans. Procedural oriented programming\n",
    "\n",
    "Q2. Why are programs written with Procedural programming difficult to maintain?\n",
    "Ans. Because change in one function would result in change in other functions relying on it.\n",
    "\n",
    "Q3. In the context of OOP, what is an object?\n",
    "Ans. It's an instance of a class"
   ]
  },
  {
   "cell_type": "markdown",
   "id": "bf681859",
   "metadata": {},
   "source": [
    "**Essential features of OOP programming** ---\n",
    "1. **Data Encapsulation** -- It is the feature that binds the data and functions that manipulate the data. This keeps both data and methods of a class or object safe from outside reference and misuse.\n",
    "2. **Inheritance** -- It is the feature that lets you create a new class from an existing class. In OOP terminology, existing class is called **Base** or **Parent** class and new class is called **sub** or **child** class.\n",
    "3. **Overriding** -- With Inheritance, you create a child class from the parent class. Overriding is the feature which lets you redefine a parent class method. Like the name suggests, you can override a parent class function or a method in the child class.\n",
    "4. **Polymorphism** -- In OOP, when each child class provides its own iplementation of an abstract function in parent class, it's called **Polymorphism**."
   ]
  },
  {
   "cell_type": "raw",
   "id": "1cb16c66",
   "metadata": {},
   "source": [
    "Q1. Which of the following features is helpful in keeping both data and functions of an object safe outside interference and misuse?\n",
    "Ans. Encapsulation\n",
    "\n"
   ]
  },
  {
   "cell_type": "code",
   "execution_count": null,
   "id": "d87824be",
   "metadata": {},
   "outputs": [],
   "source": [
    "\"\"\"\n",
    "Q2. There's a function in a class which ranks sports \n",
    "players according to their performance.\n",
    "You want to create another class with a function \n",
    "that only ranks basketball players according to their performance.\n",
    "Which of the processes should you follow?\n",
    "\n",
    "1. Change the function inside the class\n",
    "2. Make a new class, inherit the existing class and override the \n",
    "   respective function.\n",
    "3. Make a new class and write a new function for ranking players.\n",
    "4. Make a new class and override the function for ranking players.\n",
    "\"\"\"\n",
    "\n",
    "# Ans -- Option 2"
   ]
  },
  {
   "cell_type": "markdown",
   "id": "843da467",
   "metadata": {},
   "source": [
    "**Declaring class and creating objects** ---\n",
    "syntax of creating a class --\n",
    "\n",
    "class class_name : "
   ]
  },
  {
   "cell_type": "code",
   "execution_count": 9,
   "id": "92968a4b",
   "metadata": {},
   "outputs": [],
   "source": [
    "# creating a class -\n",
    "class person :\n",
    "    name='Arthur';gender='male';age=20\n",
    "    def showInfo(self):\n",
    "        print(\"Name : \", self.name)\n",
    "        print(\"Gender : \", self.gender)\n",
    "        print(\"Age : \", self.age)"
   ]
  },
  {
   "cell_type": "code",
   "execution_count": 10,
   "id": "71168cf1",
   "metadata": {},
   "outputs": [
    {
     "name": "stdout",
     "output_type": "stream",
     "text": [
      "Name :  Arthur\n",
      "Gender :  male\n",
      "Age :  20\n"
     ]
    }
   ],
   "source": [
    "# creating an object from the above class -\n",
    "p1 = person()\n",
    "p1.showInfo()"
   ]
  },
  {
   "cell_type": "markdown",
   "id": "70d13f9f",
   "metadata": {},
   "source": [
    "But all the objects that we create using the **person** class will have the same values of *name*, *age*, *gender*.\n",
    "So, we use the __init__() method. \n",
    "_init_()  --"
   ]
  },
  {
   "cell_type": "code",
   "execution_count": 34,
   "id": "c9f0fd95",
   "metadata": {},
   "outputs": [],
   "source": [
    "class person1:\n",
    "    counter=0\n",
    "    def __init__(self, a='arthur', b='male',c=20):\n",
    "            self.gender=b\n",
    "            self.name=a\n",
    "            self.age=c\n",
    "            person1.counter=person1.counter+1\n",
    "    def showInfo(self):\n",
    "            print(\"Name : \", self.name)\n",
    "            print(\"Gender : \", self.gender)\n",
    "            print(\"Age : \", self.age)\n",
    "    @classmethod\n",
    "    def ShowCount(cls):\n",
    "        print(\"No. of objects created so far = \", cls.counter)"
   ]
  },
  {
   "cell_type": "code",
   "execution_count": 35,
   "id": "c5ece100",
   "metadata": {},
   "outputs": [
    {
     "name": "stdout",
     "output_type": "stream",
     "text": [
      "Name :  Rishi\n",
      "Gender :  Male\n",
      "Age :  20\n"
     ]
    }
   ],
   "source": [
    "p2=person1('Rishi','Male',20)\n",
    "p2.showInfo()"
   ]
  },
  {
   "cell_type": "code",
   "execution_count": 36,
   "id": "4792f8ff",
   "metadata": {},
   "outputs": [
    {
     "name": "stdout",
     "output_type": "stream",
     "text": [
      "Name :  Arthur\n",
      "Gender :  Male\n",
      "Age :  36\n"
     ]
    }
   ],
   "source": [
    "p3=person1('Arthur','Male',36)\n",
    "p3.showInfo()"
   ]
  },
  {
   "cell_type": "code",
   "execution_count": 39,
   "id": "ffcf82b3",
   "metadata": {},
   "outputs": [
    {
     "name": "stdout",
     "output_type": "stream",
     "text": [
      "Name :  geralt\n",
      "Gender :  Male\n",
      "Age :  120\n"
     ]
    }
   ],
   "source": [
    "p4=person1('geralt','Male', 120)\n",
    "p4.showInfo()"
   ]
  },
  {
   "cell_type": "code",
   "execution_count": 40,
   "id": "f6d84d03",
   "metadata": {},
   "outputs": [
    {
     "name": "stdout",
     "output_type": "stream",
     "text": [
      "No. of objects created so far =  4\n"
     ]
    }
   ],
   "source": [
    "person1.ShowCount()"
   ]
  },
  {
   "cell_type": "markdown",
   "id": "7b36d564",
   "metadata": {},
   "source": [
    "1. You create a class using the **class** keyword.\n",
    "2. You add the attributes inside the **__init__()** method in a class.\n",
    "3. **__init__()** method is invoked everytime an object is created from a class.\n",
    "4. You have to pass **self** as the first argument whenever you are creating a method in a class.\n",
    "5. Attributes have different values for each object. But a class attribute's value is same for all the instances of a class.\n",
    "6. Class methods are callable by class and not by an individual object. You add **@classmethod** before every class method and you pass the argument **cls** instead of **self** in a class method."
   ]
  },
  {
   "cell_type": "code",
   "execution_count": 43,
   "id": "62932f56",
   "metadata": {},
   "outputs": [
    {
     "name": "stdout",
     "output_type": "stream",
     "text": [
      "An object created\n"
     ]
    }
   ],
   "source": [
    "\"\"\"\n",
    "Q. What will be the output of  the code --\n",
    "\n",
    "1. No output\n",
    "2. Error\n",
    "3. An object created from the class\n",
    "4. NOTA\n",
    "\"\"\"\n",
    "# Ans -- option 3\n",
    "\n",
    "class potato:\n",
    "    def __init__(self, a):\n",
    "        self.name=a\n",
    "        print(\"An object created\")\n",
    "hi=potato('cherry')"
   ]
  },
  {
   "cell_type": "markdown",
   "id": "c547e256",
   "metadata": {},
   "source": [
    "**Getter and setter method** ---\n",
    "1. Getter method is used to retrieve the value of a variable\n",
    "2. Setter method is used to assign a new value to a variable."
   ]
  },
  {
   "cell_type": "markdown",
   "id": "63de92b3",
   "metadata": {},
   "source": [
    "Inheritance ---"
   ]
  },
  {
   "cell_type": "code",
   "execution_count": 3,
   "id": "570e50b6",
   "metadata": {},
   "outputs": [],
   "source": [
    "class quadrilateral:\n",
    "    def __init__(self,a,b,c,d):\n",
    "        self.side1=a\n",
    "        self.side2=b\n",
    "        self.side3=c\n",
    "        self.side4=d\n",
    "    def perimeter(self):\n",
    "        p=self.side1+self.side2+self.side3+self.side4\n",
    "        print('Perimeter = ',p)"
   ]
  },
  {
   "cell_type": "code",
   "execution_count": 4,
   "id": "50f97a8b",
   "metadata": {},
   "outputs": [
    {
     "name": "stdout",
     "output_type": "stream",
     "text": [
      "Perimeter =  16\n"
     ]
    }
   ],
   "source": [
    "q1=quadrilateral(4,4,4,4)\n",
    "q1.perimeter()"
   ]
  },
  {
   "cell_type": "markdown",
   "id": "a24499d5",
   "metadata": {},
   "source": [
    "Declaring a child class --\n",
    "\n",
    "class child_name(parent_class_name):\n",
    "\n",
    "rest is same"
   ]
  },
  {
   "cell_type": "code",
   "execution_count": 6,
   "id": "f4d11f9e",
   "metadata": {},
   "outputs": [],
   "source": [
    "# creating child classes of square, rectangle \n",
    "# as they are type of quadrilaterals"
   ]
  },
  {
   "cell_type": "code",
   "execution_count": 7,
   "id": "be12612f",
   "metadata": {},
   "outputs": [],
   "source": [
    "class rectangle(quadrilateral):\n",
    "    def __init__(self,a,b,c=None,d=None):\n",
    "        super().__init__(a,b,c,d)\n",
    "        self.side3=self.side1\n",
    "        self.side4=self.side2"
   ]
  },
  {
   "cell_type": "code",
   "execution_count": 9,
   "id": "7bab5816",
   "metadata": {},
   "outputs": [
    {
     "name": "stdout",
     "output_type": "stream",
     "text": [
      "Perimeter =  60\n"
     ]
    }
   ],
   "source": [
    "r1=rectangle(10,20)\n",
    "r1.perimeter()"
   ]
  },
  {
   "cell_type": "markdown",
   "id": "021363c6",
   "metadata": {},
   "source": [
    "#### Overriding methods ---"
   ]
  },
  {
   "cell_type": "code",
   "execution_count": 11,
   "id": "a9fccf01",
   "metadata": {},
   "outputs": [
    {
     "name": "stdout",
     "output_type": "stream",
     "text": [
      "Total salary for Arthur is Rs.9000\n",
      "Total salary for Geralt is Rs.9900\n"
     ]
    }
   ],
   "source": [
    "class employee:\n",
    "    def __init__(self,nm,sal):\n",
    "        self.name=nm\n",
    "        self.salary=sal\n",
    "    def getname(self):\n",
    "        return self.name\n",
    "    def getsalary(self):\n",
    "        return self.salary\n",
    "class salesofficer(employee):\n",
    "        def __init__(self,nm,sal,inc):\n",
    "            super().__init__(nm,sal)\n",
    "            self.inct=inc\n",
    "        def getsalary(self):\n",
    "            return self.salary+self.inct\n",
    "\n",
    "e1=employee('Arthur',9000)\n",
    "print(f\"Total salary for {e1.getname()} is Rs.{e1.getsalary()}\")\n",
    "\n",
    "e2=salesofficer('Geralt',9000,900)\n",
    "print(f\"Total salary for {e2.getname()} is Rs.{e2.getsalary()}\")"
   ]
  },
  {
   "cell_type": "markdown",
   "id": "6c651d6a",
   "metadata": {},
   "source": [
    "Above, we can see that the same method i.e. **getsalary()** returns different values for different classes. This is called **overriding**."
   ]
  },
  {
   "cell_type": "raw",
   "id": "94936b7c",
   "metadata": {},
   "source": [
    "Protected and private variable --\n",
    "1. A variable starting with a single underscore (_) is private. It is caalled a protected variable.\n",
    "2. A variable starting with a double underscore (__) is strongly private. It is called a private variable."
   ]
  },
  {
   "cell_type": "code",
   "execution_count": 6,
   "id": "faaa32b8",
   "metadata": {},
   "outputs": [],
   "source": [
    "\"\"\"\n",
    "Q. Make a new 'gift' class from the existing 'product' class \n",
    "and override 'get_price' method \n",
    "to add wrapping charge of Rs. 100 in the price.\n",
    "\"\"\"\n",
    "class product:\n",
    "    deliveryCharge=50\n",
    "    def __init__(self,nam=\"Teddy Bear\", prc=500):\n",
    "        self.name=nam\n",
    "        self.price=prc\n",
    "    def get_name(self):\n",
    "        return self.name\n",
    "    def get_price(self):\n",
    "        return self.price + product.deliveryCharge\n",
    "    def __str__(self):\n",
    "        return \"The {} will cost you Rs.{}.\".format(self.get_name(),self.get_price())\n",
    "    \n",
    "class gift(product):\n",
    "    def __init__(self,nam=\"Teddy Bear\", prc=500):\n",
    "        self.name=nam\n",
    "        self.price=prc\n",
    "    def get_price(self):\n",
    "        self.price=self.price+100\n",
    "        print(self.price)"
   ]
  },
  {
   "cell_type": "code",
   "execution_count": 8,
   "id": "4c3db36f",
   "metadata": {},
   "outputs": [
    {
     "name": "stdout",
     "output_type": "stream",
     "text": [
      "600\n"
     ]
    }
   ],
   "source": [
    "g2=gift('cost')\n",
    "g2.get_price()"
   ]
  },
  {
   "cell_type": "raw",
   "id": "d95ed709",
   "metadata": {},
   "source": [
    "Using magic methods --\n",
    "1. __init()__\n",
    "2. __new()__\n",
    "3. __str()__"
   ]
  },
  {
   "cell_type": "raw",
   "id": "4b9448f1",
   "metadata": {},
   "source": [
    "The __new()__ method is implicitily called before the __init()__ method in python."
   ]
  },
  {
   "cell_type": "code",
   "execution_count": 10,
   "id": "38a51768",
   "metadata": {},
   "outputs": [
    {
     "name": "stdout",
     "output_type": "stream",
     "text": [
      "__new__ magic method is executed.\n",
      "__init__ magic method is executed.\n",
      "Arthur\n"
     ]
    }
   ],
   "source": [
    "class demo:\n",
    "    def __new__(cls):\n",
    "        print(\"__new__ magic method is executed.\")\n",
    "        inst=object.__new__(cls)\n",
    "        return inst\n",
    "    def __init__(self):\n",
    "        print(\"__init__ magic method is executed.\")\n",
    "        self.name='Arthur'\n",
    "d1=demo()\n",
    "print(d1.name)"
   ]
  },
  {
   "cell_type": "code",
   "execution_count": 11,
   "id": "daadcb1f",
   "metadata": {},
   "outputs": [
    {
     "data": {
      "text/plain": [
       "'96'"
      ]
     },
     "execution_count": 11,
     "metadata": {},
     "output_type": "execute_result"
    }
   ],
   "source": [
    "op=32*3\n",
    "str(op)"
   ]
  },
  {
   "cell_type": "code",
   "execution_count": 12,
   "id": "044fc448",
   "metadata": {},
   "outputs": [
    {
     "data": {
      "text/plain": [
       "'96'"
      ]
     },
     "execution_count": 12,
     "metadata": {},
     "output_type": "execute_result"
    }
   ],
   "source": [
    "# The above 'str()' is equivalent to --\n",
    "int.__str__(op)"
   ]
  },
  {
   "cell_type": "markdown",
   "id": "1f8860ad",
   "metadata": {},
   "source": [
    "#### Operator overloading --\n",
    "__add()__ magic method."
   ]
  },
  {
   "cell_type": "code",
   "execution_count": 14,
   "id": "d7049a52",
   "metadata": {},
   "outputs": [
    {
     "name": "stdout",
     "output_type": "stream",
     "text": [
      "6 feet and 11 inches5 feet and 9 inches\n"
     ]
    }
   ],
   "source": [
    "s1='5 feet and 9 inches'\n",
    "s2='6 feet and 11 inches'\n",
    "s3=s2+s1\n",
    "print(s3)"
   ]
  },
  {
   "cell_type": "code",
   "execution_count": 18,
   "id": "8ee976c6",
   "metadata": {},
   "outputs": [],
   "source": [
    "class distance:\n",
    "    def __init__(self,x,y):\n",
    "        self.feet = x\n",
    "        self.inches = y\n",
    "    def __add__(self,other):\n",
    "        final_feet = self.feet+other.feet\n",
    "        final_inches=self.inches+other.inches\n",
    "        if final_inches>12:\n",
    "            final_feet=final_feet+1\n",
    "            final_inches=final_inches-12\n",
    "        return  distance(final_feet,final_inches)\n",
    "    def __str__(self):\n",
    "        return 'Distance : '+str(self.feet)+ \" feet and \"+str(self.inches)+ \" inches\""
   ]
  },
  {
   "cell_type": "code",
   "execution_count": 21,
   "id": "7c5fb9f3",
   "metadata": {},
   "outputs": [
    {
     "name": "stdout",
     "output_type": "stream",
     "text": [
      "Distance : 21 feet and 1 inches\n"
     ]
    }
   ],
   "source": [
    "d4=distance(10,10)\n",
    "d5=distance(10,3)\n",
    "d6=d4+d5\n",
    "print(d6)"
   ]
  },
  {
   "cell_type": "raw",
   "id": "e94750cd",
   "metadata": {},
   "source": [
    "List of magic methods --\n",
    "\n",
    "1. +\tobject.__add__(self, other)\n",
    "2. -\tobject.__sub__(self, other)\n",
    "3. *\tobject.__mul__(self, other)\n",
    "4. //\tobject.__floordiv__(self, other)\n",
    "5. /\tobject.__div__(self, other)\n",
    "6. %\tobject.__mod__(self, other)\n",
    "7. **\tobject.__pow__(self, other[, modulo])\n",
    "8. <\tobject.__lt__(self, other)\n",
    "9. <=\tobject.__le__(self, other)\n",
    "10. ==\tobject.__eq__(self, other)\n",
    "11. !=\tobject.__ne__(self, other)\n",
    "12. >=\tobject.__ge__(self, other)"
   ]
  },
  {
   "cell_type": "code",
   "execution_count": 23,
   "id": "5d2ed581",
   "metadata": {},
   "outputs": [
    {
     "name": "stdout",
     "output_type": "stream",
     "text": [
      "Flinstones 2\n"
     ]
    }
   ],
   "source": [
    "\"\"\"\n",
    "Q. What will be the output of the following code --\n",
    "\n",
    "1. Flinstones\n",
    "2. Finstones 2\n",
    "3. Error\n",
    "4. NOTA\n",
    "\"\"\"\n",
    "class cartoon:\n",
    "    def __init__(self,a='Flinstones'):\n",
    "        \n",
    "        self.name=a\n",
    "    def __str__(self):\n",
    "        return \"Flinstones 2\"\n",
    "c1=cartoon()\n",
    "print(c1)\n",
    "\n",
    "# Ans -- Option 2"
   ]
  },
  {
   "cell_type": "code",
   "execution_count": 1,
   "id": "0c074287",
   "metadata": {},
   "outputs": [
    {
     "name": "stdout",
     "output_type": "stream",
     "text": [
      "200\n"
     ]
    }
   ],
   "source": [
    "class book:\n",
    "    def __init__(self):\n",
    "        self.name = 'python'\n",
    "        self.price=200\n",
    "b1=book()\n",
    "print(b1.price)"
   ]
  },
  {
   "cell_type": "markdown",
   "id": "0b2a98f6",
   "metadata": {},
   "source": [
    "Relational database ---\n",
    "RDBMS -- is an application for creating and managing relational databases."
   ]
  },
  {
   "cell_type": "markdown",
   "id": "35fd3572",
   "metadata": {},
   "source": [
    "### SQL --\n",
    "### Statements in SQL are classified into 5 categories --\n",
    "1. **Data definition language(DDL)** -- Statements which create, modify, alter and delete a table. Ex - ALTER, CREATE, ANALYZE, etc.\n",
    "2. **Data retrieval** -- Statements which query and retrieve data from tables. Ex - SELECT, ORDER, WHERE, SELECT, etc.\n",
    "3. **Data manipulation language(DML)** -- Statements used for inserting, deleting and updating data in a table. Ex - INSERT, DELETE, UPDATE, etc.\n",
    "4. **Transaction control** -- Statements  used to manage changes made by DML statements. Ex - COMMIT, ROLLBACK, etc.\n",
    "5. **Data control** -- Statements used for user management. Ex - GRANT, REVOKE, etc."
   ]
  },
  {
   "cell_type": "markdown",
   "id": "3fcd1dd9",
   "metadata": {},
   "source": [
    "### Working with SQLite\n",
    "\n",
    "1. A cursor() is a Python object that enables us to work with the database.\n",
    "2. The **cursor()** method returns a cursor object that uses this connection.\n",
    "3. The **commit()** explicitly commits any pending transactions to the database.\n",
    "4. The **rollback()** causes a transaction to be rolled back to the starting point.\n",
    "5. The **close()** closes the connection to the database permanentaly."
   ]
  },
  {
   "cell_type": "markdown",
   "id": "b2abaf96",
   "metadata": {},
   "source": [
    "## GUI and Event driven programming --\n",
    "1. Application window -- A containder widget iside which other elements are arranged.\n",
    "2. Button -- An area on which a mouse click triggers some operation.\n",
    "3. Textbox -- Reads text input from a keyboard.\n",
    "4. Radio button -- Allows s user to select one of several options.\n",
    "5. Checkbox -- Allows a user to select one or more of several options.\n",
    "6. Listbox/Dropdown list -- Presents a selectable list of items."
   ]
  },
  {
   "cell_type": "markdown",
   "id": "1968c1ea",
   "metadata": {},
   "source": [
    "### GUI classes --\n",
    "1. QtCore -- Core non-GUI classes used by other modules.\n",
    "2. QtGui -- Graphical user interface components\n",
    "3. QtMultimedia -- Classes for low-level multimedia programming\n",
    "4. QtNetwork -- Classes for network programming\n",
    "5. QtOpenGL -- OpenGL support class\n",
    "6. QtScript -- Classes for evaluating Qt Scripts\n",
    "7. QtSql -- Classes for database integration using SQL\n",
    "8. QtSvg -- Classes for displaying the contents of SVG files\n",
    "9. QtWebKit -- Classes for rendering and editing HTML\n",
    "10. QtXml -- Classes for handling XML\n",
    "11. QtWidgets -- Classes for creating classic desktop-style UIs\n",
    "12. QtDesigner -- Classes for extending Qt Designer\n",
    "\n",
    "**Important Qt packages** -- \n",
    "1. QApplication -- Manages the main settings and control flow.\n",
    "2. QWidget -- Base class for all user interface objecs.\n",
    "3. QDialog & QFrame -- Derived from the QWidget class.\n"
   ]
  },
  {
   "cell_type": "markdown",
   "id": "5ae59fd9",
   "metadata": {},
   "source": [
    "# Application of Python in Various Disciplines\n",
    "\n",
    "## Data Science\n",
    "In recent times, Python has shot up in popularity charts mainly because of its Data science libraries. With huge amounts of data being generated by web applications, mobile applications, and other devices, companies need business insights from this data.\n",
    "Today Python has become the language of choice for data scientists. Python libraries like NumPy, Pandas, and Matplotlib are used extensively in the process of data analysis and collection, processing and cleansing of data sets, applying mathematical algorithms to data and to generate visualizations for the benefit of users. Commercial Python distributions such as Anaconda and ActiveState provide all the essential libraries required for data science.\n",
    "Data science today has become a prominent buzzword and it has been termed as the ‘sexiest job of the 21st century!’.\n",
    "\n",
    "## Machine Learning\n",
    "\n",
    "This is another glamorous application area where Python developers are getting attracted. Based on the past data, Python libraries such as Scikit-learn, Tensorflow, and NLTK are widely used for prediction of trends like customer satisfaction, projected values of stocks, etc.\n",
    "Some of the real world applications of machine learning are as under:\n",
    "\n",
    "### Medical Diagnosis: \n",
    "Machine learning techniques are used for the analysis of the importance of clinical parameters and of their combinations for prognosis, e.g. prediction of disease progression, for the extraction of medical knowledge for outcomes research, for therapy planning and support, and for overall patient management.\n",
    "### Statistical Arbitrage: \n",
    "Machine learning methods are applied to automate trading strategies where the user tries to implement a trading algorithm for a set of securities on the basis of quantities such as historical correlations and general economic variables.\n",
    "Learning associations: Machine learning helps the process of developing insights into various associations between products and buying behaviors of customers.\n",
    "### Basket analysis: \n",
    "Studying the association between the products people buy and suggesting the associated product to the customer, is a well-known phenomenon we see while doing online shopping. Machine learning is at work behind this analysis.\n",
    "Prediction: Current prediction is one of the hottest machine learning algorithms. Businesses are interested in finding out what will be my sales next month/year/ Diwali, etc. so that business can take the required decision (related to procurement, stocks, etc.) on time.\n",
    "\n",
    "## Web Development\n",
    "Another application area which is becoming increasingly popular with Python developers is web development. Simple to complex web applications can be developed using easy to use web application frameworks like Django, Pyramid, Flask, etc. These frameworks are used extensively by various IT companies. Dropbox, for example, uses Django as a backend to store, synchronize local folders.\n",
    "Most of the web servers today are compatible with WSGI (Web Server Gateway Interface) – a specification for the universal interface between Python web frameworks and web servers. All leading web servers such as Apache, IIS, Nginx, etc can now host Python web applications. Google’s App Engine hosts web applications built with almost all Python web frameworks.\n",
    "\n",
    "## Image processing\n",
    "Face detection and gesture recognition using the OpenCV library and Python is another important application. OpenCV is a C++ library but has been ported to Python. This library has a lot of extremely powerful image processing functions.\n",
    "\n",
    "### Image Processing\n",
    "Facebook’s automatic tag suggestion feature, which used face recognition to suggest people you might want to tag in your photos, is an instance of OpenCV at work. Other instances of OpenCV applications are:\n",
    "\n",
    "Automated inspection and surveillance.\n",
    "Robot and driverless car navigation and control.\n",
    "Medical image analysis.\n",
    "\n",
    "Video/image search and retrieval.\n",
    "## Game Development\n",
    "Python is a popular choice of game developers. The Pygame library is extensively used for building games for desktop as well as mobile platforms. Pygame applications can be installed on Android too.\n",
    "\n",
    "### Game Development\n",
    " \n",
    "\n",
    "Embedded Systems and IoT\n",
    "\n",
    "Another important area of Python application is in embedded systems. Raspberry Pi is a very popular yet a low-cost single board computer. It is being extensively used in automation products, robotics, IoT, and kiosk applications. Those of you with an Electronics background can certainly explore the possibility of becoming innovators.\n",
    "\n",
    "Embedded Systems and IoT\n",
    "Apart from Raspberry Pi, other microcontrollers can also be programmed with Python. A lightweight version of Python called micropython has been developed especially for microcontrollers. Popular microcontrollers like Arduino are used in many IoT products and programmed with Python. A special micropython compatible controller called Pyboard has also been developed.\n",
    "\n",
    "Android apps\n",
    "\n",
    "Although Android apps are predominantly developed using Android SDK which is more or less like Java, Python can also be used to develop Android apps. Python’s Kivy library has all the functionality required to build a mobile application.\n",
    "\n",
    "Automated Jobs\n",
    "\n",
    "Python is extremely useful and widely used for automating CRON jobs. Certain tasks like backups can be scheduled to be invoked automatically. These tasks are defined in Python scripts and operating system scheduler executes them at predefined times.\n",
    "Python is embedded as a scripting language in many popular software products. This is similar to VBA used for writing macros in Excel, Powerpoint, etc. Similarly, Python API is integrated with Maya, PaintShop Pro, etc.\n",
    "\n",
    "Python as a Rapid Development Tool\n",
    "\n",
    "Although Python is becoming increasingly popular, the software development field is still dominated by Java and Dot net platform. However, Java and C# developers are also taking the help of the power of Python’s rapid development capabilities. Jython, the JRE implementation of Python and IronPython, the dot net implementation interact seamlessly with Java and C# respectively. For example- Jython can use all Java libraries such as Swing, etc. So the development time can be minimized by using simpler Python syntax and Java libraries for prototyping of the software product.\n",
    "\n",
    "Python has found applications in very diverse fields. There is Astropy library is a collection of software packages written in the Python programming language and designed for use in astronomy. BioPython package contains functionality useful for computational biology and bio-informatics.\n",
    "\n",
    "More and more companies, be it startups or established ones are using Python for one or other purpose in their development activities. Hence, a lot of opportunities are waiting for those with appropriate Python skills. This training program has given a solid foundation for you to grab these opportunities. Internshala wishes you all the best in your endeavor!"
   ]
  },
  {
   "cell_type": "code",
   "execution_count": 1,
   "id": "49676ee0",
   "metadata": {},
   "outputs": [
    {
     "data": {
      "text/plain": [
       "False"
      ]
     },
     "execution_count": 1,
     "metadata": {},
     "output_type": "execute_result"
    }
   ],
   "source": [
    "'RISHI'.lower().isupper()"
   ]
  },
  {
   "cell_type": "code",
   "execution_count": 2,
   "id": "12bfb929",
   "metadata": {},
   "outputs": [
    {
     "data": {
      "text/plain": [
       "5120"
      ]
     },
     "execution_count": 2,
     "metadata": {},
     "output_type": "execute_result"
    }
   ],
   "source": [
    "5*2**10"
   ]
  },
  {
   "cell_type": "code",
   "execution_count": 3,
   "id": "89bf4644",
   "metadata": {},
   "outputs": [
    {
     "data": {
      "text/plain": [
       "[1, 2, 4]"
      ]
     },
     "execution_count": 3,
     "metadata": {},
     "output_type": "execute_result"
    }
   ],
   "source": [
    "[1,2]+[4]"
   ]
  },
  {
   "cell_type": "code",
   "execution_count": 4,
   "id": "d98306c2",
   "metadata": {},
   "outputs": [
    {
     "data": {
      "text/plain": [
       "[1, 2, 1, 2, 1, 2, 1, 2]"
      ]
     },
     "execution_count": 4,
     "metadata": {},
     "output_type": "execute_result"
    }
   ],
   "source": [
    "[1,2]*4"
   ]
  },
  {
   "cell_type": "code",
   "execution_count": 5,
   "id": "b229365e",
   "metadata": {},
   "outputs": [
    {
     "data": {
      "text/plain": [
       "(1, 2, 1, 2, 1, 2, 1, 2)"
      ]
     },
     "execution_count": 5,
     "metadata": {},
     "output_type": "execute_result"
    }
   ],
   "source": [
    "(1,2)*4"
   ]
  },
  {
   "cell_type": "code",
   "execution_count": 6,
   "id": "ac482f6b",
   "metadata": {},
   "outputs": [
    {
     "ename": "TypeError",
     "evalue": "unsupported operand type(s) for ^: 'list' and 'int'",
     "output_type": "error",
     "traceback": [
      "\u001b[1;31m---------------------------------------------------------------------------\u001b[0m",
      "\u001b[1;31mTypeError\u001b[0m                                 Traceback (most recent call last)",
      "\u001b[1;32m<ipython-input-6-37b6d88fea12>\u001b[0m in \u001b[0;36m<module>\u001b[1;34m\u001b[0m\n\u001b[1;32m----> 1\u001b[1;33m \u001b[1;33m[\u001b[0m\u001b[1;36m1\u001b[0m\u001b[1;33m,\u001b[0m\u001b[1;36m2\u001b[0m\u001b[1;33m]\u001b[0m\u001b[1;33m^\u001b[0m\u001b[1;36m4\u001b[0m\u001b[1;33m\u001b[0m\u001b[1;33m\u001b[0m\u001b[0m\n\u001b[0m",
      "\u001b[1;31mTypeError\u001b[0m: unsupported operand type(s) for ^: 'list' and 'int'"
     ]
    }
   ],
   "source": [
    "[1,2]^4"
   ]
  },
  {
   "cell_type": "code",
   "execution_count": 7,
   "id": "ac354120",
   "metadata": {},
   "outputs": [
    {
     "data": {
      "text/plain": [
       "dict_items([(1, 'one'), (2, [1, 2, 3])])"
      ]
     },
     "execution_count": 7,
     "metadata": {},
     "output_type": "execute_result"
    }
   ],
   "source": [
    "dict1={1:'one', 2:'two', 2:[1,2,3]}\n",
    "dict1.items()"
   ]
  },
  {
   "cell_type": "code",
   "execution_count": 8,
   "id": "ba5b4f9b",
   "metadata": {},
   "outputs": [
    {
     "name": "stdout",
     "output_type": "stream",
     "text": [
      "[1, 2, 3]\n"
     ]
    }
   ],
   "source": [
    "l=[1,2,3,4]\n",
    "l.pop()\n",
    "print(l)"
   ]
  },
  {
   "cell_type": "code",
   "execution_count": 9,
   "id": "921d16cc",
   "metadata": {},
   "outputs": [
    {
     "name": "stdout",
     "output_type": "stream",
     "text": [
      "2\n"
     ]
    }
   ],
   "source": [
    "class book:\n",
    "    def __init__(self):\n",
    "        self.name='book'\n",
    "        self.price=2\n",
    "b1=book()\n",
    "print(b1.price)"
   ]
  },
  {
   "cell_type": "code",
   "execution_count": 10,
   "id": "53e809a5",
   "metadata": {},
   "outputs": [
    {
     "ename": "SyntaxError",
     "evalue": "invalid syntax (<ipython-input-10-1a516df91279>, line 1)",
     "output_type": "error",
     "traceback": [
      "\u001b[1;36m  File \u001b[1;32m\"<ipython-input-10-1a516df91279>\"\u001b[1;36m, line \u001b[1;32m1\u001b[0m\n\u001b[1;33m    3score\u001b[0m\n\u001b[1;37m     ^\u001b[0m\n\u001b[1;31mSyntaxError\u001b[0m\u001b[1;31m:\u001b[0m invalid syntax\n"
     ]
    }
   ],
   "source": [
    "3score"
   ]
  },
  {
   "cell_type": "code",
   "execution_count": 11,
   "id": "aa661cd6",
   "metadata": {},
   "outputs": [
    {
     "name": "stdout",
     "output_type": "stream",
     "text": [
      "0\n",
      "1\n",
      "2\n",
      "3\n"
     ]
    }
   ],
   "source": [
    "for x in range(4):\n",
    "    print(x)"
   ]
  },
  {
   "cell_type": "code",
   "execution_count": 13,
   "id": "444a7a82",
   "metadata": {},
   "outputs": [
    {
     "data": {
      "text/plain": [
       "True"
      ]
     },
     "execution_count": 13,
     "metadata": {},
     "output_type": "execute_result"
    }
   ],
   "source": [
    "'012'.isdigit()"
   ]
  },
  {
   "cell_type": "code",
   "execution_count": 2,
   "id": "b0d86c34",
   "metadata": {
    "scrolled": true
   },
   "outputs": [
    {
     "data": {
      "image/png": "[encoded data removed]",
      "text/plain": [
       "<Figure size 432x288 with 1 Axes>"
      ]
     },
     "metadata": {
      "needs_background": "light"
     },
     "output_type": "display_data"
    }
   ],
   "source": [
    "import matplotlib.pyplot as pt\n",
    "x_cords = range(-50,50)\n",
    "y_cords = [x*x for x in x_cords]\n",
    "pt.xlabel('x-axis')\n",
    "pt.ylabel('y-axis')\n",
    "pt.plot(x_cords,y_cords)\n",
    "pt.show()"
   ]
  },
  {
   "cell_type": "code",
   "execution_count": 11,
   "id": "d3ae0f97",
   "metadata": {},
   "outputs": [
    {
     "data": {
      "text/plain": [
       "14"
      ]
     },
     "execution_count": 11,
     "metadata": {},
     "output_type": "execute_result"
    }
   ],
   "source": [
    "## function for addition of two numbers --\n",
    "\n",
    "def additn(x,y):\n",
    "    \"\"\"Takes two numerical values as input and returns their sum\"\"\"\n",
    "    result=x+y\n",
    "    return result\n",
    "\n",
    "additn(4,10) #calling function"
   ]
  },
  {
   "cell_type": "code",
   "execution_count": 12,
   "id": "d3281633",
   "metadata": {},
   "outputs": [
    {
     "data": {
      "text/plain": [
       "15.4"
      ]
     },
     "execution_count": 12,
     "metadata": {},
     "output_type": "execute_result"
    }
   ],
   "source": [
    "## function for subtraction of two numbers --\n",
    "def subtractn(x,y):\n",
    "    \"\"\"Takes two numerical values as input and returns their difference\"\"\"\n",
    "    result=x-y\n",
    "    return result\n",
    "\n",
    "subtractn(21,5.6)  #calling function"
   ]
  },
  {
   "cell_type": "code",
   "execution_count": 13,
   "id": "e066dea5",
   "metadata": {},
   "outputs": [
    {
     "data": {
      "text/plain": [
       "58.925399999999996"
      ]
     },
     "execution_count": 13,
     "metadata": {},
     "output_type": "execute_result"
    }
   ],
   "source": [
    "## function for multiplication of two numbers --\n",
    "def multiply(x,y):\n",
    "    \"\"\"Takes two numerical values as inputs and multiplies them\"\"\"\n",
    "    result=x*y\n",
    "    return result\n",
    "\n",
    "multiply(6.54,9.01)  #calling function"
   ]
  },
  {
   "cell_type": "code",
   "execution_count": 18,
   "id": "63c6845d",
   "metadata": {},
   "outputs": [
    {
     "data": {
      "text/plain": [
       "3.0"
      ]
     },
     "execution_count": 18,
     "metadata": {},
     "output_type": "execute_result"
    }
   ],
   "source": [
    "## function for division of two numbers --\n",
    "def div(x,y):\n",
    "    \"\"\"Takes two numerical values as input and divides them\"\"\"\n",
    "    result=x/y\n",
    "    return result\n",
    "\n",
    "div(5.1,1.7)"
   ]
  },
  {
   "cell_type": "code",
   "execution_count": 20,
   "id": "ef579f72",
   "metadata": {},
   "outputs": [
    {
     "data": {
      "text/plain": [
       "125"
      ]
     },
     "execution_count": 20,
     "metadata": {},
     "output_type": "execute_result"
    }
   ],
   "source": [
    "## function for power --\n",
    "def exp(x,y):\n",
    "    \"\"\"Takes two numerical values as input and raises one to the power of second\"\"\"\n",
    "    result=x**y\n",
    "    return result\n",
    "\n",
    "exp(5,3)"
   ]
  },
  {
   "cell_type": "code",
   "execution_count": 21,
   "id": "10049685",
   "metadata": {
    "scrolled": true
   },
   "outputs": [
    {
     "data": {
      "text/plain": [
       "[]"
      ]
     },
     "execution_count": 21,
     "metadata": {},
     "output_type": "execute_result"
    },
    {
     "data": {
      "image/png": "[encoded data removed]",
      "text/plain": [
       "<Figure size 432x288 with 1 Axes>"
      ]
     },
     "metadata": {
      "needs_background": "light"
     },
     "output_type": "display_data"
    }
   ],
   "source": [
    "import numpy as np\n",
    "import matplotlib.pyplot as plt\n",
    "x = np.linspace(0, 2*np.pi, 100)\n",
    "y = np.sin(x)\n",
    "z = np.cos(x)\n",
    "plt.plot(x,y)\n",
    "plt.plot(x,z)\n",
    "plt.plot()\n"
   ]
  },
  {
   "cell_type": "code",
   "execution_count": 24,
   "id": "90f8516f",
   "metadata": {
    "scrolled": false
   },
   "outputs": [
    {
     "data": {
      "text/plain": [
       "[]"
      ]
     },
     "execution_count": 24,
     "metadata": {},
     "output_type": "execute_result"
    },
    {
     "data": {
      "image/png": "[encoded data removed]",
      "text/plain": [
       "<Figure size 432x288 with 1 Axes>"
      ]
     },
     "metadata": {
      "needs_background": "light"
     },
     "output_type": "display_data"
    }
   ],
   "source": [
    "# By Assigning Label names and adding colours\n",
    "# Code:\n",
    "x = np.linspace(0, 2*np.pi, 100)\n",
    "y = np.sin(x)\n",
    "z = np.cos(x)\n",
    "plt.plot(x,y, label='sine', color='black')#labeling Names and Changing Colour\n",
    "plt.plot(x,z, label='cosine', color='pink')#labeling Names and Changing Colour\n",
    "plt.legend()\n",
    "plt.plot()\n"
   ]
  },
  {
   "cell_type": "code",
   "execution_count": 23,
   "id": "2ff7bc79",
   "metadata": {},
   "outputs": [
    {
     "data": {
      "text/plain": [
       "[]"
      ]
     },
     "execution_count": 23,
     "metadata": {},
     "output_type": "execute_result"
    },
    {
     "data": {
      "image/png": "[encoded data removed]",
      "text/plain": [
       "<Figure size 432x288 with 1 Axes>"
      ]
     },
     "metadata": {
      "needs_background": "light"
     },
     "output_type": "display_data"
    }
   ],
   "source": [
    "# By changing markers in Graph from line to a symbol\n",
    "# Code:\n",
    "x = np.linspace(0, 2*np.pi, 30)\n",
    "y = np.sin(x)\n",
    "z = np.cos(x)\n",
    "plt.plot(x,y, label='sine', color='blue',marker = 'd')#Assigning Markers\n",
    "plt.plot(x,z, label='cosine', color='green',marker = '^')#Assigning Markers\n",
    "plt.legend()\n",
    "plt.plot()"
   ]
  },
  {
   "cell_type": "code",
   "execution_count": 1,
   "id": "f1bc2ff4",
   "metadata": {},
   "outputs": [
    {
     "name": "stdout",
     "output_type": "stream",
     "text": [
      "[ 5  7  9 11] [3] [ 9 11 13]\n"
     ]
    }
   ],
   "source": [
    "import numpy as np\n"
   ]
  },
  {
   "cell_type": "code",
   "execution_count": 2,
   "id": "bb4562bc",
   "metadata": {},
   "outputs": [
    {
     "name": "stdout",
     "output_type": "stream",
     "text": [
      "int32\n",
      "<U6\n"
     ]
    }
   ],
   "source": [
    "import numpy as np\n",
    "arr_dt1 = np.array([1,3,4,2,44,213])\n",
    "arr_dt2 = np.array(['Arthur','Rishi','Thakur'],dtype = 'str')\n",
    "print(arr_dt1.dtype)\n",
    "print(arr_dt2.dtype)"
   ]
  },
  {
   "cell_type": "code",
   "execution_count": 11,
   "id": "98a94bcc",
   "metadata": {},
   "outputs": [
    {
     "name": "stdout",
     "output_type": "stream",
     "text": [
      "Element of respective index is :  2 9 8\n"
     ]
    }
   ],
   "source": [
    "import numpy as np\n",
    "arr_index = np.asarray([[1,2,3],[4,5,6],[7,8,9]])\n",
    "a = arr_index[0][1]\n",
    "b = arr_index[2][2]\n",
    "c = arr_index[-1][1]\n",
    "print(\"Element of respective index is : \",a,b,c)"
   ]
  },
  {
   "cell_type": "code",
   "execution_count": 12,
   "id": "3087e7f1",
   "metadata": {},
   "outputs": [
    {
     "name": "stdout",
     "output_type": "stream",
     "text": [
      "Original array:  [412   4   6   8  90  12]\n",
      "Copied array:  [ 2  4  6  8 10 12]\n"
     ]
    }
   ],
   "source": [
    "#Copying Array\n",
    "import numpy as np\n",
    "arr1 = np.array([2,4,6,8,10,12])\n",
    "copy_arr = arr1.copy()\n",
    "arr1[4] = 90\n",
    "arr1[0] = 412\n",
    "print(\"Original array: \",arr1)\n",
    "print(\"Copied array: \",copy_arr)"
   ]
  },
  {
   "cell_type": "code",
   "execution_count": 13,
   "id": "de2b2eca",
   "metadata": {},
   "outputs": [
    {
     "name": "stdout",
     "output_type": "stream",
     "text": [
      "Before:  [11 22 33 44  5 66]\n",
      "After:  [11 22 33 44  5 66]\n"
     ]
    }
   ],
   "source": [
    "#View Array\n",
    "import numpy as np\n",
    "to_view_arr = np.array([11,22,33,44,5,66])\n",
    "varr = to_view_arr.view();\n",
    "print(\"Before: \",to_view_arr)\n",
    "print(\"After: \",varr)"
   ]
  },
  {
   "cell_type": "code",
   "execution_count": 15,
   "id": "ecf424d5",
   "metadata": {},
   "outputs": [
    {
     "name": "stdout",
     "output_type": "stream",
     "text": [
      "0     Rishi\n",
      "1        20\n",
      "2    Thakur\n",
      "3       179\n",
      "dtype: object\n",
      "<class 'pandas.core.series.Series'>\n"
     ]
    }
   ],
   "source": [
    "import pandas as pd\n",
    "list_to_convert = ['Rishi',20,'Thakur',179]\n",
    "pd_series = pd.Series(list_to_convert)\n",
    "print(pd_series)\n",
    "print(type(pd_series))"
   ]
  },
  {
   "cell_type": "code",
   "execution_count": 17,
   "id": "078ebee5",
   "metadata": {
    "scrolled": false
   },
   "outputs": [
    {
     "name": "stdout",
     "output_type": "stream",
     "text": [
      "  Characters  Age\n",
      "0      Rishi   20\n",
      "1     Arthur   35\n",
      "2     Geralt  121\n",
      "3       Jack   28\n"
     ]
    }
   ],
   "source": [
    "import pandas as pd\n",
    "#Creating DataFrame from list of lists\n",
    "data = [['Rishi',20],['Arthur',35],['Geralt',121],['Jack',28]]\n",
    "df = pd.DataFrame(data, columns = ['Characters','Age'])\n",
    "print(df)"
   ]
  },
  {
   "cell_type": "code",
   "execution_count": 1,
   "id": "561a9f1b",
   "metadata": {},
   "outputs": [],
   "source": [
    "import pandas as pd\n",
    "\n",
    "dap = pd.read_csv('learn.csv')"
   ]
  },
  {
   "cell_type": "code",
   "execution_count": 2,
   "id": "9bca7859",
   "metadata": {
    "scrolled": false
   },
   "outputs": [
    {
     "data": {
      "text/html": [
       "<div>\n",
       "<style scoped>\n",
       "    .dataframe tbody tr th:only-of-type {\n",
       "        vertical-align: middle;\n",
       "    }\n",
       "\n",
       "    .dataframe tbody tr th {\n",
       "        vertical-align: top;\n",
       "    }\n",
       "\n",
       "    .dataframe thead th {\n",
       "        text-align: right;\n",
       "    }\n",
       "</style>\n",
       "<table border=\"1\" class=\"dataframe\">\n",
       "  <thead>\n",
       "    <tr style=\"text-align: right;\">\n",
       "      <th></th>\n",
       "      <th>user_name</th>\n",
       "      <th>user_location</th>\n",
       "      <th>user_description</th>\n",
       "      <th>user_created</th>\n",
       "      <th>user_followers</th>\n",
       "      <th>user_friends</th>\n",
       "      <th>user_favourites</th>\n",
       "      <th>user_verified</th>\n",
       "      <th>date</th>\n",
       "      <th>text</th>\n",
       "      <th>hashtags</th>\n",
       "      <th>source</th>\n",
       "      <th>is_retweet</th>\n",
       "    </tr>\n",
       "  </thead>\n",
       "  <tbody>\n",
       "    <tr>\n",
       "      <th>0</th>\n",
       "      <td>ᏉᎥ☻լꂅϮ</td>\n",
       "      <td>astroworld</td>\n",
       "      <td>wednesday addams as a disney princess keepin i...</td>\n",
       "      <td>2017-05-26 05:46:42</td>\n",
       "      <td>624</td>\n",
       "      <td>950</td>\n",
       "      <td>18775</td>\n",
       "      <td>False</td>\n",
       "      <td>2020-07-25 12:27:21</td>\n",
       "      <td>If I smelled the scent of hand sanitizers toda...</td>\n",
       "      <td>NaN</td>\n",
       "      <td>Twitter for iPhone</td>\n",
       "      <td>False</td>\n",
       "    </tr>\n",
       "    <tr>\n",
       "      <th>1</th>\n",
       "      <td>Tom Basile 🇺🇸</td>\n",
       "      <td>New York, NY</td>\n",
       "      <td>Husband, Father, Columnist &amp; Commentator. Auth...</td>\n",
       "      <td>2009-04-16 20:06:23</td>\n",
       "      <td>2253</td>\n",
       "      <td>1677</td>\n",
       "      <td>24</td>\n",
       "      <td>True</td>\n",
       "      <td>2020-07-25 12:27:17</td>\n",
       "      <td>Hey @Yankees @YankeesPR and @MLB - wouldn't it...</td>\n",
       "      <td>NaN</td>\n",
       "      <td>Twitter for Android</td>\n",
       "      <td>False</td>\n",
       "    </tr>\n",
       "    <tr>\n",
       "      <th>2</th>\n",
       "      <td>Time4fisticuffs</td>\n",
       "      <td>Pewee Valley, KY</td>\n",
       "      <td>#Christian #Catholic #Conservative #Reagan #Re...</td>\n",
       "      <td>2009-02-28 18:57:41</td>\n",
       "      <td>9275</td>\n",
       "      <td>9525</td>\n",
       "      <td>7254</td>\n",
       "      <td>False</td>\n",
       "      <td>2020-07-25 12:27:14</td>\n",
       "      <td>@diane3443 @wdunlap @realDonaldTrump Trump nev...</td>\n",
       "      <td>['COVID19']</td>\n",
       "      <td>Twitter for Android</td>\n",
       "      <td>False</td>\n",
       "    </tr>\n",
       "    <tr>\n",
       "      <th>3</th>\n",
       "      <td>ethel mertz</td>\n",
       "      <td>Stuck in the Middle</td>\n",
       "      <td>#Browns #Indians #ClevelandProud #[]_[] #Cavs ...</td>\n",
       "      <td>2019-03-07 01:45:06</td>\n",
       "      <td>197</td>\n",
       "      <td>987</td>\n",
       "      <td>1488</td>\n",
       "      <td>False</td>\n",
       "      <td>2020-07-25 12:27:10</td>\n",
       "      <td>@brookbanktv The one gift #COVID19 has give me...</td>\n",
       "      <td>['COVID19']</td>\n",
       "      <td>Twitter for iPhone</td>\n",
       "      <td>False</td>\n",
       "    </tr>\n",
       "    <tr>\n",
       "      <th>4</th>\n",
       "      <td>DIPR-J&amp;K</td>\n",
       "      <td>Jammu and Kashmir</td>\n",
       "      <td>🖊️Official Twitter handle of Department of Inf...</td>\n",
       "      <td>2017-02-12 06:45:15</td>\n",
       "      <td>101009</td>\n",
       "      <td>168</td>\n",
       "      <td>101</td>\n",
       "      <td>False</td>\n",
       "      <td>2020-07-25 12:27:08</td>\n",
       "      <td>25 July : Media Bulletin on Novel #CoronaVirus...</td>\n",
       "      <td>['CoronaVirusUpdates', 'COVID19']</td>\n",
       "      <td>Twitter for Android</td>\n",
       "      <td>False</td>\n",
       "    </tr>\n",
       "    <tr>\n",
       "      <th>...</th>\n",
       "      <td>...</td>\n",
       "      <td>...</td>\n",
       "      <td>...</td>\n",
       "      <td>...</td>\n",
       "      <td>...</td>\n",
       "      <td>...</td>\n",
       "      <td>...</td>\n",
       "      <td>...</td>\n",
       "      <td>...</td>\n",
       "      <td>...</td>\n",
       "      <td>...</td>\n",
       "      <td>...</td>\n",
       "      <td>...</td>\n",
       "    </tr>\n",
       "    <tr>\n",
       "      <th>179103</th>\n",
       "      <td>AJIMATI AbdulRahman O.</td>\n",
       "      <td>Ilorin, Nigeria</td>\n",
       "      <td>Animal Scientist|| Muslim|| Real Madrid/Chelsea</td>\n",
       "      <td>2013-12-30 18:59:19</td>\n",
       "      <td>412</td>\n",
       "      <td>1609</td>\n",
       "      <td>1062</td>\n",
       "      <td>False</td>\n",
       "      <td>2020-08-29 19:44:21</td>\n",
       "      <td>Thanks @IamOhmai for nominating me for the @WH...</td>\n",
       "      <td>['WearAMask']</td>\n",
       "      <td>Twitter for Android</td>\n",
       "      <td>False</td>\n",
       "    </tr>\n",
       "    <tr>\n",
       "      <th>179104</th>\n",
       "      <td>Jason</td>\n",
       "      <td>Ontario</td>\n",
       "      <td>When your cat has more baking soda than Ninja ...</td>\n",
       "      <td>2011-12-21 04:41:30</td>\n",
       "      <td>150</td>\n",
       "      <td>182</td>\n",
       "      <td>7295</td>\n",
       "      <td>False</td>\n",
       "      <td>2020-08-29 19:44:16</td>\n",
       "      <td>2020! The year of insanity! Lol! #COVID19 http...</td>\n",
       "      <td>['COVID19']</td>\n",
       "      <td>Twitter for Android</td>\n",
       "      <td>False</td>\n",
       "    </tr>\n",
       "    <tr>\n",
       "      <th>179105</th>\n",
       "      <td>BEEHEMOTH ⏳</td>\n",
       "      <td>🇨🇦 Canada</td>\n",
       "      <td>⚒️ The Architects of Free Trade ⚒️ Really Did ...</td>\n",
       "      <td>2016-07-13 17:21:59</td>\n",
       "      <td>1623</td>\n",
       "      <td>2160</td>\n",
       "      <td>98000</td>\n",
       "      <td>False</td>\n",
       "      <td>2020-08-29 19:44:15</td>\n",
       "      <td>@CTVNews A powerful painting by Juan Lucena. I...</td>\n",
       "      <td>NaN</td>\n",
       "      <td>Twitter Web App</td>\n",
       "      <td>False</td>\n",
       "    </tr>\n",
       "    <tr>\n",
       "      <th>179106</th>\n",
       "      <td>Gary DelPonte</td>\n",
       "      <td>New York City</td>\n",
       "      <td>Global UX UI Visual Designer. StoryTeller, Mus...</td>\n",
       "      <td>2009-10-27 17:43:13</td>\n",
       "      <td>1338</td>\n",
       "      <td>1111</td>\n",
       "      <td>0</td>\n",
       "      <td>False</td>\n",
       "      <td>2020-08-29 19:44:14</td>\n",
       "      <td>More than 1,200 students test positive for #CO...</td>\n",
       "      <td>['COVID19']</td>\n",
       "      <td>Twitter for iPhone</td>\n",
       "      <td>False</td>\n",
       "    </tr>\n",
       "    <tr>\n",
       "      <th>179107</th>\n",
       "      <td>TUKY II</td>\n",
       "      <td>Aliwal North, South Africa</td>\n",
       "      <td>TOKELO SEKHOPA | TUKY II | LAST BORN | EISH TU...</td>\n",
       "      <td>2018-04-14 17:30:07</td>\n",
       "      <td>97</td>\n",
       "      <td>1697</td>\n",
       "      <td>566</td>\n",
       "      <td>False</td>\n",
       "      <td>2020-08-29 19:44:08</td>\n",
       "      <td>I stop when I see a Stop\\n\\n@SABCNews\\n@Izinda...</td>\n",
       "      <td>NaN</td>\n",
       "      <td>Twitter for Android</td>\n",
       "      <td>False</td>\n",
       "    </tr>\n",
       "  </tbody>\n",
       "</table>\n",
       "<p>179108 rows × 13 columns</p>\n",
       "</div>"
      ],
      "text/plain": [
       "                     user_name               user_location  \\\n",
       "0                       ᏉᎥ☻լꂅϮ                  astroworld   \n",
       "1                Tom Basile 🇺🇸                New York, NY   \n",
       "2              Time4fisticuffs            Pewee Valley, KY   \n",
       "3                  ethel mertz        Stuck in the Middle    \n",
       "4                     DIPR-J&K           Jammu and Kashmir   \n",
       "...                        ...                         ...   \n",
       "179103  AJIMATI AbdulRahman O.             Ilorin, Nigeria   \n",
       "179104                   Jason                     Ontario   \n",
       "179105             BEEHEMOTH ⏳                   🇨🇦 Canada   \n",
       "179106           Gary DelPonte               New York City   \n",
       "179107                 TUKY II  Aliwal North, South Africa   \n",
       "\n",
       "                                         user_description  \\\n",
       "0       wednesday addams as a disney princess keepin i...   \n",
       "1       Husband, Father, Columnist & Commentator. Auth...   \n",
       "2       #Christian #Catholic #Conservative #Reagan #Re...   \n",
       "3       #Browns #Indians #ClevelandProud #[]_[] #Cavs ...   \n",
       "4       🖊️Official Twitter handle of Department of Inf...   \n",
       "...                                                   ...   \n",
       "179103    Animal Scientist|| Muslim|| Real Madrid/Chelsea   \n",
       "179104  When your cat has more baking soda than Ninja ...   \n",
       "179105  ⚒️ The Architects of Free Trade ⚒️ Really Did ...   \n",
       "179106  Global UX UI Visual Designer. StoryTeller, Mus...   \n",
       "179107  TOKELO SEKHOPA | TUKY II | LAST BORN | EISH TU...   \n",
       "\n",
       "               user_created  user_followers  user_friends  user_favourites  \\\n",
       "0       2017-05-26 05:46:42             624           950            18775   \n",
       "1       2009-04-16 20:06:23            2253          1677               24   \n",
       "2       2009-02-28 18:57:41            9275          9525             7254   \n",
       "3       2019-03-07 01:45:06             197           987             1488   \n",
       "4       2017-02-12 06:45:15          101009           168              101   \n",
       "...                     ...             ...           ...              ...   \n",
       "179103  2013-12-30 18:59:19             412          1609             1062   \n",
       "179104  2011-12-21 04:41:30             150           182             7295   \n",
       "179105  2016-07-13 17:21:59            1623          2160            98000   \n",
       "179106  2009-10-27 17:43:13            1338          1111                0   \n",
       "179107  2018-04-14 17:30:07              97          1697              566   \n",
       "\n",
       "        user_verified                 date  \\\n",
       "0               False  2020-07-25 12:27:21   \n",
       "1                True  2020-07-25 12:27:17   \n",
       "2               False  2020-07-25 12:27:14   \n",
       "3               False  2020-07-25 12:27:10   \n",
       "4               False  2020-07-25 12:27:08   \n",
       "...               ...                  ...   \n",
       "179103          False  2020-08-29 19:44:21   \n",
       "179104          False  2020-08-29 19:44:16   \n",
       "179105          False  2020-08-29 19:44:15   \n",
       "179106          False  2020-08-29 19:44:14   \n",
       "179107          False  2020-08-29 19:44:08   \n",
       "\n",
       "                                                     text  \\\n",
       "0       If I smelled the scent of hand sanitizers toda...   \n",
       "1       Hey @Yankees @YankeesPR and @MLB - wouldn't it...   \n",
       "2       @diane3443 @wdunlap @realDonaldTrump Trump nev...   \n",
       "3       @brookbanktv The one gift #COVID19 has give me...   \n",
       "4       25 July : Media Bulletin on Novel #CoronaVirus...   \n",
       "...                                                   ...   \n",
       "179103  Thanks @IamOhmai for nominating me for the @WH...   \n",
       "179104  2020! The year of insanity! Lol! #COVID19 http...   \n",
       "179105  @CTVNews A powerful painting by Juan Lucena. I...   \n",
       "179106  More than 1,200 students test positive for #CO...   \n",
       "179107  I stop when I see a Stop\\n\\n@SABCNews\\n@Izinda...   \n",
       "\n",
       "                                 hashtags               source  is_retweet  \n",
       "0                                     NaN   Twitter for iPhone       False  \n",
       "1                                     NaN  Twitter for Android       False  \n",
       "2                             ['COVID19']  Twitter for Android       False  \n",
       "3                             ['COVID19']   Twitter for iPhone       False  \n",
       "4       ['CoronaVirusUpdates', 'COVID19']  Twitter for Android       False  \n",
       "...                                   ...                  ...         ...  \n",
       "179103                      ['WearAMask']  Twitter for Android       False  \n",
       "179104                        ['COVID19']  Twitter for Android       False  \n",
       "179105                                NaN      Twitter Web App       False  \n",
       "179106                        ['COVID19']   Twitter for iPhone       False  \n",
       "179107                                NaN  Twitter for Android       False  \n",
       "\n",
       "[179108 rows x 13 columns]"
      ]
     },
     "execution_count": 2,
     "metadata": {},
     "output_type": "execute_result"
    }
   ],
   "source": [
    "dap"
   ]
  },
  {
   "cell_type": "code",
   "execution_count": null,
   "id": "d395341f",
   "metadata": {},
   "outputs": [],
   "source": []
  }
 ],
 "metadata": {
  "kernelspec": {
   "display_name": "Python 3 (ipykernel)",
   "language": "python",
   "name": "python3"
  },
  "language_info": {
   "codemirror_mode": {
    "name": "ipython",
    "version": 3
   },
   "file_extension": ".py",
   "mimetype": "text/x-python",
   "name": "python",
   "nbconvert_exporter": "python",
   "pygments_lexer": "ipython3",
   "version": "3.9.7"
  }
 },
 "nbformat": 4,
 "nbformat_minor": 5
}
